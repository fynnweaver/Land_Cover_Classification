{
 "cells": [
  {
   "cell_type": "markdown",
   "id": "d938f933-76fc-4483-8bc4-0938516cecf2",
   "metadata": {},
   "source": [
    "# Set up"
   ]
  },
  {
   "cell_type": "code",
   "execution_count": 3,
   "id": "52a86f55-cb12-47d9-89f8-50791edd9991",
   "metadata": {},
   "outputs": [],
   "source": [
    "import os\n",
    "import sys\n",
    "#set custom path\n",
    "sys.path.insert(0, os.path.abspath(r'\\users\\fynn\\documents\\anaconda\\envs\\tf_keras_gpu_test\\lib\\site-packages'))\n",
    "\n",
    "import tensorflow as tf\n",
    "gpus = tf.config.experimental.list_physical_devices('GPU')\n",
    "if gpus:\n",
    "    try:\n",
    "        # Currently, memory growth needs to be the same across GPUs\n",
    "        for gpu in gpus:\n",
    "            tf.config.experimental.set_memory_growth(gpu, True)\n",
    "        logical_gpus = tf.config.experimental.list_logical_devices('GPU')\n",
    "        print(len(gpus), \"Physical GPUs,\", len(logical_gpus), \"Logical GPUs\")\n",
    "    except RuntimeError as e:\n",
    "        # Memory growth must be set before GPUs have been initialized\n",
    "        print(e)"
   ]
  },
  {
   "cell_type": "code",
   "execution_count": 4,
   "id": "8878e278-ba85-4c19-a73e-8a10d3616e38",
   "metadata": {},
   "outputs": [],
   "source": [
    "from tensorflow.keras import models\n",
    "from tensorflow.keras import layers\n",
    "#for data encoding\n",
    "from tensorflow.keras.utils import to_categorical\n",
    "from tensorflow import keras\n",
    "\n",
    "import numpy as np\n",
    "import pandas as pd\n",
    "\n",
    "from sklearn.model_selection import train_test_split\n",
    "from sklearn.metrics import classification_report\n",
    "from sklearn.preprocessing import StandardScaler"
   ]
  },
  {
   "cell_type": "code",
   "execution_count": 5,
   "id": "73f80897-3ef4-4ad3-9ae0-50b26fb73f9d",
   "metadata": {},
   "outputs": [
    {
     "data": {
      "text/plain": [
       "(216000, 12)"
      ]
     },
     "execution_count": 5,
     "metadata": {},
     "output_type": "execute_result"
    }
   ],
   "source": [
    "#load data\n",
    "data = pd.read_csv('data/testtrain.csv') #each row is color name, then RGB values (4 columns)\n",
    "\n",
    "y = data.y\n",
    "X = np.asarray(data.drop('y', axis = 1))\n",
    "\n",
    "#test train split\n",
    "X_train, X_test, y_train, y_test = train_test_split(X, y, stratify = y, train_size=0.8, random_state = 0)\n",
    "X_train.shape"
   ]
  },
  {
   "cell_type": "code",
   "execution_count": 31,
   "id": "b211153b-3fd1-47ff-850a-f09d4fede1b7",
   "metadata": {},
   "outputs": [],
   "source": [
    "scaler = StandardScaler()\n",
    "X_train = scaler.fit_transform(X_train)\n",
    "X_test = scaler.transform(X_test)"
   ]
  },
  {
   "cell_type": "code",
   "execution_count": 6,
   "id": "e5d74118-6820-4b70-95d6-2e7ebec81fee",
   "metadata": {},
   "outputs": [],
   "source": [
    "#translate class labels\n",
    "seq_classes = list(range(len(y_train.unique())))\n",
    "seq_y_train = y_train.replace(y_train.unique(), seq_classes)\n",
    "seq_y_test = y_test.replace(y_test.unique(), seq_classes)"
   ]
  },
  {
   "cell_type": "code",
   "execution_count": 7,
   "id": "b2e820a7-2e45-444e-85fb-a1b8b0b172ac",
   "metadata": {},
   "outputs": [
    {
     "data": {
      "text/plain": [
       "195713     0\n",
       "101137     1\n",
       "54696      2\n",
       "74083      3\n",
       "90035      1\n",
       "          ..\n",
       "164709     6\n",
       "33793     12\n",
       "40377      7\n",
       "202291    13\n",
       "86389      3\n",
       "Name: y, Length: 216000, dtype: int64"
      ]
     },
     "execution_count": 7,
     "metadata": {},
     "output_type": "execute_result"
    }
   ],
   "source": [
    "seq_y_train"
   ]
  },
  {
   "cell_type": "markdown",
   "id": "90fd3fce-a303-4e00-99f9-7effd8c0bce0",
   "metadata": {},
   "source": [
    "# Model"
   ]
  },
  {
   "cell_type": "code",
   "execution_count": 11,
   "id": "4c9100ab-1d33-4d7a-91ac-dad426a3dca0",
   "metadata": {},
   "outputs": [],
   "source": [
    "#to ensure our model does not interpret int classes as regression we encode target as categories\n",
    "train_labels = to_categorical(seq_y_train, num_classes = 15)\n",
    "test_labels = to_categorical(seq_y_test, num_classes = 15)"
   ]
  },
  {
   "cell_type": "code",
   "execution_count": 12,
   "id": "2a702a26-61f8-49f9-aa42-e6caf6eb6b4f",
   "metadata": {},
   "outputs": [
    {
     "data": {
      "text/plain": [
       "array([[1., 0., 0., 0., 0., 0., 0., 0., 0., 0., 0., 0., 0., 0., 0.],\n",
       "       [0., 1., 0., 0., 0., 0., 0., 0., 0., 0., 0., 0., 0., 0., 0.],\n",
       "       [0., 0., 1., 0., 0., 0., 0., 0., 0., 0., 0., 0., 0., 0., 0.],\n",
       "       [0., 0., 0., 1., 0., 0., 0., 0., 0., 0., 0., 0., 0., 0., 0.],\n",
       "       [0., 1., 0., 0., 0., 0., 0., 0., 0., 0., 0., 0., 0., 0., 0.]],\n",
       "      dtype=float32)"
      ]
     },
     "execution_count": 12,
     "metadata": {},
     "output_type": "execute_result"
    }
   ],
   "source": [
    "train_labels[:5]"
   ]
  },
  {
   "cell_type": "code",
   "execution_count": 15,
   "id": "e499457b-8723-4a52-a446-d31ba502f25e",
   "metadata": {},
   "outputs": [],
   "source": [
    "#call basic feed forward NN\n",
    "network = models.Sequential()\n",
    "#build layers\n",
    "#input layers (unit, activation, input)\n",
    "network.add(layers.Dense(24, activation = 'relu', input_shape = (12*1,)))\n",
    "#hidden layer [try without input_shape to see if it works]\n",
    "network.add(layers.Dense(784, activation = 'relu'))\n",
    "network.add(layers.Dropout(0.2))\n",
    "#output layer\n",
    "network.add(layers.Dense(15, activation = 'softmax'))\n",
    "\n",
    "\n",
    "opt = keras.optimizers.Adam(learning_rate=0.01)\n",
    "#compile model to configure for training\n",
    "network.compile(optimizer=opt, #optomizers are basically different versions of Stochastic GD\n",
    "                loss = 'categorical_crossentropy',\n",
    "                metrics=['categorical_accuracy'])"
   ]
  },
  {
   "cell_type": "code",
   "execution_count": 16,
   "id": "ee150132-5d13-449e-b025-ea1510afa3a7",
   "metadata": {},
   "outputs": [
    {
     "name": "stdout",
     "output_type": "stream",
     "text": [
      "Epoch 1/20\n",
      "1728/1728 [==============================] - 2s 1ms/step - loss: 1.5261 - categorical_accuracy: 0.4332 - val_loss: 1.3805 - val_categorical_accuracy: 0.4829\n",
      "Epoch 2/20\n",
      "1728/1728 [==============================] - 2s 1ms/step - loss: 1.3851 - categorical_accuracy: 0.4796 - val_loss: 1.3366 - val_categorical_accuracy: 0.4934\n",
      "Epoch 3/20\n",
      "1728/1728 [==============================] - 2s 1ms/step - loss: 1.3401 - categorical_accuracy: 0.5006 - val_loss: 1.3016 - val_categorical_accuracy: 0.5072\n",
      "Epoch 4/20\n",
      "1728/1728 [==============================] - 2s 1ms/step - loss: 1.3230 - categorical_accuracy: 0.5068 - val_loss: 1.2947 - val_categorical_accuracy: 0.5201\n",
      "Epoch 5/20\n",
      "1728/1728 [==============================] - 2s 1ms/step - loss: 1.3043 - categorical_accuracy: 0.5144 - val_loss: 1.2683 - val_categorical_accuracy: 0.5225\n",
      "Epoch 6/20\n",
      "1728/1728 [==============================] - 2s 1ms/step - loss: 1.2974 - categorical_accuracy: 0.5173 - val_loss: 1.2676 - val_categorical_accuracy: 0.5230\n",
      "Epoch 7/20\n",
      "1728/1728 [==============================] - 2s 1ms/step - loss: 1.2881 - categorical_accuracy: 0.5195 - val_loss: 1.2820 - val_categorical_accuracy: 0.5035\n",
      "Epoch 8/20\n",
      "1728/1728 [==============================] - 2s 1ms/step - loss: 1.2834 - categorical_accuracy: 0.5209 - val_loss: 1.3250 - val_categorical_accuracy: 0.5069\n",
      "Epoch 9/20\n",
      "1728/1728 [==============================] - 2s 1ms/step - loss: 1.2790 - categorical_accuracy: 0.5223 - val_loss: 1.2871 - val_categorical_accuracy: 0.5222\n",
      "Epoch 10/20\n",
      "1728/1728 [==============================] - 2s 1ms/step - loss: 1.2734 - categorical_accuracy: 0.5248 - val_loss: 1.2867 - val_categorical_accuracy: 0.5186\n",
      "Epoch 11/20\n",
      "1728/1728 [==============================] - 2s 1ms/step - loss: 1.2690 - categorical_accuracy: 0.5282 - val_loss: 1.2784 - val_categorical_accuracy: 0.5212\n",
      "Epoch 12/20\n",
      "1728/1728 [==============================] - 2s 1ms/step - loss: 1.2661 - categorical_accuracy: 0.5296 - val_loss: 1.2532 - val_categorical_accuracy: 0.5275\n",
      "Epoch 13/20\n",
      "1728/1728 [==============================] - 2s 1ms/step - loss: 1.2589 - categorical_accuracy: 0.5329 - val_loss: 1.2448 - val_categorical_accuracy: 0.5357\n",
      "Epoch 14/20\n",
      "1728/1728 [==============================] - 2s 1ms/step - loss: 1.2566 - categorical_accuracy: 0.5340 - val_loss: 1.2145 - val_categorical_accuracy: 0.5486\n",
      "Epoch 15/20\n",
      "1728/1728 [==============================] - 2s 1ms/step - loss: 1.2572 - categorical_accuracy: 0.5313 - val_loss: 1.2127 - val_categorical_accuracy: 0.5474\n",
      "Epoch 16/20\n",
      "1728/1728 [==============================] - 2s 1ms/step - loss: 1.2552 - categorical_accuracy: 0.5333 - val_loss: 1.2229 - val_categorical_accuracy: 0.5494\n",
      "Epoch 17/20\n",
      "1728/1728 [==============================] - 2s 1ms/step - loss: 1.2525 - categorical_accuracy: 0.5356 - val_loss: 1.2281 - val_categorical_accuracy: 0.5423\n",
      "Epoch 18/20\n",
      "1728/1728 [==============================] - 2s 1ms/step - loss: 1.2492 - categorical_accuracy: 0.5357 - val_loss: 1.2414 - val_categorical_accuracy: 0.5366\n",
      "Epoch 19/20\n",
      "1728/1728 [==============================] - 2s 1ms/step - loss: 1.2486 - categorical_accuracy: 0.5365 - val_loss: 1.2225 - val_categorical_accuracy: 0.5441\n",
      "Epoch 20/20\n",
      "1728/1728 [==============================] - 2s 1ms/step - loss: 1.2443 - categorical_accuracy: 0.5376 - val_loss: 1.2126 - val_categorical_accuracy: 0.5521\n"
     ]
    },
    {
     "data": {
      "text/plain": [
       "<keras.callbacks.History at 0x1bdd6cceb20>"
      ]
     },
     "execution_count": 16,
     "metadata": {},
     "output_type": "execute_result"
    }
   ],
   "source": [
    "#fit to train data\n",
    "network.fit(X_train, train_labels, epochs=20, batch_size = 100, validation_split = 0.2)"
   ]
  },
  {
   "cell_type": "code",
   "execution_count": 17,
   "id": "9f34d840-c03c-443d-8b92-b901e434fe0d",
   "metadata": {},
   "outputs": [
    {
     "name": "stdout",
     "output_type": "stream",
     "text": [
      "[2 8 9 5 8] [array([0, 1, 2, 3, 1], dtype=int64)]\n",
      "              precision    recall  f1-score   support\n",
      "\n",
      "           0       0.02      0.03      0.02      3600\n",
      "           1       0.00      0.00      0.00      3600\n",
      "           2       0.01      0.01      0.01      3600\n",
      "           3       0.00      0.00      0.00      3600\n",
      "           4       0.00      0.00      0.00      3600\n",
      "           5       0.00      0.00      0.00      3600\n",
      "           6       0.00      0.00      0.00      3600\n",
      "           7       0.02      0.03      0.03      3600\n",
      "           8       0.00      0.00      0.00      3600\n",
      "           9       0.00      0.00      0.00      3600\n",
      "          10       0.01      0.01      0.01      3600\n",
      "          11       0.05      0.05      0.05      3600\n",
      "          12       0.03      0.03      0.03      3600\n",
      "          13       0.00      0.00      0.00      3600\n",
      "          14       0.01      0.00      0.01      3600\n",
      "\n",
      "    accuracy                           0.01     54000\n",
      "   macro avg       0.01      0.01      0.01     54000\n",
      "weighted avg       0.01      0.01      0.01     54000\n",
      "\n"
     ]
    }
   ],
   "source": [
    "network_prob = network.predict(X_test)\n",
    "network_pred = network_prob.argmax(axis=-1)\n",
    "print(network_pred[:5], [seq_y_test[:5].values])\n",
    "print(classification_report(seq_y_test, network_pred))"
   ]
  },
  {
   "cell_type": "markdown",
   "id": "4cd152aa-1451-46f9-9498-ae2e8d69ac0a",
   "metadata": {},
   "source": [
    "# Convolutional"
   ]
  },
  {
   "cell_type": "code",
   "execution_count": null,
   "id": "6aa6fe7a-8a3c-419d-882a-6e77efeb874e",
   "metadata": {},
   "outputs": [],
   "source": []
  }
 ],
 "metadata": {
  "kernelspec": {
   "display_name": "Python 3 (ipykernel)",
   "language": "python",
   "name": "python3"
  },
  "language_info": {
   "codemirror_mode": {
    "name": "ipython",
    "version": 3
   },
   "file_extension": ".py",
   "mimetype": "text/x-python",
   "name": "python",
   "nbconvert_exporter": "python",
   "pygments_lexer": "ipython3",
   "version": "3.9.7"
  }
 },
 "nbformat": 4,
 "nbformat_minor": 5
}
