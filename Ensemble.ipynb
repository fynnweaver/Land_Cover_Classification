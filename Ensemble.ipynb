{
 "cells": [
  {
   "cell_type": "markdown",
   "id": "a04b85d7-5a6f-4f13-91df-2ca20a54dc35",
   "metadata": {},
   "source": [
    "## Set up"
   ]
  },
  {
   "cell_type": "code",
   "execution_count": 1,
   "id": "79ba9c3e-eecc-41a9-9c11-6047976f6f9f",
   "metadata": {},
   "outputs": [],
   "source": [
    "import pickle\n",
    "from copy import deepcopy\n",
    "import pandas as pd\n",
    "import numpy as np\n",
    "from osgeo.gdalconst import *\n",
    "from osgeo import gdal\n",
    "from scipy.ndimage import gaussian_filter, median_filter\n",
    "#visualization\n",
    "import matplotlib.pyplot as plt\n",
    "from matplotlib import cm\n",
    "\n",
    "from sklearn.metrics import confusion_matrix, ConfusionMatrixDisplay, classification_report, accuracy_score, balanced_accuracy_score"
   ]
  },
  {
   "cell_type": "code",
   "execution_count": null,
   "id": "fe096d9f-92ba-4ea8-8958-67725664013b",
   "metadata": {},
   "outputs": [],
   "source": [
    "#import custom functions\n",
    "from custom_functions import *"
   ]
  },
  {
   "cell_type": "markdown",
   "id": "5891e4ef-78fd-4212-8ee8-ebdee20ad91e",
   "metadata": {},
   "source": [
    "## Combine Forests with different features"
   ]
  },
  {
   "cell_type": "code",
   "execution_count": null,
   "id": "3f7f5c38-2566-41d7-aa09-27625523679b",
   "metadata": {},
   "outputs": [],
   "source": [
    "#load in models - 14_13\n",
    "forest_14 = pickle.load(open('../models/forest14.sav', 'rb'))\n",
    "forest_13 = pickle.load(open('../models/forest_13.sav', 'rb'))"
   ]
  },
  {
   "cell_type": "code",
   "execution_count": null,
   "id": "2f89041b-8b8f-4343-95ac-96d63bfc8777",
   "metadata": {},
   "outputs": [],
   "source": [
    "#load in models\n",
    "forest_14 = pickle.load(open('../models/forest14.sav', 'rb'))\n",
    "forest_15 = pickle.load(open('../models/forest15.sav', 'rb'))\n",
    "forest_13 = pickle.load(open('../models/forest_13.sav', 'rb'))\n",
    "xgb_bin14_v2 = pickle.load(open('../models/xgb_bin14_v2.sav', 'rb'))"
   ]
  },
  {
   "cell_type": "code",
   "execution_count": null,
   "id": "f07f4050-6eca-4616-8a64-36b9b23a6127",
   "metadata": {},
   "outputs": [],
   "source": [
    "#load in models\n",
    "forest_15 = pickle.load(open('../models/forest15.sav', 'rb'))\n",
    "forest_16 = pickle.load(open('../models/forest_16.sav', 'rb'))\n",
    "xgb_bin14 = pickle.load(open('../models/xgb_bin14.sav', 'rb'))"
   ]
  },
  {
   "cell_type": "markdown",
   "id": "0c4d2330-bfeb-4106-b371-b8b6a95699bd",
   "metadata": {},
   "source": [
    "### Demo test"
   ]
  },
  {
   "cell_type": "markdown",
   "id": "101cf12c-30ec-4d08-93be-741d1dbf8999",
   "metadata": {},
   "source": [
    "#### Process and predict options"
   ]
  },
  {
   "cell_type": "markdown",
   "id": "f4a560eb-91c5-4698-9ccc-27632454eafd",
   "metadata": {},
   "source": [
    "Run different cells for different combined models. See `evaluation_legend.md` for more information."
   ]
  },
  {
   "cell_type": "code",
   "execution_count": null,
   "id": "2487a0ba-6eb2-4d9c-b15a-ab6cd5b73021",
   "metadata": {},
   "outputs": [],
   "source": [
    "#Processing for 14_13\n",
    "process_14_13 = {\n",
    "                       'target_edge': ['B8A', None],\n",
    "                        'target_outlier' : ['B01', False],\n",
    "                        'gaussian' : [False, True],\n",
    "                        'clustering' : [False, 'models/kcluster_13.sav'],\n",
    "                        'calculate_layers' : [True, True]}\n",
    "binary_14_13 = None\n",
    "\n",
    "combo_pred, y_true = predict_combo([forest_14, forest_13], '../data_tests/demo_site.csv',  '../data_tests/demo/raws',\n",
    "                                  process_dict = process_14_13)\n",
    "#combine predictions based on class list\n",
    "final_pred = combine_pred(combo_pred, class_lists = [[15]], binary = binary_14_13)"
   ]
  },
  {
   "cell_type": "code",
   "execution_count": null,
   "id": "4f741ec4-de0f-4952-bed0-71f8c8183978",
   "metadata": {},
   "outputs": [
    {
     "ename": "TypeError",
     "evalue": "predict_combo() got multiple values for argument 'process_dict'",
     "output_type": "error",
     "traceback": [
      "\u001b[1;31m---------------------------------------------------------------------------\u001b[0m",
      "\u001b[1;31mTypeError\u001b[0m                                 Traceback (most recent call last)",
      "\u001b[1;32m~\\AppData\\Local\\Temp/ipykernel_6744/1169830948.py\u001b[0m in \u001b[0;36m<module>\u001b[1;34m\u001b[0m\n\u001b[0;32m      8\u001b[0m \u001b[0mbinary_14_bin14_13\u001b[0m \u001b[1;33m=\u001b[0m \u001b[1;33m{\u001b[0m\u001b[1;34m'model'\u001b[0m\u001b[1;33m:\u001b[0m \u001b[1;33m[\u001b[0m\u001b[1;36m1\u001b[0m\u001b[1;33m]\u001b[0m\u001b[1;33m,\u001b[0m \u001b[1;34m'class'\u001b[0m\u001b[1;33m:\u001b[0m \u001b[1;33m[\u001b[0m\u001b[1;36m14\u001b[0m\u001b[1;33m]\u001b[0m\u001b[1;33m}\u001b[0m\u001b[1;33m\u001b[0m\u001b[1;33m\u001b[0m\u001b[0m\n\u001b[0;32m      9\u001b[0m \u001b[1;33m\u001b[0m\u001b[0m\n\u001b[1;32m---> 10\u001b[1;33m combo_pred, y_true = predict_combo([forest_14, xgb_bin14, forest_13], '../data_tests/demo_site.csv',  '../data_tests/demo/raws',\n\u001b[0m\u001b[0;32m     11\u001b[0m                                   process_dict = process_14_bin14_13, binary = binary_14_bin14_13)\n",
      "\u001b[1;31mTypeError\u001b[0m: predict_combo() got multiple values for argument 'process_dict'"
     ]
    }
   ],
   "source": [
    "#Processing for 14_bbin14_13\n",
    "process_14_bin14_13 = {\n",
    "                       'target_edge': ['B8A', None, None],\n",
    "                        'target_outlier' : ['B01f', False, False],\n",
    "                        'gaussian' : [False, False, True],\n",
    "                        'clustering' : [False, False, '../models/kcluster_13.sav'],\n",
    "                        'calculate_layers' : [True, 'Extra', True]}\n",
    "binary_14_bin14_13 = {'model': [1], 'class': [14]}\n",
    "\n",
    "combo_pred, y_true = predict_combo([forest_14, xgb_bin14, forest_13], '../data_tests/demo_site.csv',  '../data_tests/demo/raws',\n",
    "                                  process_dict = process_14_bin14_13, binary = binary_14_bin14_13)\n",
    "#combine predictions based on class list\n",
    "final_pred = combine_pred(combo_pred, class_lists = [[14], [15]], binary = binary_14_bin14_13)"
   ]
  },
  {
   "cell_type": "code",
   "execution_count": null,
   "id": "4c30955b-caca-47f7-accc-c25de33ce630",
   "metadata": {},
   "outputs": [],
   "source": [
    "#Processing for 15_bbin14_16\n",
    "process_15_bin14_16 = {\n",
    "                       'target_edge': ['B8A', None, 'B8A'],\n",
    "                        'geocoords': [True, False, True],\n",
    "                        'target_outlier' : [False, False, 'B01f'],\n",
    "                        'gaussian' : [False, False, True],\n",
    "                        'clustering' : [False, False, False],\n",
    "                        'calculate_layers' : [True, 'Extra', True]}\n",
    "binary_15_bin14_16 = {'model': [1], 'class': [14]}\n",
    "\n",
    "#generate process data and predicitons from each model\n",
    "combo_pred_list, y_true = predict_combo([forest_15, xgb_bin14, forest_16], '../data_tests/demo_site.csv',  '../data_tests/demo/raws',\n",
    "                                   process_dict = process_15_bin14_16, binary = binary_15_bin14_16)\n",
    "\n",
    "#combine predictions based on class list\n",
    "combo_pred = combine_pred(combo_pred_list, class_lists = [[14], [15]], binary = binary_15_bin14_16)"
   ]
  },
  {
   "cell_type": "code",
   "execution_count": null,
   "id": "855f8fc6-d041-44c1-b3eb-5ad109a267b9",
   "metadata": {},
   "outputs": [],
   "source": [
    "demo_site = pd.read_csv('../data_tests/demo_site.csv')\n",
    "y_true = demo_site['land_cover']\n",
    "y_true = y_true.values.reshape(2500, 2100).T\n",
    "y_true = y_true.flatten()"
   ]
  },
  {
   "cell_type": "markdown",
   "id": "24265870-0c16-4a4e-8fa0-2e5f161565c0",
   "metadata": {},
   "source": [
    "#### Evaluation"
   ]
  },
  {
   "cell_type": "code",
   "execution_count": null,
   "id": "8302ce48-6e05-4933-ba3f-ee509b7aca76",
   "metadata": {},
   "outputs": [],
   "source": [
    "#accuracy\n",
    "print(balanced_accuracy_score(y_true, combo_pred))\n",
    "print(accuracy_score(y_true, combo_pred))\n",
    "\n",
    "#confusion matrix\n",
    "cm_forest = confusion_matrix(y_true, combo_pred)\n",
    "cm_forest_fig = ConfusionMatrixDisplay(confusion_matrix = cm_forest)\n",
    "fig, ax = plt.subplots(figsize=(10,10))\n",
    "cm_forest_fig.plot(ax = ax)"
   ]
  },
  {
   "cell_type": "code",
   "execution_count": null,
   "id": "ef29224b-9a29-4bc9-8ee3-24b2a53f1d75",
   "metadata": {},
   "outputs": [],
   "source": [
    "map_pred = np.asarray(combo_pred.values).reshape(2100, 2500)\n",
    "cmap = cm.get_cmap('jet', 19)    # 11 discrete colors\n",
    "prediction_map = plt.imshow(map_pred, cmap=cmap)"
   ]
  },
  {
   "cell_type": "code",
   "execution_count": null,
   "id": "62c487c0-71c3-44d4-85f6-af6fe05fda63",
   "metadata": {},
   "outputs": [],
   "source": [
    "map_pred = np.asarray(y_true).reshape(2100, 2500)\n",
    "cmap = cm.get_cmap('jet', 19)    # 11 discrete colors\n",
    "prediction_map = plt.imshow(map_pred, cmap=cmap)"
   ]
  },
  {
   "cell_type": "code",
   "execution_count": null,
   "id": "47e77810-0210-4e3d-ae6a-6b445f9a5626",
   "metadata": {},
   "outputs": [],
   "source": [
    "#OPTIONAL: save matrix and map as versions\n",
    "#save confusion matrix\n",
    "cm_forest_fig.figure_.savefig(os.path.join('evaluation', 'demo/combo', '15_xgbin14_16_cm.png'))\n",
    "\n",
    "#save prediction map\n",
    "prediction_map.figure.savefig(os.path.join('evaluation', 'demo/combo', '15_xgbin14_16_map.png'))"
   ]
  },
  {
   "cell_type": "code",
   "execution_count": null,
   "id": "23957504-bc0a-42d1-9994-f2c06f472b17",
   "metadata": {},
   "outputs": [],
   "source": [
    "print(classification_report(y_true, combo_pred, zero_division = 1))"
   ]
  },
  {
   "cell_type": "markdown",
   "id": "5c493109-7615-4774-8371-45bb14791be7",
   "metadata": {},
   "source": [
    "### Random extent test"
   ]
  },
  {
   "cell_type": "markdown",
   "id": "e4d198d3-854d-419c-a694-95af399871de",
   "metadata": {},
   "source": [
    "#### Combination"
   ]
  },
  {
   "cell_type": "code",
   "execution_count": null,
   "id": "76d590c0-b0dc-4d75-a040-443414d0f2db",
   "metadata": {},
   "outputs": [],
   "source": [
    "combo_pred_list = predict_combo([forest_15, xgb_bin14, forest_16], None, '../data_tests/calgary/raws', index = [-14, -11], \n",
    "                                   process_dict = process_15_bin14_16, binary = binary_15_bin14_16, nrcan_name = 'NRCAN_transformed.tif')"
   ]
  },
  {
   "cell_type": "code",
   "execution_count": null,
   "id": "9cb37c64-2076-47f9-853a-9e9313f1a8ea",
   "metadata": {},
   "outputs": [],
   "source": [
    "#combine predictions based on class list\n",
    "combo_pred = combine_pred(combo_pred_list, class_lists = [[14], [15]], binary = binary_15_bin14_16)"
   ]
  },
  {
   "cell_type": "code",
   "execution_count": null,
   "id": "f560d765-a987-4203-8eb9-c40001b407ac",
   "metadata": {},
   "outputs": [],
   "source": [
    "cal_raws = gdal_to_dataframe('../data_tests/calgary/raws')\n",
    "y_true = cal_raws['y']\n",
    "\n"
   ]
  },
  {
   "cell_type": "code",
   "execution_count": null,
   "id": "99690ba6-83d5-4393-be64-e636017f8567",
   "metadata": {},
   "outputs": [],
   "source": [
    "combo_pred = combine_pred(combo_pred_list, class_lists = [[14], [15]], binary = binary_15_bin14_16)"
   ]
  },
  {
   "cell_type": "code",
   "execution_count": null,
   "id": "dc80edcb-9cac-4578-ad90-e56022ce57eb",
   "metadata": {},
   "outputs": [],
   "source": [
    "combo_pred, y_true = predict_combo([forest_14, xgb_bin14, forest_13], None, '../data_tests/calgary/raws', index = [-14, -11], \n",
    "                                   process_dict = process_10_bin14_13, binary = binary_10_bin14_13, nrcan_name = 'NRCAN_transformed.tif')"
   ]
  },
  {
   "cell_type": "code",
   "execution_count": null,
   "id": "13836f8f-d461-4b69-8a0f-7c23960238bb",
   "metadata": {},
   "outputs": [],
   "source": [
    "#accuracy\n",
    "print(balanced_accuracy_score(y_true, combo_pred))\n",
    "print(accuracy_score(y_true, combo_pred))\n",
    "\n",
    "#confusion matrix\n",
    "cm_forest = confusion_matrix(y_true, combo_pred)\n",
    "cm_forest_fig = ConfusionMatrixDisplay(confusion_matrix = cm_forest)\n",
    "fig, ax = plt.subplots(figsize=(10,10))\n",
    "cm_forest_fig.plot(ax = ax)"
   ]
  },
  {
   "cell_type": "code",
   "execution_count": null,
   "id": "6faa21d1-3fc3-4264-879a-289c0811e1a6",
   "metadata": {},
   "outputs": [],
   "source": [
    "map_pred = np.asarray(combo_pred.values).reshape(926, 1250)\n",
    "cmap = cm.get_cmap('jet', 19)    # 11 discrete colors\n",
    "prediction_map = plt.imshow(map_pred, cmap=cmap)"
   ]
  },
  {
   "cell_type": "code",
   "execution_count": null,
   "id": "0ae03b57-d581-4765-9fdd-5e3a4f66399e",
   "metadata": {},
   "outputs": [],
   "source": [
    "map_pred = np.asarray(y_true).reshape(926, 1250)\n",
    "cmap = cm.get_cmap('jet', 19)    # 11 discrete colors\n",
    "prediction_map = plt.imshow(map_pred, cmap=cmap)"
   ]
  },
  {
   "cell_type": "code",
   "execution_count": null,
   "id": "c4ba4977-33c8-44a6-a2cc-f96492f848d3",
   "metadata": {},
   "outputs": [],
   "source": [
    "print(classification_report(y_true, combo_pred, zero_division = 1))"
   ]
  },
  {
   "cell_type": "markdown",
   "id": "fa108993-679e-4aba-91bc-7ba5ac68ddda",
   "metadata": {
    "tags": []
   },
   "source": [
    "#### Forest only"
   ]
  },
  {
   "cell_type": "code",
   "execution_count": null,
   "id": "4ca80eeb-ad4c-4504-bbf3-594887ff8768",
   "metadata": {},
   "outputs": [],
   "source": [
    "#X_ran, y_ran = process_data(None, '../data_tests/trois/raws', nrcan_name = 'NRCAN_transformed.tif', index = [-14, -11], gaussian = True, clustering = 'models/kcluster_13.sav', calculate_layers = True)\n",
    "X_ran, y_ran = process_data(None, '../data_tests/calgary/raws', nrcan_name = 'NRCAN_transformed.tif', index = [-14, -11], target_edge = 'B8A', geocoords = True,target_outlier = 'B01f', calculate_layers = True, gaussian = True)"
   ]
  },
  {
   "cell_type": "code",
   "execution_count": null,
   "id": "6ff547ca-716f-47e6-8f3c-ca13024b9da8",
   "metadata": {},
   "outputs": [],
   "source": [
    "forest_pred = forest_14.predict(X_ran)"
   ]
  },
  {
   "cell_type": "code",
   "execution_count": null,
   "id": "77ff8381-6b0c-42e5-8548-af666e1133ba",
   "metadata": {},
   "outputs": [],
   "source": [
    "map_pred = np.asarray(forest_pred).reshape(926, 1250)\n",
    "cmap = cm.get_cmap('jet', 19)    # 11 discrete colors\n",
    "prediction_map = plt.imshow(map_pred, cmap=cmap)"
   ]
  },
  {
   "cell_type": "code",
   "execution_count": null,
   "id": "662e75a2-01ae-493f-b886-1d47c1435f7f",
   "metadata": {},
   "outputs": [],
   "source": [
    "map_pred = np.asarray(y_ran.values).reshape(926, 1250)\n",
    "cmap = cm.get_cmap('jet', 19)    # 11 discrete colors\n",
    "prediction_map = plt.imshow(map_pred, cmap=cmap)"
   ]
  },
  {
   "cell_type": "code",
   "execution_count": null,
   "id": "d12a0473-537f-404b-97a8-d1f8c466ee4d",
   "metadata": {},
   "outputs": [],
   "source": [
    "print(balanced_accuracy_score(y_ran, forest_pred))\n",
    "print(accuracy_score(y_ran, forest_pred))\n",
    "\n",
    "#confusion matrix\n",
    "cm_forest = confusion_matrix(y_true, forest_pred)\n",
    "cm_forest_fig = ConfusionMatrixDisplay(confusion_matrix = cm_forest, display_labels = forest_10.classes_)\n",
    "fig, ax = plt.subplots(figsize=(10,10))\n",
    "cm_forest_fig.plot(ax = ax)"
   ]
  },
  {
   "cell_type": "code",
   "execution_count": null,
   "id": "7764983d-4491-41c4-be5f-6cd2f8270966",
   "metadata": {},
   "outputs": [],
   "source": [
    "print(classification_report(y_true, combo_pred, zero_division = 1))"
   ]
  }
 ],
 "metadata": {
  "kernelspec": {
   "display_name": "Python 3 (ipykernel)",
   "language": "python",
   "name": "python3"
  },
  "language_info": {
   "codemirror_mode": {
    "name": "ipython",
    "version": 3
   },
   "file_extension": ".py",
   "mimetype": "text/x-python",
   "name": "python",
   "nbconvert_exporter": "python",
   "pygments_lexer": "ipython3",
   "version": "3.9.7"
  }
 },
 "nbformat": 4,
 "nbformat_minor": 5
}
