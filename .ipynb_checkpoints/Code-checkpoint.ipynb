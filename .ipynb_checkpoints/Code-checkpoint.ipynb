{
 "cells": [
  {
   "cell_type": "markdown",
   "id": "a89617dd-ba71-4286-8c48-c518f371936f",
   "metadata": {},
   "source": [
    "# Set up"
   ]
  },
  {
   "cell_type": "markdown",
   "id": "1d4ff439-4f50-441e-8dfe-7fef9a953a0b",
   "metadata": {},
   "source": [
    "## Import"
   ]
  },
  {
   "cell_type": "code",
   "execution_count": 1,
   "id": "668e86a5-9f7f-4e8a-b842-f9662ae3c537",
   "metadata": {},
   "outputs": [],
   "source": [
    "#import\n",
    "import numpy as np\n",
    "import pandas as pd\n",
    "\n",
    "#system packages\n",
    "import os\n",
    "import glob\n",
    "\n",
    "#spatial packages\n",
    "from rastertodataframe import raster_to_dataframe\n",
    "from osgeo.gdalconst import *\n",
    "from osgeo import gdal\n",
    "from scipy.ndimage import gaussian_filter\n",
    "\n",
    "#visualization\n",
    "import matplotlib.pyplot as plt\n",
    "from matplotlib import cm\n",
    "\n",
    "#processing\n",
    "from sklearn.preprocessing import StandardScaler\n",
    "from sklearn.model_selection import train_test_split\n",
    "from sklearn.decomposition import PCA\n",
    "\n",
    "#modeling\n",
    "from sklearn import svm, datasets\n",
    "from sklearn.ensemble import RandomForestClassifier\n",
    "import xgboost as xgb\n",
    "\n",
    "#evaluation\n",
    "from sklearn.metrics import confusion_matrix, ConfusionMatrixDisplay, classification_report, accuracy_score\n",
    "\n",
    "#misc\n",
    "from math import floor\n",
    "from itertools import product"
   ]
  },
  {
   "cell_type": "markdown",
   "id": "12bfd9a1-6dcd-4fab-8bb9-24af7e85e422",
   "metadata": {},
   "source": [
    "## Download data"
   ]
  },
  {
   "cell_type": "code",
   "execution_count": 2,
   "id": "7c1647aa-5ff2-4eb2-9f9a-c0c8455c4461",
   "metadata": {},
   "outputs": [],
   "source": [
    "#custom functions\n",
    "\n",
    "#function to create histogram of scenes class frequency\n",
    "def nrcan_hist(img):\n",
    "    import numpy as np\n",
    "    import pandas as pd\n",
    "    from collections import Counter\n",
    "\n",
    "    im_array = np.array(img)\n",
    "\n",
    "    #last line is bad values \n",
    "    im_array = im_array[:-1]\n",
    "\n",
    "    #value count\n",
    "    freq = Counter(im_array.flatten())\n",
    "\n",
    "    plt.bar(freq.keys(), freq.values())\n",
    "    plt.xlim([-1, 20])\n",
    "    \n",
    "#function to turn tiff to df\n",
    "def tiff_to_df_colab(path):\n",
    "\n",
    "    #Create folder path and list variables\n",
    "    folder_path = path\n",
    "    file_list = glob.glob(folder_path + \"/*.tiff\")\n",
    "\n",
    "    #initiate empty dataframe\n",
    "    main_dataframe = pd.DataFrame()\n",
    "\n",
    "    for i in file_list:\n",
    "        data = raster_to_dataframe(i)\n",
    "  \n",
    "        #extract name of band from file path\n",
    "        band_info = str(i).split('/')[-1]\n",
    "        band_name = band_info[-14:-11]\n",
    "        #rename with band name\n",
    "        data = data.rename(columns = {'Band_1': band_name})\n",
    "        #merge into main dataframe\n",
    "        main_dataframe = pd.concat([main_dataframe, data], axis = 1)\n",
    "\n",
    "    return main_dataframe"
   ]
  },
  {
   "cell_type": "code",
   "execution_count": 17,
   "id": "8892c2d2-cc8e-4526-b328-80e0db87d506",
   "metadata": {},
   "outputs": [
    {
     "data": {
      "text/html": [
       "<div>\n",
       "<style scoped>\n",
       "    .dataframe tbody tr th:only-of-type {\n",
       "        vertical-align: middle;\n",
       "    }\n",
       "\n",
       "    .dataframe tbody tr th {\n",
       "        vertical-align: top;\n",
       "    }\n",
       "\n",
       "    .dataframe thead th {\n",
       "        text-align: right;\n",
       "    }\n",
       "</style>\n",
       "<table border=\"1\" class=\"dataframe\">\n",
       "  <thead>\n",
       "    <tr style=\"text-align: right;\">\n",
       "      <th></th>\n",
       "      <th>B01</th>\n",
       "      <th>B02</th>\n",
       "      <th>B03</th>\n",
       "      <th>B04</th>\n",
       "      <th>B05</th>\n",
       "      <th>B06</th>\n",
       "      <th>B07</th>\n",
       "      <th>B08</th>\n",
       "      <th>B09</th>\n",
       "      <th>B11</th>\n",
       "      <th>B12</th>\n",
       "      <th>B8A</th>\n",
       "      <th>y</th>\n",
       "    </tr>\n",
       "  </thead>\n",
       "  <tbody>\n",
       "    <tr>\n",
       "      <th>0</th>\n",
       "      <td>0.0934</td>\n",
       "      <td>0.1228</td>\n",
       "      <td>0.1588</td>\n",
       "      <td>0.2052</td>\n",
       "      <td>0.2344</td>\n",
       "      <td>0.2549</td>\n",
       "      <td>0.2729</td>\n",
       "      <td>0.2928</td>\n",
       "      <td>0.2947</td>\n",
       "      <td>0.3868</td>\n",
       "      <td>0.3853</td>\n",
       "      <td>0.2917</td>\n",
       "      <td>15</td>\n",
       "    </tr>\n",
       "    <tr>\n",
       "      <th>1</th>\n",
       "      <td>0.0890</td>\n",
       "      <td>0.1163</td>\n",
       "      <td>0.1507</td>\n",
       "      <td>0.1944</td>\n",
       "      <td>0.2210</td>\n",
       "      <td>0.2390</td>\n",
       "      <td>0.2560</td>\n",
       "      <td>0.2761</td>\n",
       "      <td>0.2777</td>\n",
       "      <td>0.3842</td>\n",
       "      <td>0.3827</td>\n",
       "      <td>0.2757</td>\n",
       "      <td>15</td>\n",
       "    </tr>\n",
       "    <tr>\n",
       "      <th>2</th>\n",
       "      <td>0.0893</td>\n",
       "      <td>0.1157</td>\n",
       "      <td>0.1511</td>\n",
       "      <td>0.1944</td>\n",
       "      <td>0.2199</td>\n",
       "      <td>0.2363</td>\n",
       "      <td>0.2552</td>\n",
       "      <td>0.2752</td>\n",
       "      <td>0.2764</td>\n",
       "      <td>0.3886</td>\n",
       "      <td>0.3842</td>\n",
       "      <td>0.2765</td>\n",
       "      <td>15</td>\n",
       "    </tr>\n",
       "    <tr>\n",
       "      <th>3</th>\n",
       "      <td>0.1104</td>\n",
       "      <td>0.1609</td>\n",
       "      <td>0.1919</td>\n",
       "      <td>0.2144</td>\n",
       "      <td>0.2526</td>\n",
       "      <td>0.2926</td>\n",
       "      <td>0.3128</td>\n",
       "      <td>0.3342</td>\n",
       "      <td>0.3254</td>\n",
       "      <td>0.3672</td>\n",
       "      <td>0.3320</td>\n",
       "      <td>0.3325</td>\n",
       "      <td>15</td>\n",
       "    </tr>\n",
       "    <tr>\n",
       "      <th>4</th>\n",
       "      <td>0.0723</td>\n",
       "      <td>0.0913</td>\n",
       "      <td>0.1220</td>\n",
       "      <td>0.1250</td>\n",
       "      <td>0.1730</td>\n",
       "      <td>0.2769</td>\n",
       "      <td>0.3134</td>\n",
       "      <td>0.3368</td>\n",
       "      <td>0.3366</td>\n",
       "      <td>0.3020</td>\n",
       "      <td>0.2353</td>\n",
       "      <td>0.3376</td>\n",
       "      <td>15</td>\n",
       "    </tr>\n",
       "  </tbody>\n",
       "</table>\n",
       "</div>"
      ],
      "text/plain": [
       "      B01     B02     B03     B04     B05     B06     B07     B08     B09  \\\n",
       "0  0.0934  0.1228  0.1588  0.2052  0.2344  0.2549  0.2729  0.2928  0.2947   \n",
       "1  0.0890  0.1163  0.1507  0.1944  0.2210  0.2390  0.2560  0.2761  0.2777   \n",
       "2  0.0893  0.1157  0.1511  0.1944  0.2199  0.2363  0.2552  0.2752  0.2764   \n",
       "3  0.1104  0.1609  0.1919  0.2144  0.2526  0.2926  0.3128  0.3342  0.3254   \n",
       "4  0.0723  0.0913  0.1220  0.1250  0.1730  0.2769  0.3134  0.3368  0.3366   \n",
       "\n",
       "      B11     B12     B8A   y  \n",
       "0  0.3868  0.3853  0.2917  15  \n",
       "1  0.3842  0.3827  0.2757  15  \n",
       "2  0.3886  0.3842  0.2765  15  \n",
       "3  0.3672  0.3320  0.3325  15  \n",
       "4  0.3020  0.2353  0.3376  15  "
      ]
     },
     "execution_count": 17,
     "metadata": {},
     "output_type": "execute_result"
    }
   ],
   "source": [
    "#load in raw bands\n",
    "tor_raws = tiff_to_df_colab('../data_tests/scene_5/raws')\n",
    "sim_raws = tiff_to_df_colab('../data_tests/simcoe_york/raws')\n",
    "lab_raws = tiff_to_df_colab('../data_tests/labrador/raws')\n",
    "james_raws = tiff_to_df_colab('../data_tests/james_bay/raws')\n",
    "\n",
    "#load nrcan data\n",
    "sim_nrcan = raster_to_dataframe('../data_tests/simcoe_york/Simcoe_York_2019.tif')\n",
    "lab_nrcan = raster_to_dataframe('../data_tests/labrador/NRCAN_transformed.tif')\n",
    "james_nrcan = raster_to_dataframe('../data_tests/james_bay/James_Bay_Med.tif')\n",
    "tor_nrcan = raster_to_dataframe('../data_tests/scene_5/NRCAN_transformed.tif')\n",
    "\n",
    "#add label column\n",
    "#sask_raws['y'] = sask_labels\n",
    "tor_raws['y'] = tor_nrcan\n",
    "sim_raws['y'] = sim_nrcan\n",
    "lab_raws['y'] = lab_nrcan\n",
    "james_raws['y'] = james_nrcan\n",
    "\n",
    "tor_raws.head()"
   ]
  },
  {
   "cell_type": "markdown",
   "id": "3ae278e8-f102-404b-946b-9f52fbc76797",
   "metadata": {},
   "source": [
    "# EDA"
   ]
  },
  {
   "cell_type": "code",
   "execution_count": 18,
   "id": "ca56c1a3-ce56-4a62-a09c-b1191b04d527",
   "metadata": {},
   "outputs": [],
   "source": [
    "#custom functions\n",
    "def clean_raws(dataframe):\n",
    "    clean_all = pd.DataFrame()\n",
    "\n",
    "    #for each category\n",
    "    for category in dataframe.y.unique():\n",
    "        #initialize new dataframe using first band of current category\n",
    "        clean_df = dataframe.loc[dataframe['y'] == category]['B01']\n",
    "\n",
    "        #get quartile range\n",
    "        Q1 = clean_df.quantile(0.25)\n",
    "        Q3 = clean_df.quantile(0.75)\n",
    "        outlier = Q3 * 2\n",
    "        #delete values not within\n",
    "        clean_df = clean_df[clean_df < outlier].reset_index()\n",
    "    \n",
    "        #for every subsequent band do the same thing and merge\n",
    "        for band in dataframe.columns[1:-1]:\n",
    "            temp_df = dataframe.loc[dataframe['y'] == category][band]\n",
    "            \n",
    "            Q1 = temp_df.quantile(0.25)\n",
    "            Q3 = temp_df.quantile(0.75)\n",
    "            outlier = Q3 * 2\n",
    "\n",
    "            temp_df = temp_df[temp_df < outlier].reset_index()\n",
    "            clean_df = clean_df.merge(temp_df, how= 'inner', on = 'index')\n",
    "        \n",
    "        clean_df['y'] = category    \n",
    "        #append each cleaned category dataframe to dict\n",
    "        clean_all = pd.concat([clean_all, clean_df])\n",
    "    \n",
    "    return clean_all.drop('index', axis = 1)\n",
    "\n",
    "def gaussian_raws(path_to_dir,  sigma = 1, nrcan_name = 'NRCAN_transformed.tif', index = [-14, -11]):\n",
    "    raw_files = list(os.listdir(path_to_dir))\n",
    "    \n",
    "    band_1 = gdal.Open(os.path.join(path_to_dir, raw_files[0]))\n",
    "\n",
    "    gauss_df = pd.DataFrame(np.array(band_1.ReadAsArray()).flatten(), columns = ['B01'])\n",
    "    for i in raw_files[1:]:\n",
    "        raw_img = gdal.Open(os.path.join(path_to_dir, i))\n",
    "        rows = raw_img.RasterYSize\n",
    "        cols = raw_img.RasterXSize\n",
    "        \n",
    "        raw_array = np.array(raw_img.ReadAsArray())\n",
    "        \n",
    "        raw_gauss = gaussian_filter(raw_array, sigma = sigma)\n",
    "        \n",
    "        raw_gauss = raw_gauss.flatten()\n",
    "        gauss_df[i[index[0]:index[1]]] = raw_gauss\n",
    "    \n",
    "    nrcan = gdal.Open(os.path.join(path_to_dir, '..', nrcan_name))\n",
    "    nrcan_array = np.array(nrcan.ReadAsArray())\n",
    "    \n",
    "    gauss_df['y'] = nrcan_array.flatten()\n",
    "    return gauss_df"
   ]
  },
  {
   "cell_type": "code",
   "execution_count": 19,
   "id": "49ca9769-4b46-4119-9bfb-b5f8ae83ad83",
   "metadata": {},
   "outputs": [
    {
     "data": {
      "text/plain": [
       "<matplotlib.collections.PathCollection at 0x1ec1719d9a0>"
      ]
     },
     "execution_count": 19,
     "metadata": {},
     "output_type": "execute_result"
    },
    {
     "data": {
      "image/png": "[encoded data removed]",
      "text/plain": [
       "<Figure size 432x288 with 1 Axes>"
      ]
     },
     "metadata": {
      "needs_background": "light"
     },
     "output_type": "display_data"
    }
   ],
   "source": [
    "#comparing example band distribution within each class across two extents\n",
    "plt.scatter(lab_raws['B01'], lab_raws.y)\n",
    "plt.scatter(sim_raws['B01'], sim_raws.y)"
   ]
  },
  {
   "cell_type": "code",
   "execution_count": 20,
   "id": "56698ee3-d523-458a-8740-0e9ae2a6929e",
   "metadata": {},
   "outputs": [],
   "source": [
    "#vertical concat\n",
    "main_dataframe = pd.concat([tor_raws, sim_raws, lab_raws, james_raws])\n",
    "main_dataframe = main_dataframe.reset_index().drop('index', axis = 1)\n",
    "#main_dataframe = lab_raws\n",
    "#main_dataframe = clean_raws(main_dataframe)\n",
    "                \n",
    "sim_gauss = gaussian_raws('../data_tests/simcoe_york/raws', nrcan_name = 'Simcoe_York_2019.tif')\n",
    "lab_gauss = gaussian_raws('../data_tests/labrador/raws')\n",
    "james_gauss = gaussian_raws('../data_tests/james_bay/raws', nrcan_name = 'James_Bay_Med.tif')\n",
    "tor_gauss = gaussian_raws('../data_tests/scene_5/raws')\n",
    "main_dataframe = pd.concat([tor_gauss, james_gauss, sim_gauss, lab_gauss])"
   ]
  },
  {
   "cell_type": "code",
   "execution_count": null,
   "id": "063de649-ea71-4253-8765-12f74b9f2016",
   "metadata": {},
   "outputs": [],
   "source": [
    "stop"
   ]
  },
  {
   "cell_type": "code",
   "execution_count": null,
   "id": "b669c626-4874-4b42-9be6-bac28163c844",
   "metadata": {},
   "outputs": [],
   "source": [
    "#Visulization of band distribution for each class in the main dataframe\n",
    "\n",
    "#number of axes = number of possible combos\n",
    "fig, axes = plt.subplots(4, 3, figsize = (15, 40))\n",
    "\n",
    "for i, ax in enumerate(axes.flat):\n",
    "    \n",
    "    #index of columns\n",
    "    X_scatter = main_dataframe[main_dataframe.columns[:-1][i]]\n",
    "    Y_scatter = main_dataframe['y']\n",
    "    \n",
    "    # scatter current combination\n",
    "    ax.scatter(X_scatter, Y_scatter)\n",
    "    ax.set_title(main_dataframe.columns[i])"
   ]
  },
  {
   "cell_type": "markdown",
   "id": "ecc121e1-30ac-4af1-bced-0c5ad4747023",
   "metadata": {},
   "source": [
    "# Processing Data"
   ]
  },
  {
   "cell_type": "code",
   "execution_count": null,
   "id": "113d352d-c442-476d-9ab9-54fd8d2133fe",
   "metadata": {},
   "outputs": [],
   "source": [
    "#Getting an equal sample from each image for each class -- UNDER CONSTRUCTION--\n",
    "\n",
    "#create list of input images\n",
    "train_images = [tor_gauss, james_gauss, sim_gauss, lab_gauss]\n",
    "\n",
    "#empty subset frame\n",
    "data = pd.DataFrame()\n",
    "\n",
    "#for each image in input images\n",
    "for image in train_images:\n",
    "    \n",
    "    #drop 0\n",
    "    image = image.loc[image.y != 0]\n",
    "    \n",
    "    #get class totals\n",
    "    image_classes = image.value_counts('y').sort_index() \n",
    "    \n",
    "    #define class threshold and threshold for class in each image\n",
    "    class_threshold = 20000\n",
    "    image_threshold = int(class_threshold / (len(train_images)))\n",
    "    \n",
    "    #init empty frame to store data for each image\n",
    "    subset = pd.DataFrame()\n",
    "    \n",
    "    #for each class\n",
    "    for label in image_classes.index:\n",
    "        #try to sample the image class threshold\n",
    "        try:\n",
    "            label_subset = image.loc[image.y == label[0]].sample(n= image_threshold, random_state=24)\n",
    "        #if not possible (threshold > existing class count) then sample class count\n",
    "        except:\n",
    "            label_subset = image.loc[image.y == label[0]].sample(n = (image_threshold - 5000), random_state=24)\n",
    "        \n",
    "        #concat class subset into data \n",
    "        subset = pd.concat([subset, label_subset])\n",
    "        \n",
    "    #concat data into subset frame\n",
    "    data = pd.concat([data, subset])\n",
    "    \n",
    "data.head()"
   ]
  },
  {
   "cell_type": "code",
   "execution_count": null,
   "id": "fb7813d4-fcfb-463b-a55d-e382caeda1f1",
   "metadata": {},
   "outputs": [],
   "source": [
    "data.value_counts('y').sort_index()"
   ]
  },
  {
   "cell_type": "code",
   "execution_count": null,
   "id": "bfea4775-7b72-4b20-9f0e-45d02956576d",
   "metadata": {},
   "outputs": [
    {
     "name": "stdout",
     "output_type": "stream",
     "text": [
      "(9812500, 13)\n",
      "y \n",
      "0      181478\n",
      "1      701398\n",
      "2      155025\n",
      "5      721844\n",
      "6      399027\n",
      "8      582855\n",
      "10      93912\n",
      "11     165666\n",
      "12     639747\n",
      "13     631736\n",
      "14      99622\n",
      "15    3010586\n",
      "16     495329\n",
      "17     661781\n",
      "18    1225374\n",
      "19      47120\n",
      "dtype: int64\n"
     ]
    }
   ],
   "source": [
    "#check dataframe shape and print class value counts\n",
    "print(main_dataframe.shape)\n",
    "main_classes = main_dataframe.value_counts('y').sort_index() \n",
    "print(main_classes)"
   ]
  },
  {
   "cell_type": "code",
   "execution_count": 32,
   "id": "7eec0a11-1bfd-4485-84f4-f06ca88773d2",
   "metadata": {},
   "outputs": [
    {
     "name": "stdout",
     "output_type": "stream",
     "text": [
      "(450000, 13)\n"
     ]
    },
    {
     "data": {
      "text/plain": [
       "y \n",
       "1     30000\n",
       "2     30000\n",
       "5     30000\n",
       "6     30000\n",
       "8     30000\n",
       "10    30000\n",
       "11    30000\n",
       "12    30000\n",
       "13    30000\n",
       "14    30000\n",
       "15    30000\n",
       "16    30000\n",
       "17    30000\n",
       "18    30000\n",
       "19    30000\n",
       "dtype: int64"
      ]
     },
     "execution_count": 32,
     "metadata": {},
     "output_type": "execute_result"
    }
   ],
   "source": [
    "#final clean\n",
    "#drop 0\n",
    "main_dataframe = main_dataframe.loc[main_dataframe.y != 0]\n",
    "\n",
    "#select classes above threshold\n",
    "threshold = 30000\n",
    "top_classes = main_classes[main_classes > threshold].reset_index().y\n",
    "\n",
    "#save dataframe subset of those classes\n",
    "main_subset = main_dataframe.loc[main_dataframe['y'].isin(top_classes.values)]\n",
    "\n",
    "#take smallest value rounded down to nearest 1000\n",
    "smallest_class = int(floor(min(main_subset.value_counts('y').sort_index().values)/ 1000)) * 1000\n",
    "#subsampling - comment out for full set\n",
    "smallest_class = threshold\n",
    "\n",
    "#take subset of each class equal to smallest class value\n",
    "data = main_subset.groupby(\"y\").sample(n=smallest_class, random_state=24)\n",
    "data.to_csv('data/testtrain.csv', index = False)\n",
    "\n",
    "print(data.shape)\n",
    "data.value_counts('y').sort_index()\n"
   ]
  },
  {
   "cell_type": "code",
   "execution_count": 29,
   "id": "489e0347-82a4-4aec-b26f-78330cd2b628",
   "metadata": {},
   "outputs": [
    {
     "data": {
      "text/plain": [
       "(2798958, 13)"
      ]
     },
     "execution_count": 29,
     "metadata": {},
     "output_type": "execute_result"
    }
   ],
   "source": [
    "main_dataframe = clean_raws(data)\n",
    "main_dataframe.shape"
   ]
  },
  {
   "cell_type": "code",
   "execution_count": 30,
   "id": "e7cd9bd5-9afe-41ee-8ffa-6d7c5d56ab08",
   "metadata": {},
   "outputs": [
    {
     "data": {
      "text/plain": [
       "y \n",
       "1     256443\n",
       "2     424688\n",
       "5     230842\n",
       "6     115226\n",
       "8     209565\n",
       "10     98048\n",
       "11     39655\n",
       "12    442816\n",
       "13     65620\n",
       "14     86285\n",
       "15    105666\n",
       "16    275940\n",
       "17    170151\n",
       "18    238088\n",
       "19     39925\n",
       "dtype: int64"
      ]
     },
     "execution_count": 30,
     "metadata": {},
     "output_type": "execute_result"
    }
   ],
   "source": [
    "main_dataframe.value_counts('y').sort_index()"
   ]
  },
  {
   "cell_type": "markdown",
   "id": "b6bb18a4-a6f3-4ae2-b809-86417798e1ea",
   "metadata": {
    "tags": []
   },
   "source": [
    "## Train test split"
   ]
  },
  {
   "cell_type": "code",
   "execution_count": 33,
   "id": "dbabd976-3c7d-4d36-ae42-96e1be7cb85e",
   "metadata": {},
   "outputs": [
    {
     "name": "stdout",
     "output_type": "stream",
     "text": [
      "[0.75286158 0.14284694 0.04513111 0.01297499 0.01261466 0.01230551]\n"
     ]
    }
   ],
   "source": [
    "y = data.y\n",
    "X = data.drop('y', axis = 1)\n",
    "\n",
    "#Dimensionality reduction - replace X with X_pca and run to try\n",
    "pca = PCA(n_components = 6)\n",
    "pca.fit(X)\n",
    "print(pca.explained_variance_ratio_)\n",
    "X_pca = pca.transform(X)\n",
    "\n",
    "X_train, X_test, y_train, y_test = train_test_split(X, y, stratify = y, train_size=0.8, random_state = 0)"
   ]
  },
  {
   "cell_type": "code",
   "execution_count": null,
   "id": "e253a73a-ed05-4e4b-af81-313e18c5343a",
   "metadata": {},
   "outputs": [],
   "source": [
    "#scaler = StandardScaler()\n",
    "#X_train = scaler.fit_transform(X_train)\n",
    "#scaler = StandardScaler()\n",
    "#X_test = scaler.fit_transform(X_test)"
   ]
  },
  {
   "cell_type": "markdown",
   "id": "8f5a14d5-c442-4893-a070-344ac5c38d4c",
   "metadata": {},
   "source": [
    "# Modelling"
   ]
  },
  {
   "cell_type": "markdown",
   "id": "a608da02-1033-4dbb-a65c-9f9322cc3faf",
   "metadata": {},
   "source": [
    "Random Forest, SVC, XGBoost [stretch] CNN\n",
    "\n",
    "Iteration details:\n",
    "- toronto, simcoe, sask, labrador = standard bands, no parameters, 5K each value, no scaling, in turn toronto, simcoe, sask, labrador extents only\n",
    "- Base run = standard bands, no parameters, 5K each value, no scaling, sim and lab\n",
    "- scaled = standard bands, no params, 5K each value, StandardScaler() -> improved SVC, sask and tor\n",
    "- large set = standard bands, no parameters, 18K each value, no scaling, sim and lab\n",
    "- gaussian = standard bands transformed via gaussian filter, 18K each value, no scaling, sim and lab\n",
    "- demo = random forest applied to demo data\n",
    "    - version_1 = 31.41% trained on sim & lab 18K each\n",
    "    - version_2 =  31.55% trained on gaussian (sigma 5) sim & lab, 18K each\n",
    "    - version_3 = 33.22% trained on gaussian (sigma 1) sim & lab, 18K each\n",
    "    - version_4 = 37.49% trained on gaussian (sigma 1) sim, lab, tor and james, 40K each random\n",
    "    - version_5 = 34.21% trained on sim, lab, tor, james all bands, 40K each random\n",
    "    - version_6 = [] trained on gaussian (sigma 1) sim, lab, tor and james, outliers (Q3 * 2) removed, 30K each \n",
    "\n",
    "Parameterization note: so far best results for RFC come from default with n_estimators = 300 with accuracy around 58.74 for source extent tests -> drops to 30 for demo test\n",
    "\n",
    "To do:\n",
    "- ensure all raws are aligned to a common 60 m res grid (downsampling all but b1 and b9)\n",
    "- scaling sim & lab for svc -> if goes well svc parametrization\n",
    "- basic NN?"
   ]
  },
  {
   "cell_type": "code",
   "execution_count": 34,
   "id": "98ce992f-2d99-4011-85d5-d64722d3823a",
   "metadata": {},
   "outputs": [],
   "source": [
    "#set up save path for images\n",
    "confusion_path = 'confusion_matrices/'\n",
    "group_folder = 'base_run/'"
   ]
  },
  {
   "cell_type": "markdown",
   "id": "7efde8bc-5370-4b59-abd2-efee5facc6fb",
   "metadata": {},
   "source": [
    "## Random Forest"
   ]
  },
  {
   "cell_type": "code",
   "execution_count": null,
   "id": "2d0f95f0-f1d3-4182-97c6-7f9a5abf53dc",
   "metadata": {},
   "outputs": [],
   "source": [
    "forest = RandomForestClassifier(random_state = 0,  n_estimators = 300, max_depth = 25, max_features = 2).fit(X_train, y_train)\n",
    "\n",
    "#get accuracy\n",
    "forest_pred = forest.predict(X_test)\n",
    "print(accuracy_score(y_test, forest_pred))\n",
    "\n",
    "#plot confusion matrix\n",
    "cm_forest = confusion_matrix(y_test, forest_pred)\n",
    "cm_forest_fig = ConfusionMatrixDisplay(confusion_matrix = cm_forest, display_labels = forest.classes_)\n",
    "cm_forest_fig.plot()"
   ]
  },
  {
   "cell_type": "code",
   "execution_count": null,
   "id": "0354d6a6-2144-4f8e-92b2-e93c14bc96ee",
   "metadata": {},
   "outputs": [],
   "source": [
    "#band weight\n",
    "forest.feature_importances_"
   ]
  },
  {
   "cell_type": "code",
   "execution_count": null,
   "id": "18b7d92c-39c8-4b00-b2db-71be988caefe",
   "metadata": {},
   "outputs": [],
   "source": [
    "#save\n",
    "cm_forest_fig.figure_.savefig(os.path.join(confusion_path, group_folder, 'forest.png'))\n",
    "print(classification_report(y_test, forest_pred))"
   ]
  },
  {
   "cell_type": "markdown",
   "id": "c3bbc8ee-8e1f-45cf-8f0f-b98bbdb9f7ef",
   "metadata": {},
   "source": [
    "### Toronto extent test"
   ]
  },
  {
   "cell_type": "code",
   "execution_count": null,
   "id": "364754ff-feff-4d54-98f3-77797c95cb7d",
   "metadata": {},
   "outputs": [],
   "source": [
    "#get gaussian version of toronto\n",
    "gauss_test = gaussian_raws('../data_tests/scene_5/raws')\n",
    "gauss_test.head()\n",
    "\n",
    "gauss_test['y'] = gauss_test['y'].replace({0:18})"
   ]
  },
  {
   "cell_type": "code",
   "execution_count": null,
   "id": "9a87d41d-911e-49d6-9269-12740ffe1ecb",
   "metadata": {},
   "outputs": [],
   "source": [
    "#split X and y values from gaussian or default raw bands\n",
    "#y_tor = tor_raws.y\n",
    "#X_tor = tor_raws.drop('y', axis = 1)\n",
    "\n",
    "y_tor = gauss_test.y\n",
    "X_tor = gauss_test.drop('y', axis = 1)\n",
    "\n",
    "#optional PCA, to use replace X_tor in predict with X_tor_pca\n",
    "pca = PCA(n_components = 6)\n",
    "X_tor_pca = pca.fit_transform(X_tor)\n",
    "\n",
    "#predict\n",
    "tor_pred = forest.predict(X_tor)\n",
    "print(accuracy_score(y_tor, tor_pred))\n",
    "\n",
    "#display\n",
    "cm_forest = confusion_matrix(y_tor, tor_pred)\n",
    "cm_forest_fig = ConfusionMatrixDisplay(confusion_matrix = cm_forest, display_labels = forest.classes_)\n",
    "fig, ax = plt.subplots(figsize=(10,10))\n",
    "cm_forest_fig.plot(ax = ax)"
   ]
  },
  {
   "cell_type": "code",
   "execution_count": null,
   "id": "86cc8577-54d4-41fb-a954-d27a0fde14fb",
   "metadata": {},
   "outputs": [],
   "source": [
    "#display prediction map\n",
    "map_pred = np.asarray(tor_pred).reshape(tor_nrcan.height, tor_nrcan.width)\n",
    "cmap = cm.get_cmap('jet', 7)    # 11 discrete colors\n",
    "prediction_map = plt.imshow(map_pred, cmap=cmap)\n",
    "\n",
    "#save\n",
    "#prediction_map.figure.savefig(os.path.join(confusion_path, 'gaussian', 'map_tor.png'))"
   ]
  },
  {
   "cell_type": "markdown",
   "id": "d4973808-9485-4674-8c94-2698e4d51300",
   "metadata": {},
   "source": [
    "### Demo test"
   ]
  },
  {
   "cell_type": "code",
   "execution_count": null,
   "id": "ce83d63e-ed2f-4336-bdbe-3affa716bf25",
   "metadata": {},
   "outputs": [],
   "source": [
    "#import demo test data\n",
    "demo_raw = pd.read_csv('../data_tests/demo_site.csv')\n",
    "demo_raw.land_cover = demo_raw.land_cover.astype('int')\n",
    "demo_raw.head()\n",
    "\n",
    "#test 2 - demo\n",
    "y_demo = demo_raw.land_cover\n",
    "X_demo = demo_raw.drop('land_cover', axis = 1)\n",
    "print(X_demo.shape)"
   ]
  },
  {
   "cell_type": "code",
   "execution_count": null,
   "id": "f39c0888-a31d-48b8-98bc-a4a9ce9d2e4d",
   "metadata": {},
   "outputs": [],
   "source": [
    "#convert into matrices to perform gaussian then convert back into 1d array and append to dataframe\n",
    "X_demo_gauss = pd.DataFrame()\n",
    "for band in X_demo.columns:\n",
    "    band = X_demo.columns[1]\n",
    "    reconstruct = np.asarray(X_demo[band]).reshape(2500, 2100).T\n",
    "    recon_gauss = gaussian_filter(reconstruct, sigma = 1)\n",
    "    X_demo_gauss[band] = recon_gauss.flatten()\n",
    "    \n",
    "#compare demo input and gauss output\n",
    "fig = plt.figure(figsize = (20,20))\n",
    "ax1 = fig.add_subplot(121)  # left side\n",
    "ax2 = fig.add_subplot(122)  # right side\n",
    "\n",
    "ax1.imshow(reconstruct)\n",
    "ax2.imshow(recon_gauss)"
   ]
  },
  {
   "cell_type": "code",
   "execution_count": null,
   "id": "5813fa36-5513-45db-9770-2e4e36068c14",
   "metadata": {},
   "outputs": [],
   "source": [
    "gauss_demo = gaussian_raws('../data_tests/demo/raws', nrcan_name = 'land_cover.tif', index = [0, 3])\n",
    "\n",
    "#select X values from gaussian dataframe\n",
    "X_demo = gauss_demo.drop('y', axis = 1)\n",
    "X_demo.head()\n",
    "\n",
    "#reshape to use y_demo with gaussian X\n",
    "y_demo = y_demo.values.reshape(2500, 2100).T\n",
    "y_demo = y_demo.flatten()"
   ]
  },
  {
   "cell_type": "code",
   "execution_count": null,
   "id": "4e3bcefe-d3c7-4604-9145-9b358732c460",
   "metadata": {},
   "outputs": [],
   "source": [
    "#generate predictions\n",
    "demo_pred = forest.predict(X_demo)\n",
    "#demo_pred = forest.predict(X_demo_gauss)\n",
    "\n",
    "#accuracy\n",
    "print(accuracy_score(y_demo, demo_pred))\n",
    "\n",
    "#confusion matrix\n",
    "cm_forest = confusion_matrix(y_demo, demo_pred)\n",
    "cm_forest_fig = ConfusionMatrixDisplay(confusion_matrix = cm_forest, display_labels = forest.classes_)\n",
    "fig, ax = plt.subplots(figsize=(10,10))\n",
    "cm_forest_fig.plot(ax = ax)"
   ]
  },
  {
   "cell_type": "code",
   "execution_count": null,
   "id": "3a25a835-ed77-4ef5-9bab-fd507d215c90",
   "metadata": {},
   "outputs": [],
   "source": [
    "#plot demo prediction map\n",
    "map_pred = np.asarray(demo_pred).reshape(2100, 2500)\n",
    "cmap = cm.get_cmap('jet', 7)    # 11 discrete colors\n",
    "prediction_map = plt.imshow(map_pred, cmap=cmap)"
   ]
  },
  {
   "cell_type": "code",
   "execution_count": null,
   "id": "55f6d984-f4e6-488a-bb8d-c4ff3331ece9",
   "metadata": {},
   "outputs": [],
   "source": [
    "#save confusion matrix\n",
    "cm_forest_fig.figure_.savefig(os.path.join(confusion_path, 'demo', 'version_4.png'))\n",
    "\n",
    "#save prediction map\n",
    "prediction_map.figure.savefig(os.path.join(confusion_path, 'demo', 'map_4.png'))"
   ]
  },
  {
   "cell_type": "markdown",
   "id": "827392e3-d0b2-4090-a8ad-706b789fdd37",
   "metadata": {
    "tags": []
   },
   "source": [
    "## SVC"
   ]
  },
  {
   "cell_type": "code",
   "execution_count": null,
   "id": "c13171bf-e89a-45e2-a959-f97ada3add3d",
   "metadata": {},
   "outputs": [],
   "source": [
    "#Different SVC kernels - sig performed less then 1 percent on subsample so its removed\n",
    "#linear = svm.SVC(kernel='linear', C=1, decision_function_shape='ovo').fit(X_train, y_train)\n",
    "#rbf = svm.SVC(kernel='rbf', gamma=1, C=1, decision_function_shape='ovo').fit(X_train, y_train)\n",
    "poly = svm.SVC(kernel='poly', degree=3, C=1, decision_function_shape='ovo').fit(X_train, y_train)\n",
    "#sig = svm.SVC(kernel='sigmoid', C=1, decision_function_shape='ovo').fit(X_train, y_train)"
   ]
  },
  {
   "cell_type": "code",
   "execution_count": null,
   "id": "591f1d3b-4998-4346-b66f-776b1660d7ec",
   "metadata": {},
   "outputs": [],
   "source": [
    "#predict from X_test\n",
    "#linear_pred = linear.predict(X_test)\n",
    "poly_pred = poly.predict(X_test)\n",
    "#rbf_pred = rbf.predict(X_test)\n",
    "#sig_pred = sig.predict(X_test)"
   ]
  },
  {
   "cell_type": "code",
   "execution_count": null,
   "id": "76a8b191-b653-4754-b2c4-b23552ea3eb3",
   "metadata": {
    "tags": []
   },
   "outputs": [],
   "source": [
    "# retrieve the accuracy and print it for all 4 kernel functions\n",
    "#accuracy_lin = linear.score(X_test, y_test)\n",
    "accuracy_poly = poly.score(X_test, y_test)\n",
    "#accuracy_rbf = rbf.score(X_test, y_test)\n",
    "#accuracy_sig = sig.score(X_test, y_test)\n",
    "\n",
    "# creating a confusion matrix\n",
    "#cm_lin = confusion_matrix(y_test, linear_pred)\n",
    "cm_poly = confusion_matrix(y_test, poly_pred)\n",
    "#cm_rbf = confusion_matrix(y_test, rbf_pred)\n",
    "#cm_sig = confusion_matrix(y_test, sig_pred)\n",
    "\n",
    "#visual confusion matrix\n",
    "#cm_lin_fig = ConfusionMatrixDisplay(confusion_matrix = cm_lin, display_labels = linear.classes_)\n",
    "cm_poly_fig = ConfusionMatrixDisplay(confusion_matrix = cm_poly, display_labels = poly.classes_)\n",
    "#cm_rbf_fig = ConfusionMatrixDisplay(confusion_matrix = cm_rbf, display_labels = rbf.classes_)\n",
    "\n",
    "#print accuracy and confusion matrix\n",
    "#print(accuracy_lin)\n",
    "#cm_lin_fig.plot()\n",
    "print(accuracy_poly)\n",
    "cm_poly_fig.plot()\n",
    "#print(accuracy_rbf)\n",
    "#cm_rbf_fig.plot()"
   ]
  },
  {
   "cell_type": "code",
   "execution_count": null,
   "id": "39b1ac35-5495-4312-89c6-a9aaf7cf1b9a",
   "metadata": {},
   "outputs": [],
   "source": [
    "#save confusion matrices\n",
    "cm_lin_fig.figure_.savefig(os.path.join(confusion_path, group_folder, 'lin.png'), dpi = 300)\n",
    "cm_poly_fig.figure_.savefig(os.path.join(confusion_path, group_folder, 'poly.png'), dpi = 300)\n",
    "cm_rbf_fig.figure_.savefig(os.path.join(confusion_path, group_folder, 'rbf.png'), dpi = 300)"
   ]
  },
  {
   "cell_type": "markdown",
   "id": "f32e938f-5ead-44e4-8d2c-ea177e634cae",
   "metadata": {},
   "source": [
    "## XGBoost"
   ]
  },
  {
   "cell_type": "code",
   "execution_count": null,
   "id": "4a501000-7405-4f6d-93ae-e6758a4be04f",
   "metadata": {},
   "outputs": [],
   "source": [
    "xg_classes = list(range(len(y_train.unique())))\n",
    "\n",
    "xg_y_train = y_train.replace(y_train.unique(), xg_classes)\n",
    "xg_y_test = y_test.replace(y_test.unique(), xg_classes)"
   ]
  },
  {
   "cell_type": "code",
   "execution_count": null,
   "id": "862fd707-e0c1-4a4d-86b6-147d805ff535",
   "metadata": {},
   "outputs": [],
   "source": [
    "xg_cl = xgb.XGBClassifier().fit(X_train, xg_y_train)\n",
    "\n",
    "#get accuracy\n",
    "accuracy_xgb = xg_cl.score(X_test, xg_y_test)\n",
    "print(accuracy_xgb)\n",
    "\n",
    "#plot confusion matrix\n",
    "xgb_pred = xg_cl.predict(X_test)\n",
    "cm_xgb = confusion_matrix(xg_y_test, xgb_pred)\n",
    "cm_xgb_fig = ConfusionMatrixDisplay(cm_xgb)\n",
    "cm_xgb_fig.plot()"
   ]
  },
  {
   "cell_type": "code",
   "execution_count": null,
   "id": "4f9bd23d-9c81-48ba-b4f5-8eb8f8439d9b",
   "metadata": {},
   "outputs": [],
   "source": [
    "#save\n",
    "cm_xgb_fig.figure_.savefig(os.path.join(confusion_path, group_folder, 'xgb.png'), dpi = 300)"
   ]
  }
 ],
 "metadata": {
  "kernelspec": {
   "display_name": "Python 3 (ipykernel)",
   "language": "python",
   "name": "python3"
  },
  "language_info": {
   "codemirror_mode": {
    "name": "ipython",
    "version": 3
   },
   "file_extension": ".py",
   "mimetype": "text/x-python",
   "name": "python",
   "nbconvert_exporter": "python",
   "pygments_lexer": "ipython3",
   "version": "3.9.7"
  }
 },
 "nbformat": 4,
 "nbformat_minor": 5
}
