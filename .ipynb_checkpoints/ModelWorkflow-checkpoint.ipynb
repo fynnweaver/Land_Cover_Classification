{
 "cells": [
  {
   "cell_type": "markdown",
   "id": "a89617dd-ba71-4286-8c48-c518f371936f",
   "metadata": {},
   "source": [
    "# Set up"
   ]
  },
  {
   "cell_type": "markdown",
   "id": "1d4ff439-4f50-441e-8dfe-7fef9a953a0b",
   "metadata": {},
   "source": [
    "## Import"
   ]
  },
  {
   "cell_type": "code",
   "execution_count": 1,
   "id": "668e86a5-9f7f-4e8a-b842-f9662ae3c537",
   "metadata": {},
   "outputs": [],
   "source": [
    "#import\n",
    "import numpy as np\n",
    "import pandas as pd\n",
    "\n",
    "#system packages\n",
    "import os\n",
    "import glob\n",
    "import pickle\n",
    "\n",
    "#spatial packages\n",
    "from rastertodataframe import raster_to_dataframe\n",
    "from osgeo.gdalconst import *\n",
    "from osgeo import gdal\n",
    "from scipy.ndimage import gaussian_filter, median_filter\n",
    "\n",
    "#visualization\n",
    "import matplotlib.pyplot as plt\n",
    "from matplotlib import cm\n",
    "\n",
    "#processing\n",
    "from sklearn.preprocessing import StandardScaler\n",
    "from sklearn.model_selection import train_test_split\n",
    "from sklearn.decomposition import PCA\n",
    "from sklearn import cluster\n",
    "\n",
    "#modeling\n",
    "from sklearn import svm, datasets\n",
    "from sklearn.ensemble import RandomForestClassifier\n",
    "import xgboost as xgb\n",
    "\n",
    "#evaluation\n",
    "from sklearn.metrics import confusion_matrix, ConfusionMatrixDisplay, classification_report, accuracy_score, balanced_accuracy_score\n",
    "\n",
    "#misc\n",
    "from math import floor\n",
    "from itertools import product\n",
    "from copy import deepcopy"
   ]
  },
  {
   "cell_type": "code",
   "execution_count": 2,
   "id": "8a32edfb-6023-465e-868c-6c5f76fdef14",
   "metadata": {},
   "outputs": [],
   "source": [
    "#import custom functions\n",
    "from custom_functions import *"
   ]
  },
  {
   "cell_type": "markdown",
   "id": "12bfd9a1-6dcd-4fab-8bb9-24af7e85e422",
   "metadata": {},
   "source": [
    "## Download data"
   ]
  },
  {
   "cell_type": "code",
   "execution_count": 3,
   "id": "9e913b0d-c5b0-4427-b644-b79262414a41",
   "metadata": {},
   "outputs": [
    {
     "name": "stdout",
     "output_type": "stream",
     "text": [
      "getting edge\n",
      "getting edge\n",
      "getting edge\n",
      "getting edge\n",
      "getting edge\n",
      "getting edge\n",
      "getting edge\n",
      "getting edge\n",
      "getting edge\n"
     ]
    }
   ],
   "source": [
    "#load raws into dataframe\n",
    "#Choose band to generate canny edge from, select None to skip edge generation\n",
    "target_edge = 'B8A'\n",
    "sigma = 3\n",
    "sim_raws = gdal_to_dataframe('../data_tests/simcoe_york/raws', nrcan_name = 'Simcoe_York_2019.tif', calculate_edge = target_edge, sigma = sigma)\n",
    "lab_raws = gdal_to_dataframe('../data_tests/labrador/raws', sigma = sigma)\n",
    "james_raws = gdal_to_dataframe('../data_tests/james_bay/raws', nrcan_name = 'James_Bay_Med.tif', calculate_edge = target_edge, sigma = sigma)\n",
    "tor_raws = gdal_to_dataframe('../data_tests/toronto/raws', calculate_edge = target_edge, sigma = sigma)\n",
    "sjames_raws = gdal_to_dataframe('../data_tests/james_south/raws', calculate_edge = target_edge, sigma = sigma)\n",
    "cal_raws = gdal_to_dataframe('../data_tests/calgary/raws', calculate_edge = target_edge, sigma = sigma)\n",
    "trois_raws = gdal_to_dataframe('../data_tests/trois/raws', calculate_edge = target_edge, sigma = sigma)\n",
    "winn_raws = gdal_to_dataframe('../data_tests/winnipeg/raws', calculate_edge = target_edge, sigma = sigma)\n",
    "sask_raws = gdal_to_dataframe('../data_tests/sasketchewan/raws', calculate_edge = target_edge, sigma = sigma)\n",
    "newf_raws = gdal_to_dataframe('../data_tests/newfoundland/raws', calculate_edge = target_edge, sigma = sigma)"
   ]
  },
  {
   "cell_type": "markdown",
   "id": "3ae278e8-f102-404b-946b-9f52fbc76797",
   "metadata": {},
   "source": [
    "# EDA & Feature Selection"
   ]
  },
  {
   "cell_type": "code",
   "execution_count": null,
   "id": "19b58a6f-642b-4229-92e0-5ad1fac36368",
   "metadata": {},
   "outputs": [],
   "source": [
    "#plot band\n",
    "map_band = np.asarray(newf_raws['B12'].values).reshape(1635, 1250)\n",
    "cmap = cm.get_cmap('jet', 15)    # 11 discrete colors\n",
    "prediction_map = plt.imshow(map_band, cmap=cmap)"
   ]
  },
  {
   "cell_type": "code",
   "execution_count": null,
   "id": "49ca9769-4b46-4119-9bfb-b5f8ae83ad83",
   "metadata": {},
   "outputs": [],
   "source": [
    "#comparing example band distribution within each class across two extents\n",
    "plt.scatter(lab_raws['B01'], lab_raws.y)\n",
    "plt.scatter(sim_raws['B01'], sim_raws.y)"
   ]
  },
  {
   "cell_type": "markdown",
   "id": "60c02412-4fdb-49d2-9494-bc91b43bddb8",
   "metadata": {},
   "source": [
    "## Geocoordinates"
   ]
  },
  {
   "cell_type": "code",
   "execution_count": null,
   "id": "53a2f72a-bcb8-4c43-b28a-e4e6c8756e6f",
   "metadata": {},
   "outputs": [],
   "source": [
    "#OPTIONAL: get geocoordinates\n",
    "sim_raws['lat'], sim_raws['long'] = get_geocoord('../data_tests/simcoe_york/raws')\n",
    "lab_raws['lat'], lab_raws['long'] = get_geocoord('../data_tests/labrador/raws')\n",
    "tor_raws['lat'], tor_raws['long'] = get_geocoord('../data_tests/toronto/raws')\n",
    "james_raws['lat'], james_raws['long'] = get_geocoord('../data_tests/james_bay/raws')\n",
    "sjames_raws['lat'], sjames_raws['long'] = get_geocoord('../data_tests/james_south/raws')\n",
    "cal_raws['lat'], cal_raws['long'] = get_geocoord('../data_tests/calgary/raws')\n",
    "trois_raws['lat'], trois_raws['long'] = get_geocoord('../data_tests/trois/raws')\n",
    "winn_raws['lat'], winn_raws['long'] = get_geocoord('../data_tests/winnipeg/raws')\n",
    "sask_raws['lat'], sask_raws['long'] = get_geocoord('../data_tests/sasketchewan/raws')\n",
    "newf_raws['lat'], newf_raws['long'] = get_geocoord('../data_tests/newfoundland/raws')"
   ]
  },
  {
   "cell_type": "code",
   "execution_count": null,
   "id": "d57a8e9a-f54c-4a94-be50-f566467daa5b",
   "metadata": {},
   "outputs": [],
   "source": [
    "sask_raws['lat'][0], sask_raws['long'][0]"
   ]
  },
  {
   "cell_type": "markdown",
   "id": "eb189b51-a5b5-4c3c-b4f1-bb8ff11ff1cd",
   "metadata": {},
   "source": [
    "### K-means clustering"
   ]
  },
  {
   "cell_type": "code",
   "execution_count": null,
   "id": "a279b263-7e66-4567-a387-870a7661074b",
   "metadata": {},
   "outputs": [],
   "source": [
    "#visualize effect with test raws\n",
    "test_raws = pd.concat([sim_raws, tor_raws, lab_raws, cal_raws, trois_raws, james_raws, sjames_raws])\n",
    "test_raws = test_raws.drop('y', axis = 1)\n",
    "\n",
    "cl = cluster.KMeans(n_clusters=6, random_state = 0) # create an object of the classifier\n",
    "param = cl.fit(test_raws) # train it\n",
    "img_cl = cl.labels_ \n",
    "\n",
    "#select first image for visualization\n",
    "img_sim = img_cl[:2500 * 2134].reshape(2134, 2500)"
   ]
  },
  {
   "cell_type": "code",
   "execution_count": null,
   "id": "e1de9785-b653-4dfe-94e1-0bbcdde529a6",
   "metadata": {},
   "outputs": [],
   "source": [
    "#visualize clustering using split images\n",
    "plt.figure(figsize=[20,20])\n",
    "plt.imshow(img_sim, cmap=cmap)\n",
    "plt.axis('off')"
   ]
  },
  {
   "cell_type": "markdown",
   "id": "4e1495f4-d21b-4750-a95a-2fc1e0accf46",
   "metadata": {
    "tags": []
   },
   "source": [
    "### Outlier fixing"
   ]
  },
  {
   "cell_type": "code",
   "execution_count": null,
   "id": "ebb83a61-01cc-43f8-be6c-b206a8ce3884",
   "metadata": {},
   "outputs": [],
   "source": [
    "#OPTIONAL: run to transform outliers on all raws\n",
    "\n",
    "james_raws = outlier_fix(james_raws)\n",
    "tor_raws = outlier_fix(tor_raws)\n",
    "sim_raws = outlier_fix(sim_raws)\n",
    "lab_raws = outlier_fix(lab_raws)\n",
    "sjames_raws =  outlier_fix(sjames_raws)\n",
    "trois_raws = outlier_fix(trois_raws)\n",
    "cal_raws = outlier_fix(cal_raws)\n",
    "winn_raws = outlier_fix(winn_raws)"
   ]
  },
  {
   "cell_type": "code",
   "execution_count": null,
   "id": "9f298115-59ce-4f1a-84a3-df87b96613d1",
   "metadata": {},
   "outputs": [],
   "source": [
    "def add_fix_column(raws, target):\n",
    "    raws[target] = outlier_fix(raws)[target]\n",
    "    return raws"
   ]
  },
  {
   "cell_type": "code",
   "execution_count": 4,
   "id": "868cd600-8e0a-417a-b638-20615d0b652f",
   "metadata": {},
   "outputs": [],
   "source": [
    "#OPTIONAL: run to add single column based on an outlier fix of another\n",
    "target = 'B01f'\n",
    "\n",
    "james_raws = add_fix_column(james_raws, target)\n",
    "tor_raws= add_fix_column(tor_raws, target)\n",
    "sim_raws = add_fix_column(sim_raws, target)\n",
    "lab_raws = add_fix_column(lab_raws, target)\n",
    "sjames_raws =  add_fix_column(sjames_raws, target)\n",
    "trois_raws = add_fix_column(trois_raws, target)\n",
    "cal_raws = add_fix_column(cal_raws, target)\n",
    "winn_raws = add_fix_column(winn_raws, target)\n",
    "sask_raws = add_fix_column(sask_raws, target)\n",
    "newf_raws = add_fix_column(newf_raws, target)"
   ]
  },
  {
   "cell_type": "code",
   "execution_count": null,
   "id": "7e610eb5-6305-49eb-b638-151f30efec95",
   "metadata": {},
   "outputs": [],
   "source": [
    "#Double check outlier fix\n",
    "plt.scatter(james_raws['B01f'], james_raws['B02f'])"
   ]
  },
  {
   "cell_type": "markdown",
   "id": "09446062-b288-482d-a9c5-e2d8db867c48",
   "metadata": {},
   "source": [
    "### Gaussian filtering"
   ]
  },
  {
   "cell_type": "code",
   "execution_count": null,
   "id": "3604401f-edb3-4fd5-b766-05ad44a69bb5",
   "metadata": {},
   "outputs": [],
   "source": [
    "#load gaussian filtered raws\n",
    "sim_gauss = filter_raws('../data_tests/simcoe_york/raws', nrcan_name = 'Simcoe_York_2019.tif')\n",
    "lab_gauss = filter_raws('../data_tests/labrador/raws')\n",
    "james_gauss = filter_raws('../data_tests/james_bay/raws', nrcan_name = 'James_Bay_Med.tif')\n",
    "tor_gauss = filter_raws('../data_tests/toronto/raws')\n",
    "sjames_gauss = filter_raws('../data_tests/james_south/raws')\n",
    "cal_gauss = filter_raws('../data_tests/calgary/raws')\n",
    "trois_gauss = filter_raws('../data_tests/trois/raws')\n",
    "winn_gauss = filter_raws('../data_tests/winnipeg/raws')"
   ]
  },
  {
   "cell_type": "code",
   "execution_count": null,
   "id": "637007e0-3948-4e39-84f7-9d41cee47b34",
   "metadata": {},
   "outputs": [],
   "source": [
    "#put together raw and filtered df of each scene\n",
    "#create list of input images\n",
    "train_raw = [tor_raws, sim_raws, lab_raws, cal_raws, james_raws, sjames_raws, trois_raws, winn_raws]\n",
    "train_gauss = [tor_gauss, sim_gauss, lab_gauss, cal_raws, james_gauss, sjames_gauss, trois_gauss, winn_gauss]\n",
    "\n",
    "#set empty main\n",
    "main_dataframe = pd.DataFrame()\n",
    "\n",
    "for i in range(len(train_raw)):\n",
    "    #drop y from gauss\n",
    "    temp_gauss = train_gauss[i].drop('y', axis = 1)\n",
    "    #rename gauss columns\n",
    "    gauss_names = [f'{name}g' for name in temp_gauss.columns]\n",
    "    temp_gauss.columns = gauss_names\n",
    "    #print(temp_gauss.head(), train_raw[i].head())\n",
    "    \n",
    "    #reset indices\n",
    "    train_raw[i].reset_index(inplace=True, drop=True)\n",
    "    temp_gauss.reset_index(inplace=True, drop=True)       \n",
    "    new_df = pd.concat([train_raw[i], temp_gauss], axis = 1)\n",
    "    #add to main\n",
    "    main_dataframe = pd.concat([main_dataframe, new_df])\n",
    "\n",
    "main_dataframe = main_dataframe.iloc[:,:-4]\n",
    "    \n",
    "print(new_df.shape, lab_raws.shape)\n",
    "main_dataframe.head()"
   ]
  },
  {
   "cell_type": "markdown",
   "id": "eb53aa9f-f36b-4029-8f19-db5e4c70b264",
   "metadata": {},
   "source": [
    "### Combine extents"
   ]
  },
  {
   "cell_type": "code",
   "execution_count": 5,
   "id": "56698ee3-d523-458a-8740-0e9ae2a6929e",
   "metadata": {},
   "outputs": [],
   "source": [
    "#NOTE: skip if filtered extents have been run\n",
    "#vertical concat\n",
    "main_dataframe = pd.concat([sim_raws, lab_raws, tor_raws, james_raws, sjames_raws, cal_raws, trois_raws, winn_raws, newf_raws])\n",
    "main_dataframe = main_dataframe.reset_index().drop('index', axis = 1)\n",
    "#main_dataframe = replace_values(main_dataframe)                \n",
    "#main_dataframe = pd.concat([tor_gauss, james_gauss, sim_gauss, lab_gauss])"
   ]
  },
  {
   "cell_type": "code",
   "execution_count": null,
   "id": "9b1fd57c-241b-476a-8efc-5fee1f62566b",
   "metadata": {},
   "outputs": [],
   "source": [
    "#OPTIONAL: run to add cluster column\n",
    "cl = cluster.KMeans(n_clusters = 4)\n",
    "dataframe_copy = main_dataframe.drop('y', axis = 1)\n",
    "param = cl.fit(dataframe_copy.astype('double'))\n",
    "img_cl = cl.labels_\n",
    "    \n",
    "main_dataframe['clusters'] = img_cl    "
   ]
  },
  {
   "cell_type": "code",
   "execution_count": null,
   "id": "40faf070-045f-4cb6-90d4-8d74012ba0b6",
   "metadata": {},
   "outputs": [],
   "source": [
    "#pickle cluster model\n",
    "pickle.dump(param, open('models/kcluster_13.sav', 'wb'))"
   ]
  },
  {
   "cell_type": "code",
   "execution_count": null,
   "id": "b669c626-4874-4b42-9be6-bac28163c844",
   "metadata": {},
   "outputs": [],
   "source": [
    "#Visulization of band distribution for each class in the main dataframe\n",
    "\n",
    "#number of axes = number of possible combos\n",
    "fig, axes = plt.subplots(4, 3, figsize = (15, 40))\n",
    "\n",
    "for i, ax in enumerate(axes.flat):\n",
    "    \n",
    "    #index of columns\n",
    "    X_scatter = main_dataframe[main_dataframe.columns[:-1][i]]\n",
    "    Y_scatter = main_dataframe['y']\n",
    "    \n",
    "    # scatter current combination\n",
    "    ax.scatter(X_scatter, Y_scatter)\n",
    "    ax.set_title(main_dataframe.columns[i])"
   ]
  },
  {
   "cell_type": "markdown",
   "id": "ecc121e1-30ac-4af1-bced-0c5ad4747023",
   "metadata": {},
   "source": [
    "# Processing Data"
   ]
  },
  {
   "cell_type": "markdown",
   "id": "cbd125f4-6aa2-4c94-b0a5-5d57744ce0d2",
   "metadata": {},
   "source": [
    "### Calculated Layers"
   ]
  },
  {
   "cell_type": "code",
   "execution_count": 6,
   "id": "0070b87e-3531-476e-905d-a01309a9b389",
   "metadata": {},
   "outputs": [],
   "source": [
    "#OPTIONAL: run to calculate layers\n",
    "main_dataframe = add_layers(main_dataframe)\n",
    "#main_dataframe = add_extra_layers(main_dataframe) #add additional layers, uncomment to add\n",
    "main_dataframe = replace_values(main_dataframe)\n",
    "\n",
    "#only keep filtered bands\n",
    "#main_dataframe = main_dataframe.iloc[:, 12:]"
   ]
  },
  {
   "cell_type": "code",
   "execution_count": null,
   "id": "fb7813d4-fcfb-463b-a55d-e382caeda1f1",
   "metadata": {},
   "outputs": [],
   "source": [
    "#preview calculated layers using example raw\n",
    "test_plus = add_layers(trois_raws)\n",
    "test_plus = replace_values(test_plus)\n",
    "\n",
    "#preview calculated layers\n",
    "map_band = np.asarray(test_plus['NDVI'].values).reshape(656, 1250)\n",
    "cmap = cm.get_cmap('jet', 15)    # 11 discrete colors\n",
    "prediction_map = plt.imshow(map_band, cmap=cmap)"
   ]
  },
  {
   "cell_type": "markdown",
   "id": "6a1ef20c-cd38-48ce-b5c8-ecfe0f50b489",
   "metadata": {},
   "source": [
    "### Subsampling"
   ]
  },
  {
   "cell_type": "code",
   "execution_count": 7,
   "id": "ca678221-10fb-415f-a61f-25613571a49a",
   "metadata": {},
   "outputs": [
    {
     "data": {
      "text/plain": [
       "Index(['B01', 'B02', 'B03', 'B04', 'B05', 'B06', 'B07', 'B08', 'B09', 'B11',\n",
       "       'B12', 'B8A', 'edge', 'y', 'B01f', 'NDVI', 'Moisture', 'NDWI', 'NDSI'],\n",
       "      dtype='object')"
      ]
     },
     "execution_count": 7,
     "metadata": {},
     "output_type": "execute_result"
    }
   ],
   "source": [
    "#check features\n",
    "main_dataframe.columns"
   ]
  },
  {
   "cell_type": "code",
   "execution_count": 8,
   "id": "bfea4775-7b72-4b20-9f0e-45d02956576d",
   "metadata": {},
   "outputs": [
    {
     "name": "stdout",
     "output_type": "stream",
     "text": [
      "(15462500, 19)\n",
      "y \n",
      "0      181478\n",
      "1     2185189\n",
      "2      309106\n",
      "5     1366359\n",
      "6     1006369\n",
      "8     1281873\n",
      "10     259547\n",
      "11     165824\n",
      "12     673828\n",
      "13     631839\n",
      "14     655297\n",
      "15    3454935\n",
      "16     670443\n",
      "17     748623\n",
      "18    1822297\n",
      "19      49493\n",
      "dtype: int64\n"
     ]
    }
   ],
   "source": [
    "#check dataframe shape and print class value counts\n",
    "print(main_dataframe.shape)\n",
    "main_classes = main_dataframe.value_counts('y').sort_index() \n",
    "print(main_classes)"
   ]
  },
  {
   "cell_type": "code",
   "execution_count": null,
   "id": "b248b092-89e0-4077-b310-6d287e4276f2",
   "metadata": {},
   "outputs": [],
   "source": [
    "#OPTIONAL: run to create a binary model by converting train and test to binary based on input class\n",
    "main_dataframe = convert_binary(main_dataframe, 14)"
   ]
  },
  {
   "cell_type": "code",
   "execution_count": 9,
   "id": "7eec0a11-1bfd-4485-84f4-f06ca88773d2",
   "metadata": {},
   "outputs": [
    {
     "name": "stdout",
     "output_type": "stream",
     "text": [
      "(2149493, 19)\n"
     ]
    },
    {
     "data": {
      "text/plain": [
       "y \n",
       "1     150000\n",
       "2     150000\n",
       "5     150000\n",
       "6     150000\n",
       "8     150000\n",
       "10    150000\n",
       "11    150000\n",
       "12    150000\n",
       "13    150000\n",
       "14    150000\n",
       "15    150000\n",
       "16    150000\n",
       "17    150000\n",
       "18    150000\n",
       "19     49493\n",
       "dtype: int64"
      ]
     },
     "execution_count": 9,
     "metadata": {},
     "output_type": "execute_result"
    }
   ],
   "source": [
    "#final clean\n",
    "#drop 0\n",
    "main_dataframe = main_dataframe.loc[main_dataframe.y != 0]\n",
    "\n",
    "#select classes above threshold\n",
    "threshold = 150000\n",
    "top_classes = main_classes[main_classes > threshold].reset_index().y\n",
    "\n",
    "#save dataframe subset of those classes\n",
    "main_subset = main_dataframe.loc[main_dataframe['y'].isin(top_classes.values)]\n",
    "\n",
    "#take smallest value rounded down to nearest 1000\n",
    "smallest_class = int(floor(min(main_subset.value_counts('y').sort_index().values)/ 1000)) * 1000\n",
    "#subsampling - comment out for full set\n",
    "smallest_class = threshold\n",
    "\n",
    "#take subset of each class equal to smallest class value\n",
    "data = main_subset.groupby(\"y\").sample(n=smallest_class, random_state=24)\n",
    "\n",
    "#add on snow - uncomment if threshold > class total\n",
    "snow_subset = main_dataframe.loc[main_dataframe.y == 19]\n",
    "data = pd.concat([data, snow_subset])\n",
    "polar_shrub_subset = main_dataframe.loc[main_dataframe.y == 11]\n",
    "#data = pd.concat([data, polar_shrub_subset])\n",
    "\n",
    "\n",
    "print(data.shape)\n",
    "data.value_counts('y').sort_index()"
   ]
  },
  {
   "cell_type": "code",
   "execution_count": null,
   "id": "62224d33-d9a6-4540-8197-ab4f7fa87f34",
   "metadata": {},
   "outputs": [],
   "source": [
    "#OPTIONAL: save current data to csv\n",
    "data.to_csv('../data_tests/version15.csv', index = False)"
   ]
  },
  {
   "cell_type": "markdown",
   "id": "b6bb18a4-a6f3-4ae2-b809-86417798e1ea",
   "metadata": {
    "tags": []
   },
   "source": [
    "## Train test split"
   ]
  },
  {
   "cell_type": "code",
   "execution_count": 10,
   "id": "dbabd976-3c7d-4d36-ae42-96e1be7cb85e",
   "metadata": {},
   "outputs": [
    {
     "name": "stdout",
     "output_type": "stream",
     "text": [
      "[0.99612625]\n"
     ]
    }
   ],
   "source": [
    "y = data.y\n",
    "X = data.drop('y', axis = 1)\n",
    "\n",
    "#Dimensionality reduction - replace X with X_pca and run to try\n",
    "pca = PCA(n_components = 1)\n",
    "pca.fit(X)\n",
    "print(pca.explained_variance_ratio_)\n",
    "X_pca = pca.transform(X)\n",
    "\n",
    "X_train, X_test, y_train, y_test = train_test_split(X, y, stratify = y, train_size=0.8, random_state = 0)"
   ]
  },
  {
   "cell_type": "code",
   "execution_count": null,
   "id": "e253a73a-ed05-4e4b-af81-313e18c5343a",
   "metadata": {},
   "outputs": [],
   "source": [
    "#OPTIONAL: run to scale data\n",
    "scaler = StandardScaler()\n",
    "X_train = scaler.fit_transform(X_train)\n",
    "scaler = StandardScaler()\n",
    "X_test = scaler.fit_transform(X_test)"
   ]
  },
  {
   "cell_type": "markdown",
   "id": "8f5a14d5-c442-4893-a070-344ac5c38d4c",
   "metadata": {},
   "source": [
    "# Modelling"
   ]
  },
  {
   "cell_type": "code",
   "execution_count": null,
   "id": "98ce992f-2d99-4011-85d5-d64722d3823a",
   "metadata": {},
   "outputs": [],
   "source": [
    "#set up save path for images\n",
    "confusion_path = 'evaluation/'\n",
    "group_folder = None"
   ]
  },
  {
   "cell_type": "markdown",
   "id": "7efde8bc-5370-4b59-abd2-efee5facc6fb",
   "metadata": {},
   "source": [
    "## Random Forest"
   ]
  },
  {
   "cell_type": "code",
   "execution_count": 11,
   "id": "2d0f95f0-f1d3-4182-97c6-7f9a5abf53dc",
   "metadata": {},
   "outputs": [
    {
     "name": "stdout",
     "output_type": "stream",
     "text": [
      "0.6338419024003312\n"
     ]
    },
    {
     "data": {
      "text/plain": [
       "<sklearn.metrics._plot.confusion_matrix.ConfusionMatrixDisplay at 0x1e74f524c10>"
      ]
     },
     "execution_count": 11,
     "metadata": {},
     "output_type": "execute_result"
    },
    {
     "data": {
      "image/png": "[encoded data removed]",
      "text/plain": [
       "<Figure size 432x288 with 2 Axes>"
      ]
     },
     "metadata": {
      "needs_background": "light"
     },
     "output_type": "display_data"
    }
   ],
   "source": [
    "forest = RandomForestClassifier(random_state = 0, n_estimators = 300, max_depth = 15, max_features = 2).fit(X_train, y_train)\n",
    "#get accuracy\n",
    "forest_pred = forest.predict(X_test)\n",
    "print(accuracy_score(y_test, forest_pred))\n",
    "\n",
    "#plot confusion matrix\n",
    "cm_forest = confusion_matrix(y_test, forest_pred)\n",
    "cm_forest_fig = ConfusionMatrixDisplay(confusion_matrix = cm_forest, display_labels = forest.classes_)\n",
    "cm_forest_fig.plot()"
   ]
  },
  {
   "cell_type": "code",
   "execution_count": 12,
   "id": "ac373ed7-a501-412e-94e3-7187d47bb1f7",
   "metadata": {},
   "outputs": [
    {
     "name": "stdout",
     "output_type": "stream",
     "text": [
      "0.6561455785493553\n"
     ]
    }
   ],
   "source": [
    "#make sure there's no overfit\n",
    "forest_train_pred = forest.predict(X_train)\n",
    "print(accuracy_score(y_train, forest_train_pred))"
   ]
  },
  {
   "cell_type": "code",
   "execution_count": null,
   "id": "4096d58c-8f68-4251-8594-a9c77ff331cc",
   "metadata": {},
   "outputs": [],
   "source": [
    "print_importance(forest, X_train)"
   ]
  },
  {
   "cell_type": "code",
   "execution_count": null,
   "id": "18b7d92c-39c8-4b00-b2db-71be988caefe",
   "metadata": {},
   "outputs": [],
   "source": [
    "#OPTIONAL: save confusion matrix\n",
    "cm_forest_fig.figure_.savefig(os.path.join(confusion_path, group_folder, 'forest.png'))\n",
    "print(classification_report(y_test, forest_pred))"
   ]
  },
  {
   "cell_type": "code",
   "execution_count": null,
   "id": "a6377c82-3e3e-49b2-8f2d-03e89a3a6d1c",
   "metadata": {},
   "outputs": [],
   "source": [
    "#OPTIONAL: save model\n",
    "pickle.dump(forest, open('../models/forest_16.sav', 'wb'))"
   ]
  },
  {
   "cell_type": "markdown",
   "id": "d4973808-9485-4674-8c94-2698e4d51300",
   "metadata": {
    "tags": []
   },
   "source": [
    "### Demo test"
   ]
  },
  {
   "cell_type": "code",
   "execution_count": null,
   "id": "1d1d6ba1-899e-4075-8339-8359eba0ae9c",
   "metadata": {},
   "outputs": [],
   "source": [
    "#combining all options for custom preprocess function\n",
    "def process_data(path_csv, path_raws, nrcan_name = 'land_cover.tif', index = [0, 3], target_edge = False, edge_sigma = 3, geocoords = False,\n",
    "                 target_outlier = False, gaussian = False, clustering = False, calculate_layers = False):\n",
    "    \"\"\"\n",
    "    Master function that combines all above processing functions and applies to raws from input path to raw directory. \n",
    "    Features are generated based on inputted parameters and added as columns to outputted frame\n",
    "    By default function function is equivalent to gdal_to_dataframe but with different default parameters\n",
    "    \n",
    "    INPUT\n",
    "    ------\n",
    "    `path_csv`: In the case of certain extents the NRCAN land cover tif was corrupted while a csv of correct land cover\n",
    "    values remained. \n",
    "    If this is not the case, set path_csv to None and function will proceed with land cover from gdal_to_dataframe\n",
    "    `path_raws`: string with path to the raw files directory\n",
    "    `nrcan_name`: file name of the accompanying nrcan classification extent. File must be in directory above raw directory\n",
    "    `index`: Index within raw band file names where the band name is found. \n",
    "    `target_edge`: If set equal to band name (ex: 'B01') will return canny edge (sigma 3) of that band under column labeled\n",
    "    'edge'\n",
    "    `geocoords`: If set to True will return lat and long geocoordinates\n",
    "    `target_outlier`:  If set equal to band name (ex: 'B01') will return column of values where outliers have been\n",
    "    transformed using `outlier_fix`\n",
    "    Outlier fixed columns can be recognized with an appended `f` (ex: 'B01f`)\n",
    "    `gaussian`: If set to true implements `raw_filters` and returns transformed columns to add on to original raw columns.\n",
    "    Filtered columns can be recognized with an appended `g` (ex: 'B01g`)\n",
    "    `clustering`: If set to string of path to a k-means clustering (.sav) model, performs k means clustering on raws and \n",
    "    returns column labeled 'cluster'\n",
    "    `calculate_layers`: If set to True calculates 4 additional layers from raw values: NDVI, NDWI, Moisture and NDSI.\n",
    "    If set to 'Extra' calculates 4 previous layers plus an additional 5 layers: NIRB, ARG, yellow, MIVI, GDVI\n",
    "    \n",
    "    \n",
    "    OUTPUT\n",
    "    ------\n",
    "    X_demo, y_demo: Two pd DataFrames()\n",
    "    \\-> X_demo: contains all features generated by function based on input parameters\n",
    "    \\-> y_demo: contains associated labels of land cover classes\n",
    "    \"\"\"\n",
    "    \n",
    "    \n",
    "    if path_csv is not None:\n",
    "        #get y from csv and reshape\n",
    "        raw = pd.read_csv(path_csv)\n",
    "        raw.land_cover = raw.land_cover.astype('int')\n",
    "        y_demo = raw['land_cover']\n",
    "        #reshape to use y_demo with gaussian X\n",
    "        y_demo = y_demo.values.reshape(2500, 2100).T\n",
    "        y_demo = y_demo.flatten()\n",
    "        \n",
    "         #get X from gdal function\n",
    "        raw = gdal_to_dataframe(path_raws, nrcan_name = nrcan_name, index = index, calculate_edge = target_edge, sigma = edge_sigma)\n",
    "        X_demo = raw.drop('y', axis = 1)\n",
    "    else:\n",
    "        #get X from gdal function\n",
    "        raw = gdal_to_dataframe(path_raws, nrcan_name = nrcan_name, index = index, calculate_edge = target_edge, sigma = edge_sigma)\n",
    "        y_demo = raw.y\n",
    "        X_demo = raw.drop('y', axis = 1)\n",
    "    \n",
    "    if geocoords is True:\n",
    "        X_demo['lat'], X_demo['long'] = get_geocoord(path_raws)\n",
    "    \n",
    "\n",
    "    if target_outlier is not False:\n",
    "        if target_outlier[0] == 'B':\n",
    "            X_demo[target_outlier] = outlier_fix(X_demo)[target_outlier]\n",
    "        else:\n",
    "            X_demo = outlier_fix(X_demo)\n",
    "    \n",
    "    if gaussian == True:\n",
    "        #filter raws from path\n",
    "        gauss_demo = filter_raws(path_raws, nrcan_name = nrcan_name, index = index)\n",
    "\n",
    "        #concat gauss and raw\n",
    "        gauss_demo_reset = gauss_demo.drop('y', axis = 1)\n",
    "        #rename gauss columns\n",
    "        gauss_names_reset = [f'{name}g' for name in gauss_demo_reset.columns]\n",
    "        gauss_demo_reset.columns = gauss_names_reset\n",
    "        #reset indices\n",
    "        raw.reset_index(inplace=True, drop=True)\n",
    "        gauss_demo_reset.reset_index(inplace=True, drop=True)    \n",
    "        merged_df = pd.concat([X_demo, gauss_demo_reset], axis = 1)\n",
    "\n",
    "        #select X values from gaussian dataframe\n",
    "        X_demo = merged_df\n",
    "\n",
    "    if clustering is not False:\n",
    "        param = pickle.load(open(clustering, 'rb'))\n",
    "        demo_cluster = param.predict(X_demo.astype('double'))\n",
    "        X_demo['clusters'] = demo_cluster\n",
    "        \n",
    "    if calculate_layers is not False:\n",
    "        X_demo = add_layers(X_demo)\n",
    "        X_demo = replace_values(X_demo)\n",
    "        \n",
    "        if calculate_layers == 'Extra':\n",
    "            X_demo = add_extra_layers(X_demo)\n",
    "        \n",
    "    return X_demo, y_demo"
   ]
  },
  {
   "cell_type": "code",
   "execution_count": null,
   "id": "756860e8-294a-487d-b092-c2093ca429f2",
   "metadata": {},
   "outputs": [],
   "source": [
    "X_train.columns"
   ]
  },
  {
   "cell_type": "code",
   "execution_count": 13,
   "id": "d14f6ea7-d11f-4a58-ac1c-9c233d637f44",
   "metadata": {},
   "outputs": [
    {
     "name": "stdout",
     "output_type": "stream",
     "text": [
      "getting edge\n"
     ]
    }
   ],
   "source": [
    "X_demo, y_demo = process_data('../data_tests/demo_site.csv', '../data_tests/demo/raws', target_edge = 'B8A',\n",
    "                 geocoords = False, target_outlier = 'B01f', edge_sigma = 3, gaussian = False, clustering = False, calculate_layers = True) "
   ]
  },
  {
   "cell_type": "code",
   "execution_count": null,
   "id": "0da02612-c56b-4f80-9a0b-17fa15ffbd4f",
   "metadata": {},
   "outputs": [],
   "source": [
    "target_class = 14\n",
    "y_demo = np.where(y_demo != target_class, 0, y_demo)\n",
    "y_demo = np.where(y_demo == target_class, 1, y_demo)"
   ]
  },
  {
   "cell_type": "code",
   "execution_count": null,
   "id": "6bac13ab-10ae-4c7b-9214-3a705ceaf41a",
   "metadata": {},
   "outputs": [],
   "source": [
    "#make sure we have the right features\n",
    "X_demo.columns"
   ]
  },
  {
   "cell_type": "code",
   "execution_count": null,
   "id": "6fd4feec-dae9-4b17-abeb-7fc341a24991",
   "metadata": {},
   "outputs": [],
   "source": [
    "#OPTIONAL: load specific model\n",
    "forest = pickle.load(open('models/forest_10.sav', 'rb'))"
   ]
  },
  {
   "cell_type": "code",
   "execution_count": 14,
   "id": "05a92e47-db84-4313-94db-07895c522106",
   "metadata": {},
   "outputs": [],
   "source": [
    "#generate predictions\n",
    "demo_pred = forest.predict(X_demo)"
   ]
  },
  {
   "cell_type": "code",
   "execution_count": 15,
   "id": "4e3bcefe-d3c7-4604-9145-9b358732c460",
   "metadata": {
    "tags": []
   },
   "outputs": [
    {
     "name": "stderr",
     "output_type": "stream",
     "text": [
      "C:\\Users\\fynn\\Documents\\anaconda\\lib\\site-packages\\sklearn\\metrics\\_classification.py:1987: UserWarning: y_pred contains classes not in y_true\n",
      "  warnings.warn(\"y_pred contains classes not in y_true\")\n"
     ]
    },
    {
     "name": "stdout",
     "output_type": "stream",
     "text": [
      "0.3254696340954055\n",
      "0.37191104761904764\n"
     ]
    },
    {
     "data": {
      "text/plain": [
       "<sklearn.metrics._plot.confusion_matrix.ConfusionMatrixDisplay at 0x1e74b8264f0>"
      ]
     },
     "execution_count": 15,
     "metadata": {},
     "output_type": "execute_result"
    },
    {
     "data": {
      "image/png": "[encoded data removed]",
      "text/plain": [
       "<Figure size 720x720 with 2 Axes>"
      ]
     },
     "metadata": {
      "needs_background": "light"
     },
     "output_type": "display_data"
    }
   ],
   "source": [
    "#accuracy\n",
    "print(balanced_accuracy_score(y_demo, demo_pred))\n",
    "print(accuracy_score(y_demo, demo_pred))\n",
    "\n",
    "#confusion matrix\n",
    "cm_forest = confusion_matrix(y_demo, demo_pred)\n",
    "cm_forest_fig = ConfusionMatrixDisplay(confusion_matrix = cm_forest)\n",
    "fig, ax = plt.subplots(figsize=(10,10))\n",
    "cm_forest_fig.plot(ax = ax)"
   ]
  },
  {
   "cell_type": "code",
   "execution_count": null,
   "id": "da8a71bc-c921-4090-933a-9ed7d363e88c",
   "metadata": {},
   "outputs": [],
   "source": [
    "print(classification_report(y_demo, demo_pred, zero_division = 0))\n"
   ]
  },
  {
   "cell_type": "code",
   "execution_count": null,
   "id": "ea8a3bd7-58c0-4b6e-b579-87522b925e86",
   "metadata": {},
   "outputs": [],
   "source": [
    "demo_pred = (forest.predict_proba(X_demo)[:,1] >= 0.6).astype(bool)"
   ]
  },
  {
   "cell_type": "code",
   "execution_count": 16,
   "id": "3a25a835-ed77-4ef5-9bab-fd507d215c90",
   "metadata": {},
   "outputs": [
    {
     "data": {
      "image/png": "[encoded data removed]",
      "text/plain": [
       "<Figure size 432x288 with 1 Axes>"
      ]
     },
     "metadata": {
      "needs_background": "light"
     },
     "output_type": "display_data"
    }
   ],
   "source": [
    "#plot demo prediction map\n",
    "map_pred = np.asarray(demo_pred).reshape(2100, 2500)\n",
    "demo_cmap = cm.get_cmap('jet', 15)    # 11 discrete colors\n",
    "prediction_map = plt.imshow(map_pred, cmap =demo_cmap)"
   ]
  },
  {
   "cell_type": "code",
   "execution_count": null,
   "id": "55f6d984-f4e6-488a-bb8d-c4ff3331ece9",
   "metadata": {},
   "outputs": [],
   "source": [
    "#OPTIONAL: save matrix and map as versions\n",
    "#save confusion matrix\n",
    "cm_forest_fig.figure_.savefig(os.path.join(confusion_path, 'demo/RFC', 'version_16.png'))\n",
    "\n",
    "#save prediction map\n",
    "prediction_map.figure.savefig(os.path.join(confusion_path, 'demo/RFC', 'map_16.png'))"
   ]
  },
  {
   "cell_type": "code",
   "execution_count": null,
   "id": "51c4b986-17cf-47a8-9a5c-dba7b942d0de",
   "metadata": {},
   "outputs": [],
   "source": [
    "#create a copy to check the distribution of specific class predicitons\n",
    "check_class_pred = deepcopy(demo_pred.values)\n",
    "\n",
    "check_class_pred = np.where(check_class_pred != 14, 0, check_class_pred)\n",
    "check_class_pred = np.where(check_class_pred == 14, 1, check_class_pred)"
   ]
  },
  {
   "cell_type": "code",
   "execution_count": null,
   "id": "b2b43fc1-f927-4aef-9268-a239a648ce54",
   "metadata": {},
   "outputs": [],
   "source": [
    "#plot feature or specific class\n",
    "map_feat = np.asarray(y_demo).reshape(2100, 2500)\n",
    "cmap = cm.get_cmap('jet', 2)    # set discrete\n",
    "\n",
    "feature_map = plt.imshow(map_feat, cmap = cmap)"
   ]
  },
  {
   "cell_type": "markdown",
   "id": "c3bbc8ee-8e1f-45cf-8f0f-b98bbdb9f7ef",
   "metadata": {},
   "source": [
    "### Random extent test"
   ]
  },
  {
   "cell_type": "code",
   "execution_count": null,
   "id": "ca886af7-8608-4bd7-92da-50a34f86f3da",
   "metadata": {},
   "outputs": [],
   "source": [
    "y_ran = trois_raws.y\n",
    "X_ran = trois_raws.drop('y', axis = 1)"
   ]
  },
  {
   "cell_type": "code",
   "execution_count": null,
   "id": "364754ff-feff-4d54-98f3-77797c95cb7d",
   "metadata": {},
   "outputs": [],
   "source": [
    "#OPTIONAL: run to get gaussian version of toronto\n",
    "gauss_test = filter_raws('../data_tests/trois/raws')\n",
    "gauss_test.head()\n",
    "\n",
    "gauss_test['y'] = gauss_test['y'].replace({0:18})\n",
    "\n",
    "#replace X and y with gauss\n",
    "#concat gauss and raw\n",
    "gauss_test_reset = gauss_test.drop('y', axis = 1)\n",
    "#rename gauss columns\n",
    "gauss_names = [f'{name}g' for name in gauss_test_reset.columns]\n",
    "gauss_test_reset.columns = gauss_names\n",
    "#reset indices\n",
    "trois_raws.reset_index(inplace=True, drop=True)\n",
    "gauss_test_reset.reset_index(inplace=True, drop=True)    \n",
    "merged_df = pd.concat([trois_raws, gauss_test_reset], axis = 1)"
   ]
  },
  {
   "cell_type": "code",
   "execution_count": null,
   "id": "c59ea4d5-3f5a-4e56-a64f-e179da3b758d",
   "metadata": {},
   "outputs": [],
   "source": [
    "y_ran = merged_df.y\n",
    "X_ran = merged_df.drop('y', axis = 1)"
   ]
  },
  {
   "cell_type": "code",
   "execution_count": null,
   "id": "c2b183dd-901c-495a-9f72-5134f283329c",
   "metadata": {},
   "outputs": [],
   "source": [
    "ran_cluster = param.predict(X_ran.astype('double'))\n",
    "X_ran['clusters'] = ran_cluster"
   ]
  },
  {
   "cell_type": "code",
   "execution_count": null,
   "id": "eeb41fef-0b64-4105-ad30-4643f560adf8",
   "metadata": {},
   "outputs": [],
   "source": [
    "#OPTIONAL: add calculated layers\n",
    "X_ran = add_layers(X_ran)\n",
    "X_ran = replace_values(X_ran)"
   ]
  },
  {
   "cell_type": "code",
   "execution_count": null,
   "id": "4ea365ff-fb94-4937-95d8-9efa1ce0eed2",
   "metadata": {},
   "outputs": [],
   "source": [
    "X_ran['B12f'] = outlier_fix(X_ran)['B12f']"
   ]
  },
  {
   "cell_type": "code",
   "execution_count": null,
   "id": "9a87d41d-911e-49d6-9269-12740ffe1ecb",
   "metadata": {},
   "outputs": [],
   "source": [
    "#optional PCA, to use replace X_tor in predict with X_tor_pca\n",
    "pca = PCA(n_components = 6)\n",
    "X_ran_pca = pca.fit_transform(X_ran)\n",
    "\n",
    "#predict\n",
    "ran_pred = forest.predict(X_ran)\n",
    "print(balanced_accuracy_score(y_ran, ran_pred))\n",
    "\n",
    "#display\n",
    "cm_forest = confusion_matrix(y_ran, ran_pred)\n",
    "cm_forest_fig = ConfusionMatrixDisplay(confusion_matrix = cm_forest, display_labels = forest.classes_)\n",
    "fig, ax = plt.subplots(figsize=(10,10))\n",
    "cm_forest_fig.plot(ax = ax)"
   ]
  },
  {
   "cell_type": "code",
   "execution_count": null,
   "id": "86cc8577-54d4-41fb-a954-d27a0fde14fb",
   "metadata": {},
   "outputs": [],
   "source": [
    "#display prediction map\n",
    "map_pred = np.asarray(ran_pred).reshape(656, 1250)\n",
    "cmap = cm.get_cmap('jet', 2)    # 11 discrete colors\n",
    "prediction_map = plt.imshow(map_pred, cmap=cmap)\n",
    "\n",
    "#save\n",
    "#prediction_map.figure.savefig(os.path.join(confusion_path, 'gaussian', 'map_tor.png'))"
   ]
  },
  {
   "cell_type": "code",
   "execution_count": null,
   "id": "85264839-ba66-4342-a1a2-26941bac6e4e",
   "metadata": {},
   "outputs": [],
   "source": [
    "#display prediction map\n",
    "map_pred = np.asarray(y_ran).reshape(656, 1250)\n",
    "cmap = cm.get_cmap('jet', 2)    # 11 discrete colors\n",
    "prediction_map = plt.imshow(map_pred, cmap=cmap)"
   ]
  },
  {
   "cell_type": "code",
   "execution_count": null,
   "id": "658e318a-6518-4f9a-83d6-da4cc8b39140",
   "metadata": {},
   "outputs": [],
   "source": []
  },
  {
   "cell_type": "markdown",
   "id": "827392e3-d0b2-4090-a8ad-706b789fdd37",
   "metadata": {
    "tags": []
   },
   "source": [
    "## SVC"
   ]
  },
  {
   "cell_type": "code",
   "execution_count": null,
   "id": "9ac82830-f13d-4c64-908b-255aac5fab3e",
   "metadata": {},
   "outputs": [],
   "source": [
    "#NOTE: takes a long time to run"
   ]
  },
  {
   "cell_type": "code",
   "execution_count": null,
   "id": "c13171bf-e89a-45e2-a959-f97ada3add3d",
   "metadata": {},
   "outputs": [],
   "source": [
    "#Different SVC kernels - sig performed less then 1 percent on subsample so its removed\n",
    "#linear = svm.SVC(kernel='linear', C=1, decision_function_shape='ovo').fit(X_train, y_train)\n",
    "#rbf = svm.SVC(kernel='rbf', gamma=1, C=1, decision_function_shape='ovo').fit(X_train, y_train)\n",
    "poly = svm.SVC(kernel='poly', degree=3, C=1, decision_function_shape='ovo').fit(X_train, y_train)\n",
    "#sig = svm.SVC(kernel='sigmoid', C=1, decision_function_shape='ovo').fit(X_train, y_train)"
   ]
  },
  {
   "cell_type": "code",
   "execution_count": null,
   "id": "591f1d3b-4998-4346-b66f-776b1660d7ec",
   "metadata": {},
   "outputs": [],
   "source": [
    "#predict from X_test\n",
    "#linear_pred = linear.predict(X_test)\n",
    "poly_pred = poly.predict(X_test)\n",
    "#rbf_pred = rbf.predict(X_test)\n",
    "#sig_pred = sig.predict(X_test)"
   ]
  },
  {
   "cell_type": "code",
   "execution_count": null,
   "id": "76a8b191-b653-4754-b2c4-b23552ea3eb3",
   "metadata": {
    "tags": []
   },
   "outputs": [],
   "source": [
    "# retrieve the accuracy and print it for all 4 kernel functions\n",
    "#accuracy_lin = linear.score(X_test, y_test)\n",
    "accuracy_poly = poly.score(X_test, y_test)\n",
    "#accuracy_rbf = rbf.score(X_test, y_test)\n",
    "#accuracy_sig = sig.score(X_test, y_test)\n",
    "\n",
    "# creating a confusion matrix\n",
    "#cm_lin = confusion_matrix(y_test, linear_pred)\n",
    "cm_poly = confusion_matrix(y_test, poly_pred)\n",
    "#cm_rbf = confusion_matrix(y_test, rbf_pred)\n",
    "#cm_sig = confusion_matrix(y_test, sig_pred)\n",
    "\n",
    "#visual confusion matrix\n",
    "#cm_lin_fig = ConfusionMatrixDisplay(confusion_matrix = cm_lin, display_labels = linear.classes_)\n",
    "cm_poly_fig = ConfusionMatrixDisplay(confusion_matrix = cm_poly, display_labels = poly.classes_)\n",
    "#cm_rbf_fig = ConfusionMatrixDisplay(confusion_matrix = cm_rbf, display_labels = rbf.classes_)\n",
    "\n",
    "#print accuracy and confusion matrix\n",
    "#print(accuracy_lin)\n",
    "#cm_lin_fig.plot()\n",
    "print(accuracy_poly)\n",
    "cm_poly_fig.plot()\n",
    "#print(accuracy_rbf)\n",
    "#cm_rbf_fig.plot()"
   ]
  },
  {
   "cell_type": "code",
   "execution_count": null,
   "id": "39b1ac35-5495-4312-89c6-a9aaf7cf1b9a",
   "metadata": {},
   "outputs": [],
   "source": [
    "#save confusion matrices\n",
    "cm_lin_fig.figure_.savefig(os.path.join(confusion_path, group_folder, 'lin.png'), dpi = 300)\n",
    "cm_poly_fig.figure_.savefig(os.path.join(confusion_path, group_folder, 'poly.png'), dpi = 300)\n",
    "cm_rbf_fig.figure_.savefig(os.path.join(confusion_path, group_folder, 'rbf.png'), dpi = 300)"
   ]
  },
  {
   "cell_type": "markdown",
   "id": "f32e938f-5ead-44e4-8d2c-ea177e634cae",
   "metadata": {},
   "source": [
    "## XGBoost"
   ]
  },
  {
   "cell_type": "code",
   "execution_count": null,
   "id": "7d8d9cb0-21e4-48b0-ba96-4179506e7bec",
   "metadata": {},
   "outputs": [],
   "source": [
    "#UNDER CONSTRUCTION: Predictions are lower than they should be"
   ]
  },
  {
   "cell_type": "code",
   "execution_count": null,
   "id": "8aaf5501-1323-47c4-8d0e-33a5b7f0c8d3",
   "metadata": {},
   "outputs": [],
   "source": [
    "xg_classes"
   ]
  },
  {
   "cell_type": "code",
   "execution_count": null,
   "id": "4a501000-7405-4f6d-93ae-e6758a4be04f",
   "metadata": {},
   "outputs": [],
   "source": [
    "xg_classes = list(range(len(y_train.unique())))\n",
    "\n",
    "xg_y_train = y_train.replace(y_train.unique(), xg_classes)\n",
    "xg_y_test = y_test.replace(y_test.unique(), xg_classes)"
   ]
  },
  {
   "cell_type": "code",
   "execution_count": null,
   "id": "05b1ed82-25db-4b7a-9fef-64c3d60941b4",
   "metadata": {},
   "outputs": [],
   "source": [
    "y_train = y_train.astype('object')"
   ]
  },
  {
   "cell_type": "code",
   "execution_count": null,
   "id": "258fdce0-17df-4d1e-832f-ea986c71a31e",
   "metadata": {},
   "outputs": [],
   "source": [
    "y_train"
   ]
  },
  {
   "cell_type": "code",
   "execution_count": null,
   "id": "a702707f-78d0-41fe-8455-0badca8a60bd",
   "metadata": {},
   "outputs": [],
   "source": [
    "xgb.__version__"
   ]
  },
  {
   "cell_type": "code",
   "execution_count": null,
   "id": "ca3d6e7b-6b35-427e-bd8a-5cdb4e731670",
   "metadata": {},
   "outputs": [],
   "source": [
    "X_train['edge'] = X_train['edge'].astype('int')\n",
    "X_test['edge'] = X_test['edge'].astype('int')"
   ]
  },
  {
   "cell_type": "code",
   "execution_count": null,
   "id": "862fd707-e0c1-4a4d-86b6-147d805ff535",
   "metadata": {},
   "outputs": [],
   "source": [
    "xg_cl = xgb.XGBClassifier().fit(X_train, y_train)\n",
    "\n",
    "#get accuracy\n",
    "accuracy_xgb = xg_cl.score(X_test, y_test)\n",
    "print(accuracy_xgb)\n",
    "\n",
    "#plot confusion matrix\n",
    "xgb_pred = xg_cl.predict(X_test)\n",
    "cm_xgb = confusion_matrix(y_test, xgb_pred)\n",
    "cm_xgb_fig = ConfusionMatrixDisplay(cm_xgb)\n",
    "cm_xgb_fig.plot()"
   ]
  },
  {
   "cell_type": "code",
   "execution_count": null,
   "id": "4f9bd23d-9c81-48ba-b4f5-8eb8f8439d9b",
   "metadata": {},
   "outputs": [],
   "source": [
    "#save\n",
    "cm_xgb_fig.figure_.savefig(os.path.join(confusion_path, group_folder, 'xgb.png'), dpi = 300)"
   ]
  },
  {
   "cell_type": "code",
   "execution_count": null,
   "id": "1f5750a4-cb3f-45f6-8717-346889879a4e",
   "metadata": {},
   "outputs": [],
   "source": [
    "X_demo['edge'] = X_test['edge'].astype('int')\n",
    "\n",
    "#generate predictions\n",
    "demo_pred = xg_cl.predict_proba(X_demo)"
   ]
  },
  {
   "cell_type": "code",
   "execution_count": null,
   "id": "c64c4285-e219-43f0-9ef9-9d2c42fb54fc",
   "metadata": {},
   "outputs": [],
   "source": [
    "demo_pred = xg_cl.predict(X_demo)"
   ]
  },
  {
   "cell_type": "code",
   "execution_count": null,
   "id": "66ba4ca2-99de-4743-8dda-dd23a2e024a5",
   "metadata": {},
   "outputs": [],
   "source": [
    "#accuracy\n",
    "print(balanced_accuracy_score(y_demo, demo_pred))\n",
    "print(accuracy_score(y_demo, demo_pred))\n",
    "\n",
    "#confusion matrix\n",
    "cm_forest = confusion_matrix(y_demo, demo_pred)\n",
    "cm_forest_fig = ConfusionMatrixDisplay(confusion_matrix = cm_forest, display_labels = forest.classes_)\n",
    "fig, ax = plt.subplots(figsize=(10,10))\n",
    "cm_forest_fig.plot(ax = ax)"
   ]
  },
  {
   "cell_type": "code",
   "execution_count": null,
   "id": "7603b902-58e7-42c0-9b2f-77d63de50a14",
   "metadata": {},
   "outputs": [],
   "source": [
    "demo_pred = (xg_cl.predict_proba(X_demo)[:,1] >= 0.60).astype(bool)"
   ]
  },
  {
   "cell_type": "code",
   "execution_count": null,
   "id": "9b6ec6e4-a89f-4cbd-839d-326877ce9b26",
   "metadata": {},
   "outputs": [],
   "source": [
    "#plot demo prediction map\n",
    "map_pred = np.asarray(demo_pred).reshape(2100, 2500)\n",
    "demo_cmap = cm.get_cmap('jet', 2)    # 11 discrete colors\n",
    "prediction_map = plt.imshow(map_pred, cmap=demo_cmap)"
   ]
  },
  {
   "cell_type": "code",
   "execution_count": null,
   "id": "eeed136d-f223-4946-9da8-599a60f04a36",
   "metadata": {},
   "outputs": [],
   "source": [
    "from sklearn.metrics import RocCurveDisplay"
   ]
  },
  {
   "cell_type": "code",
   "execution_count": null,
   "id": "0aae259d-fdab-4109-bbe2-7dd2267b3075",
   "metadata": {},
   "outputs": [],
   "source": [
    "RocCurveDisplay.from_predictions(y_demo, demo_pred)"
   ]
  },
  {
   "cell_type": "code",
   "execution_count": null,
   "id": "e200c586-8b26-467b-9119-ec788f84108a",
   "metadata": {},
   "outputs": [],
   "source": [
    "pickle.dump(forest, open('../models/xgb_bin14_v2.sav', 'wb'))"
   ]
  },
  {
   "cell_type": "code",
   "execution_count": null,
   "id": "3e512b08-26fd-4a9f-ae29-96d719c5982f",
   "metadata": {},
   "outputs": [],
   "source": [
    "#plot demo prediction map\n",
    "map_pred = np.asarray(y_demo).reshape(2100, 2500)\n",
    "demo_cmap = cm.get_cmap('jet', 2)    # 11 discrete colors\n",
    "prediction_map = plt.imshow(map_pred, cmap=demo_cmap)"
   ]
  },
  {
   "cell_type": "code",
   "execution_count": null,
   "id": "07977ce5-a390-4763-afd4-76b6aa855b27",
   "metadata": {},
   "outputs": [],
   "source": [
    "X_demo['edge'].astype(int)"
   ]
  },
  {
   "cell_type": "code",
   "execution_count": null,
   "id": "d7b742de-b814-4db5-b491-09e9993d93bb",
   "metadata": {},
   "outputs": [],
   "source": [
    "#--Don't use for now, come back to it for when its time to submit--\n",
    "#convert into matrices to perform gaussian then convert back into 1d array and append to dataframe\n",
    "X_demo_gauss = pd.DataFrame()\n",
    "for band in X_demo.columns:\n",
    "    band = X_demo.columns[1]\n",
    "    reconstruct = np.asarray(X_demo[band]).reshape(2500, 2100).T\n",
    "    recon_gauss = gaussian_filter(reconstruct, sigma = 1)\n",
    "    X_demo_gauss[band] = recon_gauss.flatten()\n",
    "    \n",
    "#compare demo input and gauss output\n",
    "fig = plt.figure(figsize = (20,20))\n",
    "ax1 = fig.add_subplot(121)  # left side\n",
    "ax2 = fig.add_subplot(122)  # right side\n",
    "\n",
    "ax1.imshow(reconstruct)\n",
    "ax2.imshow(recon_gauss)"
   ]
  }
 ],
 "metadata": {
  "kernelspec": {
   "display_name": "Python 3 (ipykernel)",
   "language": "python",
   "name": "python3"
  },
  "language_info": {
   "codemirror_mode": {
    "name": "ipython",
    "version": 3
   },
   "file_extension": ".py",
   "mimetype": "text/x-python",
   "name": "python",
   "nbconvert_exporter": "python",
   "pygments_lexer": "ipython3",
   "version": "3.9.7"
  }
 },
 "nbformat": 4,
 "nbformat_minor": 5
}
