{
 "cells": [
  {
   "cell_type": "markdown",
   "id": "d938f933-76fc-4483-8bc4-0938516cecf2",
   "metadata": {},
   "source": [
    "# Set up"
   ]
  },
  {
   "cell_type": "code",
   "execution_count": 1,
   "id": "52a86f55-cb12-47d9-89f8-50791edd9991",
   "metadata": {},
   "outputs": [],
   "source": [
    "import os\n",
    "import sys\n",
    "#set custom path\n",
    "sys.path.insert(0, os.path.abspath(r'\\users\\fynn\\documents\\anaconda\\envs\\tf_keras_gpu_test\\lib\\site-packages'))\n",
    "\n",
    "import tensorflow as tf\n",
    "gpus = tf.config.experimental.list_physical_devices('GPU')\n",
    "if gpus:\n",
    "    try:\n",
    "        # Currently, memory growth needs to be the same across GPUs\n",
    "        for gpu in gpus:\n",
    "            tf.config.experimental.set_memory_growth(gpu, True)\n",
    "        logical_gpus = tf.config.experimental.list_logical_devices('GPU')\n",
    "        print(len(gpus), \"Physical GPUs,\", len(logical_gpus), \"Logical GPUs\")\n",
    "    except RuntimeError as e:\n",
    "        # Memory growth must be set before GPUs have been initialized\n",
    "        print(e)"
   ]
  },
  {
   "cell_type": "code",
   "execution_count": 30,
   "id": "8878e278-ba85-4c19-a73e-8a10d3616e38",
   "metadata": {},
   "outputs": [],
   "source": [
    "from tensorflow.keras import models\n",
    "from tensorflow.keras import layers\n",
    "#for data encoding\n",
    "from tensorflow.keras.utils import to_categorical\n",
    "from tensorflow import keras\n",
    "\n",
    "import numpy as np\n",
    "import pandas as pd\n",
    "\n",
    "from sklearn.model_selection import train_test_split\n",
    "from sklearn.metrics import classification_report\n",
    "from sklearn.preprocessing import StandardScaler"
   ]
  },
  {
   "cell_type": "code",
   "execution_count": 28,
   "id": "73f80897-3ef4-4ad3-9ae0-50b26fb73f9d",
   "metadata": {},
   "outputs": [
    {
     "data": {
      "text/plain": [
       "(416000, 12)"
      ]
     },
     "execution_count": 28,
     "metadata": {},
     "output_type": "execute_result"
    }
   ],
   "source": [
    "#load data\n",
    "#data = pd.read_csv('data/testtrain.csv') #each row is color name, then RGB values (4 columns)\n",
    "\n",
    "y = data.y\n",
    "X = np.asarray(data.drop('y', axis = 1))\n",
    "\n",
    "#test train split\n",
    "X_train, X_test, y_train, y_test = train_test_split(X, y, stratify = y, train_size=0.8, random_state = 0)\n",
    "X_train.shape"
   ]
  },
  {
   "cell_type": "code",
   "execution_count": 31,
   "id": "b211153b-3fd1-47ff-850a-f09d4fede1b7",
   "metadata": {},
   "outputs": [],
   "source": [
    "scaler = StandardScaler()\n",
    "X_train = scaler.fit_transform(X_train)\n",
    "X_test = scaler.transform(X_test)"
   ]
  },
  {
   "cell_type": "code",
   "execution_count": 32,
   "id": "e5d74118-6820-4b70-95d6-2e7ebec81fee",
   "metadata": {},
   "outputs": [],
   "source": [
    "#translate class labels\n",
    "seq_classes = list(range(len(y_train.unique())))\n",
    "seq_y_train = y_train.replace(y_train.unique(), seq_classes)\n",
    "seq_y_test = y_test.replace(y_test.unique(), seq_classes)"
   ]
  },
  {
   "cell_type": "code",
   "execution_count": 42,
   "id": "b2e820a7-2e45-444e-85fb-a1b8b0b172ac",
   "metadata": {},
   "outputs": [
    {
     "data": {
      "text/plain": [
       "343691     0\n",
       "108945     1\n",
       "78154      2\n",
       "16699      3\n",
       "106829     1\n",
       "          ..\n",
       "38473      3\n",
       "311629     5\n",
       "278450    11\n",
       "502276     9\n",
       "281702     5\n",
       "Name: y, Length: 416000, dtype: int64"
      ]
     },
     "execution_count": 42,
     "metadata": {},
     "output_type": "execute_result"
    }
   ],
   "source": [
    "seq_y_train"
   ]
  },
  {
   "cell_type": "markdown",
   "id": "90fd3fce-a303-4e00-99f9-7effd8c0bce0",
   "metadata": {},
   "source": [
    "# Model"
   ]
  },
  {
   "cell_type": "code",
   "execution_count": 44,
   "id": "4c9100ab-1d33-4d7a-91ac-dad426a3dca0",
   "metadata": {},
   "outputs": [],
   "source": [
    "#to ensure our model does not interpret int classes as regression we encode target as categories\n",
    "train_labels = to_categorical(seq_y_train, num_classes = 13)\n",
    "test_labels = to_categorical(seq_y_test, num_classes = 13)"
   ]
  },
  {
   "cell_type": "code",
   "execution_count": 45,
   "id": "2a702a26-61f8-49f9-aa42-e6caf6eb6b4f",
   "metadata": {},
   "outputs": [
    {
     "data": {
      "text/plain": [
       "array([[1., 0., 0., 0., 0., 0., 0., 0., 0., 0., 0., 0., 0.],\n",
       "       [0., 1., 0., 0., 0., 0., 0., 0., 0., 0., 0., 0., 0.],\n",
       "       [0., 0., 1., 0., 0., 0., 0., 0., 0., 0., 0., 0., 0.],\n",
       "       [0., 0., 0., 1., 0., 0., 0., 0., 0., 0., 0., 0., 0.],\n",
       "       [0., 1., 0., 0., 0., 0., 0., 0., 0., 0., 0., 0., 0.]],\n",
       "      dtype=float32)"
      ]
     },
     "execution_count": 45,
     "metadata": {},
     "output_type": "execute_result"
    }
   ],
   "source": [
    "train_labels[:5]"
   ]
  },
  {
   "cell_type": "code",
   "execution_count": 48,
   "id": "e499457b-8723-4a52-a446-d31ba502f25e",
   "metadata": {},
   "outputs": [],
   "source": [
    "#call basic feed forward NN\n",
    "network = models.Sequential()\n",
    "#build layers\n",
    "#input layers (unit, activation, input)\n",
    "network.add(layers.Dense(24, activation = 'relu', input_shape = (12*1,)))\n",
    "#hidden layer [try without input_shape to see if it works]\n",
    "network.add(layers.Dense(784, activation = 'relu'))\n",
    "network.add(layers.Dropout(0.2))\n",
    "#output layer\n",
    "network.add(layers.Dense(13, activation = 'softmax'))\n",
    "\n",
    "\n",
    "opt = keras.optimizers.Adam(learning_rate=0.01)\n",
    "#compile model to configure for training\n",
    "network.compile(optimizer=opt, #optomizers are basically different versions of Stochastic GD\n",
    "                loss = 'categorical_crossentropy',\n",
    "                metrics=['categorical_accuracy'])"
   ]
  },
  {
   "cell_type": "code",
   "execution_count": 49,
   "id": "ee150132-5d13-449e-b025-ea1510afa3a7",
   "metadata": {},
   "outputs": [
    {
     "name": "stdout",
     "output_type": "stream",
     "text": [
      "Epoch 1/20\n",
      "3328/3328 [==============================] - 4s 1ms/step - loss: 1.2185 - categorical_accuracy: 0.5611 - val_loss: 1.1303 - val_categorical_accuracy: 0.5933\n",
      "Epoch 2/20\n",
      "3328/3328 [==============================] - 4s 1ms/step - loss: 1.1515 - categorical_accuracy: 0.5854 - val_loss: 1.1215 - val_categorical_accuracy: 0.5947\n",
      "Epoch 3/20\n",
      "3328/3328 [==============================] - 4s 1ms/step - loss: 1.1385 - categorical_accuracy: 0.5907 - val_loss: 1.1097 - val_categorical_accuracy: 0.5986\n",
      "Epoch 4/20\n",
      "3328/3328 [==============================] - 4s 1ms/step - loss: 1.1284 - categorical_accuracy: 0.5927 - val_loss: 1.1112 - val_categorical_accuracy: 0.5993\n",
      "Epoch 5/20\n",
      "3328/3328 [==============================] - 4s 1ms/step - loss: 1.1260 - categorical_accuracy: 0.5951 - val_loss: 1.1099 - val_categorical_accuracy: 0.5962\n",
      "Epoch 6/20\n",
      "3328/3328 [==============================] - 4s 1ms/step - loss: 1.1206 - categorical_accuracy: 0.5961 - val_loss: 1.0931 - val_categorical_accuracy: 0.6088\n",
      "Epoch 7/20\n",
      "3328/3328 [==============================] - 4s 1ms/step - loss: 1.1181 - categorical_accuracy: 0.5970 - val_loss: 1.0907 - val_categorical_accuracy: 0.6077\n",
      "Epoch 8/20\n",
      "3328/3328 [==============================] - 4s 1ms/step - loss: 1.1174 - categorical_accuracy: 0.5980 - val_loss: 1.0850 - val_categorical_accuracy: 0.6077\n",
      "Epoch 9/20\n",
      "3328/3328 [==============================] - 4s 1ms/step - loss: 1.1148 - categorical_accuracy: 0.5986 - val_loss: 1.0768 - val_categorical_accuracy: 0.6119\n",
      "Epoch 10/20\n",
      "3328/3328 [==============================] - 4s 1ms/step - loss: 1.1117 - categorical_accuracy: 0.5998 - val_loss: 1.0980 - val_categorical_accuracy: 0.6010\n",
      "Epoch 11/20\n",
      "3328/3328 [==============================] - 4s 1ms/step - loss: 1.1124 - categorical_accuracy: 0.5994 - val_loss: 1.0981 - val_categorical_accuracy: 0.6014\n",
      "Epoch 12/20\n",
      "3328/3328 [==============================] - 4s 1ms/step - loss: 1.1127 - categorical_accuracy: 0.5996 - val_loss: 1.0744 - val_categorical_accuracy: 0.6123\n",
      "Epoch 13/20\n",
      "3328/3328 [==============================] - 4s 1ms/step - loss: 1.1110 - categorical_accuracy: 0.6001 - val_loss: 1.0798 - val_categorical_accuracy: 0.6094\n",
      "Epoch 14/20\n",
      "3328/3328 [==============================] - 4s 1ms/step - loss: 1.1103 - categorical_accuracy: 0.6007 - val_loss: 1.0845 - val_categorical_accuracy: 0.6093\n",
      "Epoch 15/20\n",
      "3328/3328 [==============================] - 4s 1ms/step - loss: 1.1160 - categorical_accuracy: 0.5988 - val_loss: 1.0675 - val_categorical_accuracy: 0.6166\n",
      "Epoch 16/20\n",
      "3328/3328 [==============================] - 4s 1ms/step - loss: 1.1084 - categorical_accuracy: 0.6017 - val_loss: 1.0813 - val_categorical_accuracy: 0.6076\n",
      "Epoch 17/20\n",
      "3328/3328 [==============================] - 4s 1ms/step - loss: 1.1088 - categorical_accuracy: 0.6005 - val_loss: 1.0812 - val_categorical_accuracy: 0.6110\n",
      "Epoch 18/20\n",
      "3328/3328 [==============================] - 4s 1ms/step - loss: 1.1082 - categorical_accuracy: 0.6008 - val_loss: 1.0929 - val_categorical_accuracy: 0.6098\n",
      "Epoch 19/20\n",
      "3328/3328 [==============================] - 4s 1ms/step - loss: 1.1081 - categorical_accuracy: 0.6016 - val_loss: 1.0831 - val_categorical_accuracy: 0.6060\n",
      "Epoch 20/20\n",
      "3328/3328 [==============================] - 4s 1ms/step - loss: 1.1075 - categorical_accuracy: 0.6018 - val_loss: 1.0852 - val_categorical_accuracy: 0.6073\n"
     ]
    },
    {
     "data": {
      "text/plain": [
       "<keras.callbacks.History at 0x2d020f68e80>"
      ]
     },
     "execution_count": 49,
     "metadata": {},
     "output_type": "execute_result"
    }
   ],
   "source": [
    "#fit to train data\n",
    "network.fit(X_train, train_labels, epochs=20, batch_size = 100, validation_split = 0.2)"
   ]
  },
  {
   "cell_type": "code",
   "execution_count": 51,
   "id": "9f34d840-c03c-443d-8b92-b901e434fe0d",
   "metadata": {},
   "outputs": [
    {
     "name": "stdout",
     "output_type": "stream",
     "text": [
      "[9 0 9 5 9] [array([0, 1, 2, 1, 0], dtype=int64)]\n",
      "              precision    recall  f1-score   support\n",
      "\n",
      "           0       0.00      0.00      0.00      8000\n",
      "           1       0.04      0.04      0.04      8000\n",
      "           2       0.01      0.01      0.01      8000\n",
      "           3       0.02      0.02      0.02      8000\n",
      "           4       0.12      0.05      0.07      8000\n",
      "           5       0.06      0.04      0.05      8000\n",
      "           6       0.12      0.15      0.13      8000\n",
      "           7       0.06      0.03      0.04      8000\n",
      "           8       0.00      0.00      0.00      8000\n",
      "           9       0.01      0.01      0.01      8000\n",
      "          10       0.94      0.90      0.92      8000\n",
      "          11       0.00      0.00      0.00      8000\n",
      "          12       0.00      0.00      0.00      8000\n",
      "\n",
      "    accuracy                           0.10    104000\n",
      "   macro avg       0.10      0.10      0.10    104000\n",
      "weighted avg       0.10      0.10      0.10    104000\n",
      "\n"
     ]
    }
   ],
   "source": [
    "network_prob = network.predict(X_test)\n",
    "network_pred = network_prob.argmax(axis=-1)\n",
    "print(network_pred[:5], [seq_y_test[:5].values])\n",
    "print(classification_report(seq_y_test, network_pred))"
   ]
  },
  {
   "cell_type": "markdown",
   "id": "4cd152aa-1451-46f9-9498-ae2e8d69ac0a",
   "metadata": {},
   "source": [
    "# Convolutional"
   ]
  },
  {
   "cell_type": "code",
   "execution_count": null,
   "id": "6aa6fe7a-8a3c-419d-882a-6e77efeb874e",
   "metadata": {},
   "outputs": [],
   "source": []
  }
 ],
 "metadata": {
  "kernelspec": {
   "display_name": "Python 3 (ipykernel)",
   "language": "python",
   "name": "python3"
  },
  "language_info": {
   "codemirror_mode": {
    "name": "ipython",
    "version": 3
   },
   "file_extension": ".py",
   "mimetype": "text/x-python",
   "name": "python",
   "nbconvert_exporter": "python",
   "pygments_lexer": "ipython3",
   "version": "3.9.7"
  }
 },
 "nbformat": 4,
 "nbformat_minor": 5
}
