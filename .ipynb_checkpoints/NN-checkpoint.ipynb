{
 "cells": [
  {
   "cell_type": "markdown",
   "id": "d938f933-76fc-4483-8bc4-0938516cecf2",
   "metadata": {},
   "source": [
    "# Set up"
   ]
  },
  {
   "cell_type": "code",
   "execution_count": 1,
   "id": "52a86f55-cb12-47d9-89f8-50791edd9991",
   "metadata": {},
   "outputs": [],
   "source": [
    "import os\n",
    "import sys\n",
    "#set custom path\n",
    "sys.path.insert(0, os.path.abspath(r'\\users\\fynn\\documents\\anaconda\\envs\\tf_keras_gpu_test\\lib\\site-packages'))\n",
    "\n",
    "import tensorflow as tf\n",
    "gpus = tf.config.experimental.list_physical_devices('GPU')\n",
    "if gpus:\n",
    "    try:\n",
    "        # Currently, memory growth needs to be the same across GPUs\n",
    "        for gpu in gpus:\n",
    "            tf.config.experimental.set_memory_growth(gpu, True)\n",
    "        logical_gpus = tf.config.experimental.list_logical_devices('GPU')\n",
    "        print(len(gpus), \"Physical GPUs,\", len(logical_gpus), \"Logical GPUs\")\n",
    "    except RuntimeError as e:\n",
    "        # Memory growth must be set before GPUs have been initialized\n",
    "        print(e)"
   ]
  },
  {
   "cell_type": "code",
   "execution_count": 2,
   "id": "8878e278-ba85-4c19-a73e-8a10d3616e38",
   "metadata": {},
   "outputs": [],
   "source": [
    "from tensorflow.keras import models\n",
    "from tensorflow.keras import layers\n",
    "#for data encoding\n",
    "from tensorflow.keras.utils import to_categorical\n",
    "\n",
    "import numpy as np\n",
    "import pandas as pd\n",
    "\n",
    "from sklearn.model_selection import train_test_split"
   ]
  },
  {
   "cell_type": "code",
   "execution_count": 3,
   "id": "73f80897-3ef4-4ad3-9ae0-50b26fb73f9d",
   "metadata": {},
   "outputs": [
    {
     "data": {
      "text/plain": [
       "array([[3.370e-02, 4.950e-02, 7.120e-02, ..., 2.115e-01, 1.385e-01,\n",
       "        2.414e-01],\n",
       "       [2.380e-02, 4.810e-02, 6.020e-02, ..., 1.970e-01, 1.483e-01,\n",
       "        1.650e-01],\n",
       "       [1.870e-02, 2.820e-02, 4.880e-02, ..., 2.215e-01, 1.232e-01,\n",
       "        2.063e-01],\n",
       "       ...,\n",
       "       [1.310e-02, 2.570e-02, 3.990e-02, ..., 2.052e-01, 1.296e-01,\n",
       "        1.844e-01],\n",
       "       [1.910e-02, 1.370e-02, 3.630e-02, ..., 1.347e-01, 6.470e-02,\n",
       "        3.041e-01],\n",
       "       [1.000e-04, 1.300e-03, 5.400e-03, ..., 2.320e-02, 1.180e-02,\n",
       "        2.340e-02]])"
      ]
     },
     "execution_count": 3,
     "metadata": {},
     "output_type": "execute_result"
    }
   ],
   "source": [
    "#load data\n",
    "data = pd.read_csv('data/testtrain.csv') #each row is color name, then RGB values (4 columns)\n",
    "\n",
    "y = data.y\n",
    "X = np.asarray(data.drop('y', axis = 1))\n",
    "\n",
    "#test train split\n",
    "X_train, X_test, y_train, y_test = train_test_split(X, y, stratify = y, train_size=0.8, random_state = 0)\n",
    "X_train"
   ]
  },
  {
   "cell_type": "code",
   "execution_count": 4,
   "id": "e5d74118-6820-4b70-95d6-2e7ebec81fee",
   "metadata": {},
   "outputs": [],
   "source": [
    "#translate class labels\n",
    "seq_classes = list(range(len(y_train.unique())))\n",
    "seq_y_train = y_train.replace(y_train.unique(), seq_classes)\n",
    "seq_y_test = y_test.replace(y_test.unique(), seq_classes)"
   ]
  },
  {
   "cell_type": "markdown",
   "id": "90fd3fce-a303-4e00-99f9-7effd8c0bce0",
   "metadata": {},
   "source": [
    "# Model"
   ]
  },
  {
   "cell_type": "code",
   "execution_count": 5,
   "id": "4c9100ab-1d33-4d7a-91ac-dad426a3dca0",
   "metadata": {},
   "outputs": [],
   "source": [
    "#to ensure our model does not interpret int classes as regression we encode target as categories\n",
    "train_labels = to_categorical(seq_y_train, num_classes = 15)\n",
    "test_labels = to_categorical(seq_y_test, num_classes = 15)"
   ]
  },
  {
   "cell_type": "code",
   "execution_count": 6,
   "id": "e499457b-8723-4a52-a446-d31ba502f25e",
   "metadata": {},
   "outputs": [],
   "source": [
    "#call basic feed forward NN\n",
    "network = models.Sequential()\n",
    "#build layers\n",
    "#input layers (unit, activation, input)\n",
    "network.add(layers.Dense(784, activation = 'relu', input_shape = (12*1,)))\n",
    "#hidden layer [try without input_shape to see if it works]\n",
    "network.add(layers.Dense(784, activation = 'relu'))\n",
    "#output layer\n",
    "network.add(layers.Dense(15, activation = 'softmax'))\n",
    "\n",
    "#compile model to configure for training\n",
    "network.compile(optimizer='adam', #optomizers are basically different versions of Stochastic GD\n",
    "                loss = 'categorical_crossentropy',\n",
    "                metrics=['accuracy'])"
   ]
  },
  {
   "cell_type": "code",
   "execution_count": 9,
   "id": "ee150132-5d13-449e-b025-ea1510afa3a7",
   "metadata": {},
   "outputs": [
    {
     "name": "stdout",
     "output_type": "stream",
     "text": [
      "Epoch 1/10\n",
      "960/960 [==============================] - 4s 4ms/step - loss: 1.3497 - accuracy: 0.5144 - val_loss: 1.3437 - val_accuracy: 0.5242\n",
      "Epoch 2/10\n",
      "960/960 [==============================] - 4s 4ms/step - loss: 1.3314 - accuracy: 0.5219 - val_loss: 1.3069 - val_accuracy: 0.5318\n",
      "Epoch 3/10\n",
      "960/960 [==============================] - 4s 4ms/step - loss: 1.3146 - accuracy: 0.5274 - val_loss: 1.3173 - val_accuracy: 0.5278\n",
      "Epoch 4/10\n",
      "960/960 [==============================] - 4s 4ms/step - loss: 1.3019 - accuracy: 0.5305 - val_loss: 1.3136 - val_accuracy: 0.5334\n",
      "Epoch 5/10\n",
      "960/960 [==============================] - 4s 4ms/step - loss: 1.2912 - accuracy: 0.5370 - val_loss: 1.2791 - val_accuracy: 0.5384\n",
      "Epoch 6/10\n",
      "960/960 [==============================] - 4s 4ms/step - loss: 1.2865 - accuracy: 0.5350 - val_loss: 1.2856 - val_accuracy: 0.5398\n",
      "Epoch 7/10\n",
      "960/960 [==============================] - 4s 4ms/step - loss: 1.2748 - accuracy: 0.5397 - val_loss: 1.2734 - val_accuracy: 0.5433\n",
      "Epoch 8/10\n",
      "960/960 [==============================] - 4s 4ms/step - loss: 1.2675 - accuracy: 0.5433 - val_loss: 1.2736 - val_accuracy: 0.5372\n",
      "Epoch 9/10\n",
      "960/960 [==============================] - 4s 4ms/step - loss: 1.2621 - accuracy: 0.5429 - val_loss: 1.2770 - val_accuracy: 0.5408\n",
      "Epoch 10/10\n",
      "960/960 [==============================] - 4s 4ms/step - loss: 1.2546 - accuracy: 0.5475 - val_loss: 1.2540 - val_accuracy: 0.5471\n"
     ]
    },
    {
     "data": {
      "text/plain": [
       "<keras.callbacks.History at 0x1a0cd13da30>"
      ]
     },
     "execution_count": 9,
     "metadata": {},
     "output_type": "execute_result"
    }
   ],
   "source": [
    "#fit to train data\n",
    "network.fit(X_train, train_labels, epochs=10, batch_size = 50, validation_split = 0.2)"
   ]
  }
 ],
 "metadata": {
  "kernelspec": {
   "display_name": "Python 3 (ipykernel)",
   "language": "python",
   "name": "python3"
  },
  "language_info": {
   "codemirror_mode": {
    "name": "ipython",
    "version": 3
   },
   "file_extension": ".py",
   "mimetype": "text/x-python",
   "name": "python",
   "nbconvert_exporter": "python",
   "pygments_lexer": "ipython3",
   "version": "3.9.7"
  }
 },
 "nbformat": 4,
 "nbformat_minor": 5
}
