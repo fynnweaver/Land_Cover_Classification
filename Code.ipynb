{
 "cells": [
  {
   "cell_type": "markdown",
   "id": "a89617dd-ba71-4286-8c48-c518f371936f",
   "metadata": {},
   "source": [
    "# Set up"
   ]
  },
  {
   "cell_type": "markdown",
   "id": "1d4ff439-4f50-441e-8dfe-7fef9a953a0b",
   "metadata": {},
   "source": [
    "## Import"
   ]
  },
  {
   "cell_type": "code",
   "execution_count": 1,
   "id": "668e86a5-9f7f-4e8a-b842-f9662ae3c537",
   "metadata": {},
   "outputs": [],
   "source": [
    "#import\n",
    "import numpy as np\n",
    "import pandas as pd\n",
    "\n",
    "#system packages\n",
    "import os\n",
    "import glob\n",
    "\n",
    "#spatial packages\n",
    "from rastertodataframe import raster_to_dataframe\n",
    "from osgeo.gdalconst import *\n",
    "from osgeo import gdal\n",
    "from scipy.ndimage import gaussian_filter, median_filter\n",
    "\n",
    "#visualization\n",
    "import matplotlib.pyplot as plt\n",
    "from matplotlib import cm\n",
    "\n",
    "#processing\n",
    "from sklearn.preprocessing import StandardScaler\n",
    "from sklearn.model_selection import train_test_split\n",
    "from sklearn.decomposition import PCA\n",
    "from sklearn import cluster\n",
    "\n",
    "#modeling\n",
    "from sklearn import svm, datasets\n",
    "from sklearn.ensemble import RandomForestClassifier\n",
    "import xgboost as xgb\n",
    "\n",
    "#evaluation\n",
    "from sklearn.metrics import confusion_matrix, ConfusionMatrixDisplay, classification_report, accuracy_score, balanced_accuracy_score\n",
    "\n",
    "#misc\n",
    "from math import floor\n",
    "from itertools import product\n",
    "from copy import deepcopy"
   ]
  },
  {
   "cell_type": "markdown",
   "id": "12bfd9a1-6dcd-4fab-8bb9-24af7e85e422",
   "metadata": {},
   "source": [
    "## Download data"
   ]
  },
  {
   "cell_type": "code",
   "execution_count": 2,
   "id": "7c1647aa-5ff2-4eb2-9f9a-c0c8455c4461",
   "metadata": {},
   "outputs": [],
   "source": [
    "#custom functions\n",
    "\n",
    "#function to create histogram of scenes class frequency\n",
    "def nrcan_hist(img):\n",
    "    import numpy as np\n",
    "    import pandas as pd\n",
    "    from collections import Counter\n",
    "\n",
    "    im_array = np.array(img)\n",
    "\n",
    "    #last line is bad values \n",
    "    im_array = im_array[:-1]\n",
    "\n",
    "    #value count\n",
    "    freq = Counter(im_array.flatten())\n",
    "\n",
    "    plt.bar(freq.keys(), freq.values())\n",
    "    plt.xlim([-1, 20])\n",
    "    \n",
    "#function to turn tiff to df\n",
    "def tiff_to_df_colab(path):\n",
    "\n",
    "    #Create folder path and list variables\n",
    "    folder_path = path\n",
    "    file_list = glob.glob(folder_path + \"/*.tiff\")\n",
    "\n",
    "    #initiate empty dataframe\n",
    "    main_dataframe = pd.DataFrame()\n",
    "\n",
    "    for i in file_list:\n",
    "        data = raster_to_dataframe(i)\n",
    "  \n",
    "        #extract name of band from file path\n",
    "        band_info = str(i).split('/')[-1]\n",
    "        band_name = band_info[-14:-11]\n",
    "        #rename with band name\n",
    "        data = data.rename(columns = {'Band_1': band_name})\n",
    "        #merge into main dataframe\n",
    "        main_dataframe = pd.concat([main_dataframe, data], axis = 1)\n",
    "\n",
    "    return main_dataframe\n",
    "\n",
    "\n",
    "def filter_raws(path_to_dir,  sigma = 1, nrcan_name = 'NRCAN_transformed.tif', index = [-14, -11], filter_type = 'gaussian'):\n",
    "    raw_files = list(os.listdir(path_to_dir))\n",
    "\n",
    "    filter_df = pd.DataFrame()\n",
    "    for i in raw_files[:]:\n",
    "        raw_img = gdal.Open(os.path.join(path_to_dir, i))\n",
    "        rows = raw_img.RasterYSize\n",
    "        cols = raw_img.RasterXSize\n",
    "        \n",
    "        raw_array = np.array(raw_img.ReadAsArray())\n",
    "        \n",
    "        if filter_type == 'gaussian':\n",
    "            raw_filter = gaussian_filter(raw_array, sigma = sigma)\n",
    "        elif filter_type == 'median':\n",
    "            raw_filter = median_filter(raw_array, size = 10)\n",
    "        \n",
    "        raw_filter = raw_filter.flatten()\n",
    "        filter_df[i[index[0]:index[1]]] = raw_filter\n",
    "    \n",
    "    nrcan = gdal.Open(os.path.join(path_to_dir, '..', nrcan_name))\n",
    "    nrcan_array = np.array(nrcan.ReadAsArray())\n",
    "    \n",
    "    filter_df['y'] = nrcan_array.flatten()\n",
    "    return filter_df"
   ]
  },
  {
   "cell_type": "code",
   "execution_count": 3,
   "id": "402bb39c-2c7b-4a85-9c55-744fc0727179",
   "metadata": {},
   "outputs": [
    {
     "data": {
      "text/html": [
       "<div>\n",
       "<style scoped>\n",
       "    .dataframe tbody tr th:only-of-type {\n",
       "        vertical-align: middle;\n",
       "    }\n",
       "\n",
       "    .dataframe tbody tr th {\n",
       "        vertical-align: top;\n",
       "    }\n",
       "\n",
       "    .dataframe thead th {\n",
       "        text-align: right;\n",
       "    }\n",
       "</style>\n",
       "<table border=\"1\" class=\"dataframe\">\n",
       "  <thead>\n",
       "    <tr style=\"text-align: right;\">\n",
       "      <th></th>\n",
       "      <th>B01</th>\n",
       "      <th>B02</th>\n",
       "      <th>B03</th>\n",
       "      <th>B04</th>\n",
       "      <th>B05</th>\n",
       "      <th>B06</th>\n",
       "      <th>B07</th>\n",
       "      <th>B08</th>\n",
       "      <th>B09</th>\n",
       "      <th>B11</th>\n",
       "      <th>B12</th>\n",
       "      <th>B8A</th>\n",
       "      <th>y</th>\n",
       "    </tr>\n",
       "  </thead>\n",
       "  <tbody>\n",
       "    <tr>\n",
       "      <th>0</th>\n",
       "      <td>0.0934</td>\n",
       "      <td>0.1228</td>\n",
       "      <td>0.1588</td>\n",
       "      <td>0.2052</td>\n",
       "      <td>0.2344</td>\n",
       "      <td>0.2549</td>\n",
       "      <td>0.2729</td>\n",
       "      <td>0.2928</td>\n",
       "      <td>0.2947</td>\n",
       "      <td>0.3868</td>\n",
       "      <td>0.3853</td>\n",
       "      <td>0.2917</td>\n",
       "      <td>15</td>\n",
       "    </tr>\n",
       "    <tr>\n",
       "      <th>1</th>\n",
       "      <td>0.0890</td>\n",
       "      <td>0.1163</td>\n",
       "      <td>0.1507</td>\n",
       "      <td>0.1944</td>\n",
       "      <td>0.2210</td>\n",
       "      <td>0.2390</td>\n",
       "      <td>0.2560</td>\n",
       "      <td>0.2761</td>\n",
       "      <td>0.2777</td>\n",
       "      <td>0.3842</td>\n",
       "      <td>0.3827</td>\n",
       "      <td>0.2757</td>\n",
       "      <td>15</td>\n",
       "    </tr>\n",
       "    <tr>\n",
       "      <th>2</th>\n",
       "      <td>0.0893</td>\n",
       "      <td>0.1157</td>\n",
       "      <td>0.1511</td>\n",
       "      <td>0.1944</td>\n",
       "      <td>0.2199</td>\n",
       "      <td>0.2363</td>\n",
       "      <td>0.2552</td>\n",
       "      <td>0.2752</td>\n",
       "      <td>0.2764</td>\n",
       "      <td>0.3886</td>\n",
       "      <td>0.3842</td>\n",
       "      <td>0.2765</td>\n",
       "      <td>15</td>\n",
       "    </tr>\n",
       "    <tr>\n",
       "      <th>3</th>\n",
       "      <td>0.1104</td>\n",
       "      <td>0.1609</td>\n",
       "      <td>0.1919</td>\n",
       "      <td>0.2144</td>\n",
       "      <td>0.2526</td>\n",
       "      <td>0.2926</td>\n",
       "      <td>0.3128</td>\n",
       "      <td>0.3342</td>\n",
       "      <td>0.3254</td>\n",
       "      <td>0.3672</td>\n",
       "      <td>0.3320</td>\n",
       "      <td>0.3325</td>\n",
       "      <td>15</td>\n",
       "    </tr>\n",
       "    <tr>\n",
       "      <th>4</th>\n",
       "      <td>0.0723</td>\n",
       "      <td>0.0913</td>\n",
       "      <td>0.1220</td>\n",
       "      <td>0.1250</td>\n",
       "      <td>0.1730</td>\n",
       "      <td>0.2769</td>\n",
       "      <td>0.3134</td>\n",
       "      <td>0.3368</td>\n",
       "      <td>0.3366</td>\n",
       "      <td>0.3020</td>\n",
       "      <td>0.2353</td>\n",
       "      <td>0.3376</td>\n",
       "      <td>15</td>\n",
       "    </tr>\n",
       "  </tbody>\n",
       "</table>\n",
       "</div>"
      ],
      "text/plain": [
       "      B01     B02     B03     B04     B05     B06     B07     B08     B09  \\\n",
       "0  0.0934  0.1228  0.1588  0.2052  0.2344  0.2549  0.2729  0.2928  0.2947   \n",
       "1  0.0890  0.1163  0.1507  0.1944  0.2210  0.2390  0.2560  0.2761  0.2777   \n",
       "2  0.0893  0.1157  0.1511  0.1944  0.2199  0.2363  0.2552  0.2752  0.2764   \n",
       "3  0.1104  0.1609  0.1919  0.2144  0.2526  0.2926  0.3128  0.3342  0.3254   \n",
       "4  0.0723  0.0913  0.1220  0.1250  0.1730  0.2769  0.3134  0.3368  0.3366   \n",
       "\n",
       "      B11     B12     B8A   y  \n",
       "0  0.3868  0.3853  0.2917  15  \n",
       "1  0.3842  0.3827  0.2757  15  \n",
       "2  0.3886  0.3842  0.2765  15  \n",
       "3  0.3672  0.3320  0.3325  15  \n",
       "4  0.3020  0.2353  0.3376  15  "
      ]
     },
     "execution_count": 3,
     "metadata": {},
     "output_type": "execute_result"
    }
   ],
   "source": [
    "#custom function using gdal to convert raster to dataframe\n",
    "def gdal_to_dataframe(dir_path, nrcan_name = 'NRCAN_transformed.tif', index = [-14, -11]):\n",
    "    raw_names = list(os.listdir(dir_path))\n",
    "    \n",
    "    raw_df = pd.DataFrame()\n",
    "    \n",
    "    for i in raw_names:\n",
    "        raw_img = gdal.Open(os.path.join(dir_path, i))\n",
    "        \n",
    "        raw_array = np.array(raw_img.ReadAsArray()).flatten()\n",
    "        raw_df[i[index[0]:index[1]]] = raw_array\n",
    "    \n",
    "    nrcan = gdal.Open(os.path.join(dir_path, '..', nrcan_name))\n",
    "    nrcan_array = np.array(nrcan.ReadAsArray())\n",
    "    \n",
    "    raw_df['y'] = nrcan_array.flatten()\n",
    "    \n",
    "    return raw_df\n",
    "\n",
    "tor_raws = gdal_to_dataframe('../data_tests/scene_5/raws')\n",
    "tor_raws.head()"
   ]
  },
  {
   "cell_type": "code",
   "execution_count": 4,
   "id": "9e913b0d-c5b0-4427-b644-b79262414a41",
   "metadata": {},
   "outputs": [],
   "source": [
    "#load gaussian filtered raws\n",
    "sim_raws = gdal_to_dataframe('../data_tests/simcoe_york/raws', nrcan_name = 'Simcoe_York_2019.tif')\n",
    "lab_raws = gdal_to_dataframe('../data_tests/labrador/raws')\n",
    "james_raws = gdal_to_dataframe('../data_tests/james_bay/raws', nrcan_name = 'James_Bay_Med.tif')\n",
    "tor_raws = gdal_to_dataframe('../data_tests/scene_5/raws')\n",
    "sjames_raws = gdal_to_dataframe('../data_tests/james_south/raws')\n",
    "cal_raws = gdal_to_dataframe('../data_tests/calgary/raws')\n",
    "trois_raws = gdal_to_dataframe('../data_tests/trois/raws')"
   ]
  },
  {
   "cell_type": "code",
   "execution_count": 5,
   "id": "990fcdc2-fda3-49f7-b23d-3cf43077ca2e",
   "metadata": {},
   "outputs": [
    {
     "ename": "NameError",
     "evalue": "name 'stop' is not defined",
     "output_type": "error",
     "traceback": [
      "\u001b[1;31m---------------------------------------------------------------------------\u001b[0m",
      "\u001b[1;31mNameError\u001b[0m                                 Traceback (most recent call last)",
      "\u001b[1;32m~\\AppData\\Local\\Temp/ipykernel_10264/3957423419.py\u001b[0m in \u001b[0;36m<module>\u001b[1;34m\u001b[0m\n\u001b[1;32m----> 1\u001b[1;33m \u001b[0mstop\u001b[0m\u001b[1;33m\u001b[0m\u001b[1;33m\u001b[0m\u001b[0m\n\u001b[0m",
      "\u001b[1;31mNameError\u001b[0m: name 'stop' is not defined"
     ]
    }
   ],
   "source": [
    "stop"
   ]
  },
  {
   "cell_type": "markdown",
   "id": "3ae278e8-f102-404b-946b-9f52fbc76797",
   "metadata": {},
   "source": [
    "# EDA & Feature Selection"
   ]
  },
  {
   "cell_type": "code",
   "execution_count": null,
   "id": "19b58a6f-642b-4229-92e0-5ad1fac36368",
   "metadata": {},
   "outputs": [],
   "source": [
    "#plot band\n",
    "map_band = np.asarray(tor_raws['B01'].values).reshape(499, 1250)\n",
    "cmap = cm.get_cmap('jet', 15)    # 11 discrete colors\n",
    "prediction_map = plt.imshow(map_band, cmap=cmap)"
   ]
  },
  {
   "cell_type": "markdown",
   "id": "eb189b51-a5b5-4c3c-b4f1-bb8ff11ff1cd",
   "metadata": {},
   "source": [
    "### K-means clustering"
   ]
  },
  {
   "cell_type": "code",
   "execution_count": null,
   "id": "0088218e-4159-4e73-af80-395e2b74f09c",
   "metadata": {},
   "outputs": [],
   "source": [
    "def cluster_bands(dataframe, n_clusters = 4):\n",
    "    \n",
    "    #if y is in frame drop it\n",
    "    try:\n",
    "        cl_df = dataframe.drop('y', axis = 1)\n",
    "    except:\n",
    "        cl_df = dataframe\n",
    "    cl = cluster.KMeans(n_clusters = n_clusters)\n",
    "    param = cl.fit(cl_df)\n",
    "    img_cl = cl.labels_\n",
    "    \n",
    "    dataframe['clusters'] = img_cl\n",
    "    \n",
    "    return param, dataframe"
   ]
  },
  {
   "cell_type": "code",
   "execution_count": null,
   "id": "a279b263-7e66-4567-a387-870a7661074b",
   "metadata": {},
   "outputs": [],
   "source": [
    "#visualize effect with test raws\n",
    "test_raws = pd.concat([sim_raws, tor_raws])\n",
    "test_raws = test_raws.drop('y', axis = 1)\n",
    "\n",
    "cl = cluster.KMeans(n_clusters=4) # create an object of the classifier\n",
    "param = cl.fit(test_raws) # train it\n",
    "img_cl = cl.labels_ \n",
    "\n",
    "#split and reshape into two images\n",
    "img_tor = img_cl[2500 * 2134:].reshape(499, 1250)\n",
    "img_sim = img_cl[:2500 * 2134].reshape(2134, 2500)"
   ]
  },
  {
   "cell_type": "code",
   "execution_count": null,
   "id": "e1de9785-b653-4dfe-94e1-0bbcdde529a6",
   "metadata": {},
   "outputs": [],
   "source": [
    "#visualize\n",
    "plt.figure(figsize=[20,20])\n",
    "plt.imshow(img_tor, cmap=cmap)\n",
    "plt.axis('off')"
   ]
  },
  {
   "cell_type": "markdown",
   "id": "09446062-b288-482d-a9c5-e2d8db867c48",
   "metadata": {},
   "source": [
    "### Gaussian filtering"
   ]
  },
  {
   "cell_type": "code",
   "execution_count": 6,
   "id": "3604401f-edb3-4fd5-b766-05ad44a69bb5",
   "metadata": {},
   "outputs": [],
   "source": [
    "#load gaussian filtered raws\n",
    "sim_gauss = filter_raws('../data_tests/simcoe_york/raws', nrcan_name = 'Simcoe_York_2019.tif')\n",
    "lab_gauss = filter_raws('../data_tests/labrador/raws')\n",
    "james_gauss = filter_raws('../data_tests/james_bay/raws', nrcan_name = 'James_Bay_Med.tif')\n",
    "tor_gauss = filter_raws('../data_tests/scene_5/raws')\n",
    "sjames_gauss = filter_raws('../data_tests/james_south/raws')\n",
    "cal_gauss = filter_raws('../data_tests/calgary/raws')\n",
    "trois_gauss = filter_raws('../data_tests/trois/raws')"
   ]
  },
  {
   "cell_type": "code",
   "execution_count": 7,
   "id": "637007e0-3948-4e39-84f7-9d41cee47b34",
   "metadata": {},
   "outputs": [
    {
     "name": "stdout",
     "output_type": "stream",
     "text": [
      "(820000, 25) (2082500, 13)\n"
     ]
    },
    {
     "data": {
      "text/html": [
       "<div>\n",
       "<style scoped>\n",
       "    .dataframe tbody tr th:only-of-type {\n",
       "        vertical-align: middle;\n",
       "    }\n",
       "\n",
       "    .dataframe tbody tr th {\n",
       "        vertical-align: top;\n",
       "    }\n",
       "\n",
       "    .dataframe thead th {\n",
       "        text-align: right;\n",
       "    }\n",
       "</style>\n",
       "<table border=\"1\" class=\"dataframe\">\n",
       "  <thead>\n",
       "    <tr style=\"text-align: right;\">\n",
       "      <th></th>\n",
       "      <th>B01</th>\n",
       "      <th>B02</th>\n",
       "      <th>B03</th>\n",
       "      <th>B04</th>\n",
       "      <th>B05</th>\n",
       "      <th>B06</th>\n",
       "      <th>B07</th>\n",
       "      <th>B08</th>\n",
       "      <th>B09</th>\n",
       "      <th>B11</th>\n",
       "      <th>...</th>\n",
       "      <th>B03g</th>\n",
       "      <th>B04g</th>\n",
       "      <th>B05g</th>\n",
       "      <th>B06g</th>\n",
       "      <th>B07g</th>\n",
       "      <th>B08g</th>\n",
       "      <th>B09g</th>\n",
       "      <th>B11g</th>\n",
       "      <th>B12g</th>\n",
       "      <th>B8Ag</th>\n",
       "    </tr>\n",
       "  </thead>\n",
       "  <tbody>\n",
       "    <tr>\n",
       "      <th>0</th>\n",
       "      <td>0.0934</td>\n",
       "      <td>0.1228</td>\n",
       "      <td>0.1588</td>\n",
       "      <td>0.2052</td>\n",
       "      <td>0.2344</td>\n",
       "      <td>0.2549</td>\n",
       "      <td>0.2729</td>\n",
       "      <td>0.2928</td>\n",
       "      <td>0.2947</td>\n",
       "      <td>0.3868</td>\n",
       "      <td>...</td>\n",
       "      <td>0.155785</td>\n",
       "      <td>0.200306</td>\n",
       "      <td>0.229630</td>\n",
       "      <td>0.251208</td>\n",
       "      <td>0.269401</td>\n",
       "      <td>0.289535</td>\n",
       "      <td>0.291208</td>\n",
       "      <td>0.387628</td>\n",
       "      <td>0.383691</td>\n",
       "      <td>0.289344</td>\n",
       "    </tr>\n",
       "    <tr>\n",
       "      <th>1</th>\n",
       "      <td>0.0890</td>\n",
       "      <td>0.1163</td>\n",
       "      <td>0.1507</td>\n",
       "      <td>0.1944</td>\n",
       "      <td>0.2210</td>\n",
       "      <td>0.2390</td>\n",
       "      <td>0.2560</td>\n",
       "      <td>0.2761</td>\n",
       "      <td>0.2777</td>\n",
       "      <td>0.3842</td>\n",
       "      <td>...</td>\n",
       "      <td>0.153614</td>\n",
       "      <td>0.195907</td>\n",
       "      <td>0.224911</td>\n",
       "      <td>0.247467</td>\n",
       "      <td>0.266147</td>\n",
       "      <td>0.286678</td>\n",
       "      <td>0.288122</td>\n",
       "      <td>0.385571</td>\n",
       "      <td>0.378070</td>\n",
       "      <td>0.286911</td>\n",
       "    </tr>\n",
       "    <tr>\n",
       "      <th>2</th>\n",
       "      <td>0.0893</td>\n",
       "      <td>0.1157</td>\n",
       "      <td>0.1511</td>\n",
       "      <td>0.1944</td>\n",
       "      <td>0.2199</td>\n",
       "      <td>0.2363</td>\n",
       "      <td>0.2552</td>\n",
       "      <td>0.2752</td>\n",
       "      <td>0.2764</td>\n",
       "      <td>0.3886</td>\n",
       "      <td>...</td>\n",
       "      <td>0.153601</td>\n",
       "      <td>0.188395</td>\n",
       "      <td>0.220382</td>\n",
       "      <td>0.252966</td>\n",
       "      <td>0.274189</td>\n",
       "      <td>0.295973</td>\n",
       "      <td>0.296501</td>\n",
       "      <td>0.377357</td>\n",
       "      <td>0.357570</td>\n",
       "      <td>0.297006</td>\n",
       "    </tr>\n",
       "    <tr>\n",
       "      <th>3</th>\n",
       "      <td>0.1104</td>\n",
       "      <td>0.1609</td>\n",
       "      <td>0.1919</td>\n",
       "      <td>0.2144</td>\n",
       "      <td>0.2526</td>\n",
       "      <td>0.2926</td>\n",
       "      <td>0.3128</td>\n",
       "      <td>0.3342</td>\n",
       "      <td>0.3254</td>\n",
       "      <td>0.3672</td>\n",
       "      <td>...</td>\n",
       "      <td>0.149874</td>\n",
       "      <td>0.170725</td>\n",
       "      <td>0.209797</td>\n",
       "      <td>0.268326</td>\n",
       "      <td>0.295357</td>\n",
       "      <td>0.318436</td>\n",
       "      <td>0.318674</td>\n",
       "      <td>0.353493</td>\n",
       "      <td>0.312006</td>\n",
       "      <td>0.320134</td>\n",
       "    </tr>\n",
       "    <tr>\n",
       "      <th>4</th>\n",
       "      <td>0.0723</td>\n",
       "      <td>0.0913</td>\n",
       "      <td>0.1220</td>\n",
       "      <td>0.1250</td>\n",
       "      <td>0.1730</td>\n",
       "      <td>0.2769</td>\n",
       "      <td>0.3134</td>\n",
       "      <td>0.3368</td>\n",
       "      <td>0.3366</td>\n",
       "      <td>0.3020</td>\n",
       "      <td>...</td>\n",
       "      <td>0.142780</td>\n",
       "      <td>0.153104</td>\n",
       "      <td>0.196689</td>\n",
       "      <td>0.279738</td>\n",
       "      <td>0.311963</td>\n",
       "      <td>0.334178</td>\n",
       "      <td>0.336360</td>\n",
       "      <td>0.324612</td>\n",
       "      <td>0.265836</td>\n",
       "      <td>0.335382</td>\n",
       "    </tr>\n",
       "  </tbody>\n",
       "</table>\n",
       "<p>5 rows × 25 columns</p>\n",
       "</div>"
      ],
      "text/plain": [
       "      B01     B02     B03     B04     B05     B06     B07     B08     B09  \\\n",
       "0  0.0934  0.1228  0.1588  0.2052  0.2344  0.2549  0.2729  0.2928  0.2947   \n",
       "1  0.0890  0.1163  0.1507  0.1944  0.2210  0.2390  0.2560  0.2761  0.2777   \n",
       "2  0.0893  0.1157  0.1511  0.1944  0.2199  0.2363  0.2552  0.2752  0.2764   \n",
       "3  0.1104  0.1609  0.1919  0.2144  0.2526  0.2926  0.3128  0.3342  0.3254   \n",
       "4  0.0723  0.0913  0.1220  0.1250  0.1730  0.2769  0.3134  0.3368  0.3366   \n",
       "\n",
       "      B11  ...      B03g      B04g      B05g      B06g      B07g      B08g  \\\n",
       "0  0.3868  ...  0.155785  0.200306  0.229630  0.251208  0.269401  0.289535   \n",
       "1  0.3842  ...  0.153614  0.195907  0.224911  0.247467  0.266147  0.286678   \n",
       "2  0.3886  ...  0.153601  0.188395  0.220382  0.252966  0.274189  0.295973   \n",
       "3  0.3672  ...  0.149874  0.170725  0.209797  0.268326  0.295357  0.318436   \n",
       "4  0.3020  ...  0.142780  0.153104  0.196689  0.279738  0.311963  0.334178   \n",
       "\n",
       "       B09g      B11g      B12g      B8Ag  \n",
       "0  0.291208  0.387628  0.383691  0.289344  \n",
       "1  0.288122  0.385571  0.378070  0.286911  \n",
       "2  0.296501  0.377357  0.357570  0.297006  \n",
       "3  0.318674  0.353493  0.312006  0.320134  \n",
       "4  0.336360  0.324612  0.265836  0.335382  \n",
       "\n",
       "[5 rows x 25 columns]"
      ]
     },
     "execution_count": 7,
     "metadata": {},
     "output_type": "execute_result"
    }
   ],
   "source": [
    "#put together raw and gauss df of each scene\n",
    "#create list of input images\n",
    "train_raw = [tor_raws, james_raws, sim_raws, lab_raws, sjames_raws, cal_raws, trois_raws]\n",
    "train_gauss = [tor_gauss, james_gauss, sim_gauss, lab_gauss, sjames_gauss, cal_gauss, trois_gauss]\n",
    "\n",
    "#set empty main\n",
    "main_dataframe = pd.DataFrame()\n",
    "\n",
    "for i in range(len(train_raw)):\n",
    "    #drop y from gauss\n",
    "    temp_gauss = train_gauss[i].drop('y', axis = 1)\n",
    "    #rename gauss columns\n",
    "    gauss_names = [f'{name}g' for name in temp_gauss.columns]\n",
    "    temp_gauss.columns = gauss_names\n",
    "    #print(temp_gauss.head(), train_raw[i].head())\n",
    "    \n",
    "    #reset indices\n",
    "    train_raw[i].reset_index(inplace=True, drop=True)\n",
    "    temp_gauss.reset_index(inplace=True, drop=True)       \n",
    "    new_df = pd.concat([train_raw[i], temp_gauss], axis = 1)\n",
    "    #add to main\n",
    "    main_dataframe = pd.concat([main_dataframe, new_df])\n",
    "\n",
    "print(new_df.shape, lab_raws.shape)\n",
    "main_dataframe.head()"
   ]
  },
  {
   "cell_type": "code",
   "execution_count": null,
   "id": "299b7c8b-406a-49f7-a831-d1fd0e72fb66",
   "metadata": {},
   "outputs": [],
   "source": [
    "main_dataframe.shape"
   ]
  },
  {
   "cell_type": "code",
   "execution_count": null,
   "id": "49ca9769-4b46-4119-9bfb-b5f8ae83ad83",
   "metadata": {},
   "outputs": [],
   "source": [
    "#comparing example band distribution within each class across two extents\n",
    "plt.scatter(lab_raws['B01'], lab_raws.y)\n",
    "plt.scatter(sim_raws['B01'], sim_raws.y)"
   ]
  },
  {
   "cell_type": "markdown",
   "id": "4e1495f4-d21b-4750-a95a-2fc1e0accf46",
   "metadata": {},
   "source": [
    "### Outlier fixing"
   ]
  },
  {
   "cell_type": "code",
   "execution_count": null,
   "id": "ebb83a61-01cc-43f8-be6c-b206a8ce3884",
   "metadata": {},
   "outputs": [],
   "source": [
    "def outlier_fix(dataframe):\n",
    "    \n",
    "    new_frame = pd.DataFrame()\n",
    "    \n",
    "    for column in dataframe.columns:\n",
    "        \n",
    "        #make sure we don't transform y column\n",
    "        if column != 'y':\n",
    "            temp_band = deepcopy(dataframe.loc[:,column].values)\n",
    "            outlier = np.quantile(temp_band, q = 0.75) * 2\n",
    "      \n",
    "            temp_band[temp_band > outlier] = np.mean(temp_band)\n",
    "            new_frame[column] = temp_band\n",
    "        \n",
    "    try:\n",
    "        new_frame['y'] = dataframe['y']\n",
    "        return new_frame\n",
    "    except:\n",
    "        return new_frame\n",
    "        \n",
    "                   \n",
    "james_raws['B01f'] = outlier_fix(james_raws)['B01'] \n",
    "lab_raws['B01f'] = outlier_fix(lab_raws)['B01']\n",
    "sim_raws['B01f'] = outlier_fix(sim_raws)['B01']\n",
    "tor_raws['B01f'] = outlier_fix(tor_raws)['B01']\n",
    "sjames_raws['B01f'] = outlier_fix(sjames_raws)['B01']\n",
    "cal_raws['B01f'] = outlier_fix(cal_raws)['B01']"
   ]
  },
  {
   "cell_type": "markdown",
   "id": "eb53aa9f-f36b-4029-8f19-db5e4c70b264",
   "metadata": {},
   "source": [
    "### Combine extents"
   ]
  },
  {
   "cell_type": "code",
   "execution_count": null,
   "id": "56698ee3-d523-458a-8740-0e9ae2a6929e",
   "metadata": {},
   "outputs": [],
   "source": [
    "#vertical concat\n",
    "main_dataframe = pd.concat([tor_raws, sim_raws, lab_raws, james_raws, sjames_raws, cal_raws, trois_raws])\n",
    "main_dataframe = main_dataframe.reset_index().drop('index', axis = 1)\n",
    "#main_dataframe = replace_values(main_dataframe)                \n",
    "#main_dataframe = pd.concat([tor_gauss, james_gauss, sim_gauss, lab_gauss])"
   ]
  },
  {
   "cell_type": "code",
   "execution_count": 8,
   "id": "9b1fd57c-241b-476a-8efc-5fee1f62566b",
   "metadata": {},
   "outputs": [],
   "source": [
    "cl = cluster.KMeans(n_clusters = 4)\n",
    "dataframe_copy = main_dataframe.drop('y', axis = 1)\n",
    "param = cl.fit(dataframe_copy.astype('double'))\n",
    "img_cl = cl.labels_\n",
    "    \n",
    "main_dataframe['clusters'] = img_cl\n",
    "    "
   ]
  },
  {
   "cell_type": "code",
   "execution_count": null,
   "id": "b669c626-4874-4b42-9be6-bac28163c844",
   "metadata": {},
   "outputs": [],
   "source": [
    "#Visulization of band distribution for each class in the main dataframe\n",
    "\n",
    "#number of axes = number of possible combos\n",
    "fig, axes = plt.subplots(4, 3, figsize = (15, 40))\n",
    "\n",
    "for i, ax in enumerate(axes.flat):\n",
    "    \n",
    "    #index of columns\n",
    "    X_scatter = main_dataframe[main_dataframe.columns[:-1][i]]\n",
    "    Y_scatter = main_dataframe['y']\n",
    "    \n",
    "    # scatter current combination\n",
    "    ax.scatter(X_scatter, Y_scatter)\n",
    "    ax.set_title(main_dataframe.columns[i])"
   ]
  },
  {
   "cell_type": "markdown",
   "id": "ecc121e1-30ac-4af1-bced-0c5ad4747023",
   "metadata": {},
   "source": [
    "# Processing Data"
   ]
  },
  {
   "cell_type": "code",
   "execution_count": null,
   "id": "113d352d-c442-476d-9ab9-54fd8d2133fe",
   "metadata": {},
   "outputs": [],
   "source": [
    "#Getting an equal sample from each image for each class -- UNDER CONSTRUCTION--\n",
    "#add line in except that goes back to previous frame and samples image_threshold - count\n",
    "\n",
    "#create list of input images\n",
    "train_images = [tor_gauss, james_gauss, sim_gauss, lab_gauss]\n",
    "\n",
    "#empty subset frame\n",
    "data = pd.DataFrame()\n",
    "\n",
    "#for each image in input images\n",
    "for i in range(len(train_images)):\n",
    "    \n",
    "    image = train_images[i]\n",
    "    \n",
    "    #drop 0\n",
    "    image = image.loc[image.y != 0]\n",
    "    \n",
    "    #get class totals\n",
    "    image_classes = image.value_counts('y').sort_index() \n",
    "    \n",
    "    #define class threshold and threshold for class in each image\n",
    "    class_threshold = 80000\n",
    "    image_threshold = int(class_threshold / (len(train_images))) * 3\n",
    "    \n",
    "    #init empty frame to store data for each image\n",
    "    subset = pd.DataFrame()\n",
    "    \n",
    "    #for each class\n",
    "    for label in image_classes.index:\n",
    "        #try to sample the image class threshold\n",
    "        try:\n",
    "            label_subset = image.loc[image.y == label[0]].sample(n= image_threshold, random_state=24)\n",
    "        #if not possible (threshold > existing class count) then sample class count\n",
    "        except:\n",
    "            temp = image.loc[image.y == label[0]]\n",
    "            label_subset = temp.sample(n = len(temp), random_state=24)\n",
    "           \n",
    "        #concat class subset into data \n",
    "        subset = pd.concat([subset, label_subset])\n",
    "        \n",
    "    #concat data into subset frame\n",
    "    data = pd.concat([data, subset])\n",
    "    \n",
    "data.value_counts('y').sort_index() "
   ]
  },
  {
   "cell_type": "markdown",
   "id": "cbd125f4-6aa2-4c94-b0a5-5d57744ce0d2",
   "metadata": {},
   "source": [
    "### Calculated Layers"
   ]
  },
  {
   "cell_type": "code",
   "execution_count": null,
   "id": "fb7203e8-5cdf-485a-b3cb-3f8d665df851",
   "metadata": {},
   "outputs": [],
   "source": [
    " #normalized NIR/Blue normalized veg index\n",
    "    df['NIRB'] = (df.B08 - df.B02)/(df.B08 + df.B02)\n",
    "    #green normalized difference veg index\n",
    "    df['NIRB'] = (df.B08 - df.B03)/(df.B08 + df.B03)\n",
    "    #Atmospheric Resistant Green\n",
    "    df['ARG'] = (df.B03 - df.B04)/(df.B03 + df.B04)\n",
    "    # yellow veg index\n",
    "    df['yellow'] = (0.723 * df.B03) - (0.597 * df.B04) + (0.206 * df.B06) - (0.278 * df.B09)\n",
    "    #Mid-infrared veg index\n",
    "    df['ARG'] = df.B09/df.B11\n",
    "    #GDVI\n",
    "    df['GDVI'] = df.B08 - df.B03"
   ]
  },
  {
   "cell_type": "code",
   "execution_count": null,
   "id": "c32e21b3-c506-42ca-a6a3-853fcf6e7fbe",
   "metadata": {},
   "outputs": [],
   "source": [
    "def add_layers(df):\n",
    "    \"\"\"\n",
    "    This function takes in a dataframe and calculates the NDVI, Moisture Index, NDWI and NDSI\n",
    "    Outputs = dataframe with added layer columns \n",
    "    \"\"\"\n",
    "    #Create NDVI column (B08-B04)/(B08+B04)\n",
    "    df['NDVI'] = (df.B08 - df.B04)/(df.B08 + df.B04)\n",
    "    #Create Moisture index (B8A-B11)/(B8A+B11)\n",
    "    df['Moisture'] = (df.B8A - df.B11)/(df.B8A + df.B11)\n",
    "    #Create NDWI (B3-B8)/(B3+B8)\n",
    "    df['NDWI'] = (df.B03 - df.B08)/(df.B03 + df.B08)\n",
    "    #create NDSI (B3-B11)/(B3+B11)\n",
    "    df['NDSI'] = (df.B03 - df.B11)/(df.B03 + df.B11)\n",
    "\n",
    "   \n",
    "    return df\n",
    "    \n",
    "def replace_values(df):\n",
    "    \"\"\"\n",
    "    This function replaces the infinity values with Nan then replaces that with new infinity values\n",
    "    \"\"\"\n",
    "    #Replace infinity values with Nan\n",
    "    df.replace([np.inf, -np.inf], np.NAN, inplace=True)\n",
    "\n",
    "    #Fill in null values\n",
    "    df.fillna(999, inplace=True)\n",
    "\n",
    "    return df"
   ]
  },
  {
   "cell_type": "code",
   "execution_count": null,
   "id": "fb7813d4-fcfb-463b-a55d-e382caeda1f1",
   "metadata": {},
   "outputs": [],
   "source": [
    "test_plus = add_layers(trois_raws)\n",
    "test_plus = replace_values(test_plus)\n",
    "\n",
    "#preview calculated layers\n",
    "map_band = np.asarray(test_plus['GDVI'].values).reshape(656, 1250)\n",
    "cmap = cm.get_cmap('jet', 15)    # 11 discrete colors\n",
    "prediction_map = plt.imshow(map_band, cmap=cmap)"
   ]
  },
  {
   "cell_type": "code",
   "execution_count": null,
   "id": "0070b87e-3531-476e-905d-a01309a9b389",
   "metadata": {},
   "outputs": [],
   "source": [
    "main_dataframe = add_layers(main_dataframe)\n",
    "main_dataframe = replace_values(main_dataframe)\n",
    "\n",
    "#only keep filtered bands\n",
    "#main_dataframe = main_dataframe.iloc[:, 12:]"
   ]
  },
  {
   "cell_type": "markdown",
   "id": "6a1ef20c-cd38-48ce-b5c8-ecfe0f50b489",
   "metadata": {},
   "source": [
    "### Subsampling"
   ]
  },
  {
   "cell_type": "code",
   "execution_count": null,
   "id": "ca678221-10fb-415f-a61f-25613571a49a",
   "metadata": {},
   "outputs": [],
   "source": [
    "main_dataframe.columns"
   ]
  },
  {
   "cell_type": "code",
   "execution_count": 16,
   "id": "bfea4775-7b72-4b20-9f0e-45d02956576d",
   "metadata": {},
   "outputs": [
    {
     "name": "stdout",
     "output_type": "stream",
     "text": [
      "(12855000, 26)\n",
      "y \n",
      "0      181478\n",
      "1     1470701\n",
      "2      309088\n",
      "5     1012590\n",
      "6      731706\n",
      "8      725321\n",
      "10     244266\n",
      "11     165824\n",
      "12     668594\n",
      "13     631752\n",
      "14     380344\n",
      "15    3454935\n",
      "16     648518\n",
      "17     746862\n",
      "18    1433528\n",
      "19      49493\n",
      "dtype: int64\n"
     ]
    }
   ],
   "source": [
    "#check dataframe shape and print class value counts\n",
    "print(main_dataframe.shape)\n",
    "main_classes = main_dataframe.value_counts('y').sort_index() \n",
    "print(main_classes)"
   ]
  },
  {
   "cell_type": "code",
   "execution_count": 17,
   "id": "7eec0a11-1bfd-4485-84f4-f06ca88773d2",
   "metadata": {},
   "outputs": [
    {
     "name": "stdout",
     "output_type": "stream",
     "text": [
      "(1169493, 26)\n"
     ]
    },
    {
     "data": {
      "text/plain": [
       "y \n",
       "1     80000\n",
       "2     80000\n",
       "5     80000\n",
       "6     80000\n",
       "8     80000\n",
       "10    80000\n",
       "11    80000\n",
       "12    80000\n",
       "13    80000\n",
       "14    80000\n",
       "15    80000\n",
       "16    80000\n",
       "17    80000\n",
       "18    80000\n",
       "19    49493\n",
       "dtype: int64"
      ]
     },
     "execution_count": 17,
     "metadata": {},
     "output_type": "execute_result"
    }
   ],
   "source": [
    "#final clean\n",
    "#drop 0\n",
    "main_dataframe = main_dataframe.loc[main_dataframe.y != 0]\n",
    "\n",
    "#select classes above threshold\n",
    "threshold = 80000\n",
    "top_classes = main_classes[main_classes > threshold].reset_index().y\n",
    "\n",
    "#save dataframe subset of those classes\n",
    "main_subset = main_dataframe.loc[main_dataframe['y'].isin(top_classes.values)]\n",
    "\n",
    "#take smallest value rounded down to nearest 1000\n",
    "smallest_class = int(floor(min(main_subset.value_counts('y').sort_index().values)/ 1000)) * 1000\n",
    "#subsampling - comment out for full set\n",
    "smallest_class = threshold\n",
    "\n",
    "#take subset of each class equal to smallest class value\n",
    "data = main_subset.groupby(\"y\").sample(n=smallest_class, random_state=24)\n",
    "\n",
    "#add on snow - uncomment if threshold > class total\n",
    "snow_subset = main_dataframe.loc[main_dataframe.y == 19]\n",
    "data = pd.concat([data, snow_subset])\n",
    "\n",
    "print(data.shape)\n",
    "data.value_counts('y').sort_index()"
   ]
  },
  {
   "cell_type": "code",
   "execution_count": null,
   "id": "489e0347-82a4-4aec-b26f-78330cd2b628",
   "metadata": {},
   "outputs": [],
   "source": [
    "#remove outliers --UNDER CONSTRUCTION--\n",
    "main_dataframe = clean_raws(data)\n",
    "main_dataframe.shape"
   ]
  },
  {
   "cell_type": "markdown",
   "id": "b6bb18a4-a6f3-4ae2-b809-86417798e1ea",
   "metadata": {
    "tags": []
   },
   "source": [
    "## Train test split"
   ]
  },
  {
   "cell_type": "code",
   "execution_count": 18,
   "id": "dbabd976-3c7d-4d36-ae42-96e1be7cb85e",
   "metadata": {},
   "outputs": [
    {
     "name": "stdout",
     "output_type": "stream",
     "text": [
      "[0.67636099]\n"
     ]
    }
   ],
   "source": [
    "y = data.y\n",
    "X = data.drop('y', axis = 1)\n",
    "\n",
    "#Dimensionality reduction - replace X with X_pca and run to try\n",
    "pca = PCA(n_components = 1)\n",
    "pca.fit(X)\n",
    "print(pca.explained_variance_ratio_)\n",
    "X_pca = pca.transform(X)\n",
    "\n",
    "X_train, X_test, y_train, y_test = train_test_split(X, y, stratify = y, train_size=0.8, random_state = 0)"
   ]
  },
  {
   "cell_type": "code",
   "execution_count": null,
   "id": "e253a73a-ed05-4e4b-af81-313e18c5343a",
   "metadata": {},
   "outputs": [],
   "source": [
    "#scaler = StandardScaler()\n",
    "#X_train = scaler.fit_transform(X_train)\n",
    "#scaler = StandardScaler()\n",
    "#X_test = scaler.fit_transform(X_test)"
   ]
  },
  {
   "cell_type": "markdown",
   "id": "8f5a14d5-c442-4893-a070-344ac5c38d4c",
   "metadata": {},
   "source": [
    "# Modelling"
   ]
  },
  {
   "cell_type": "markdown",
   "id": "a608da02-1033-4dbb-a65c-9f9322cc3faf",
   "metadata": {},
   "source": [
    "Random Forest, SVC, XGBoost [stretch] CNN\n",
    "\n",
    "Iteration details:\n",
    "- toronto, simcoe, sask, labrador = standard bands, no parameters, 5K each value, no scaling, in turn toronto, simcoe, sask, labrador extents only\n",
    "- Base run = standard bands, no parameters, 5K each value, no scaling, sim and lab\n",
    "- scaled = standard bands, no params, 5K each value, StandardScaler() -> improved SVC, sask and tor\n",
    "- large set = standard bands, no parameters, 18K each value, no scaling, sim and lab\n",
    "- gaussian = standard bands transformed via gaussian filter, 18K each value, no scaling, sim and lab\n",
    "- demo = random forest applied to demo data, unless otherwise stated used 300 trees, max depth 25 and max features 2 -> for version 11 and later it is max depth 15; Detailed map (15 color values) starts with version 10\n",
    "    - version_1 = 31.41% trained on sim & lab 18K each\n",
    "    - version_2 =  31.55% trained on gaussian (sigma 5) sim & lab, 18K each\n",
    "    - version_3 = 33.22% trained on gaussian (sigma 1) sim & lab, 18K each\n",
    "    - version_4 = 37.49% trained on gaussian (sigma 1) sim, lab, tor and james, 40K each random\n",
    "    - version_5 = 34.21% trained on sim, lab, tor, james all bands, 40K each random [?? missing something can't recreate map]\n",
    "    - version_6 = 33.97% (b: 34.84%) trained on raw and gaussian (sig 1) sim, lab, tor, james all bands, 40k each random\n",
    "    - version_7 = 33.37% (b:33.95%) raw and median (size 10) sim, lab, tor, james all bands, 40k each random\n",
    "    - version_8 = 42.11% (b:37.22%) raw with calculated layers sim, lab, tor, james all bands, 40k each\n",
    "    - version_9 = 36.50 (b: 35.80%) raw with calculated layres and gauss (sig 1) sim, lab, tor, james all bands 40k each\n",
    "    - version_10 = 51.23 (b: 41.03%) raw with calculated layers and column B01f with B01 where outliers < q3x2 = median sim, lab, tor, james, sjames all bands, 60k each no snow ; 15 max depth\n",
    "    - version 11 = 46.11 (b: 39.43) raw with calculated layers and column B01f with B01 where outliers < q3x2 = median sim, lab, tor, james, sjames, calgary all bands, 60k each no snow\n",
    "    - version 12 = 48.10 (b: 39.83) raw with calculated layers and cluster (n = 4) column; sim, lab, tor, james, sjames, cal, trois 100K classes with 49K snow class\n",
    "    - special mention gauss sig 5 with calculated layers from raw\n",
    "\n",
    "To do:\n",
    "- ensure all raws are aligned to a common 60 m res grid (downsampling all but b1 and b9)\n",
    "- scaling sim & lab for svc -> if goes well svc parametrization\n",
    "- basic NN?"
   ]
  },
  {
   "cell_type": "code",
   "execution_count": 19,
   "id": "98ce992f-2d99-4011-85d5-d64722d3823a",
   "metadata": {},
   "outputs": [],
   "source": [
    "#set up save path for images\n",
    "confusion_path = 'confusion_matrices/'\n",
    "group_folder = 'base_run/'"
   ]
  },
  {
   "cell_type": "markdown",
   "id": "7efde8bc-5370-4b59-abd2-efee5facc6fb",
   "metadata": {},
   "source": [
    "## Random Forest"
   ]
  },
  {
   "cell_type": "code",
   "execution_count": 20,
   "id": "2d0f95f0-f1d3-4182-97c6-7f9a5abf53dc",
   "metadata": {},
   "outputs": [
    {
     "name": "stdout",
     "output_type": "stream",
     "text": [
      "0.6293314635804342\n"
     ]
    },
    {
     "data": {
      "text/plain": [
       "<sklearn.metrics._plot.confusion_matrix.ConfusionMatrixDisplay at 0x25d082bc880>"
      ]
     },
     "execution_count": 20,
     "metadata": {},
     "output_type": "execute_result"
    },
    {
     "data": {
      "image/png": "[encoded data removed]",
      "text/plain": [
       "<Figure size 432x288 with 2 Axes>"
      ]
     },
     "metadata": {
      "needs_background": "light"
     },
     "output_type": "display_data"
    }
   ],
   "source": [
    "forest = RandomForestClassifier(random_state = 0, n_estimators = 300, max_depth = 15, max_features = 2).fit(X_train, y_train)\n",
    "#get accuracy\n",
    "forest_pred = forest.predict(X_test)\n",
    "print(accuracy_score(y_test, forest_pred))\n",
    "\n",
    "#plot confusion matrix\n",
    "cm_forest = confusion_matrix(y_test, forest_pred)\n",
    "cm_forest_fig = ConfusionMatrixDisplay(confusion_matrix = cm_forest, display_labels = forest.classes_)\n",
    "cm_forest_fig.plot()"
   ]
  },
  {
   "cell_type": "code",
   "execution_count": null,
   "id": "ac373ed7-a501-412e-94e3-7187d47bb1f7",
   "metadata": {},
   "outputs": [],
   "source": [
    "#make sure there's no overfit\n",
    "forest_train_pred = forest.predict(X_train)\n",
    "print(accuracy_score(y_train, forest_train_pred))"
   ]
  },
  {
   "cell_type": "code",
   "execution_count": null,
   "id": "0354d6a6-2144-4f8e-92b2-e93c14bc96ee",
   "metadata": {},
   "outputs": [],
   "source": [
    "#check feature importance\n",
    "forest.feature_importances_"
   ]
  },
  {
   "cell_type": "code",
   "execution_count": null,
   "id": "18b7d92c-39c8-4b00-b2db-71be988caefe",
   "metadata": {},
   "outputs": [],
   "source": [
    "#save\n",
    "cm_forest_fig.figure_.savefig(os.path.join(confusion_path, group_folder, 'forest.png'))\n",
    "print(classification_report(y_test, forest_pred))"
   ]
  },
  {
   "cell_type": "markdown",
   "id": "c3bbc8ee-8e1f-45cf-8f0f-b98bbdb9f7ef",
   "metadata": {},
   "source": [
    "### Toronto extent test"
   ]
  },
  {
   "cell_type": "code",
   "execution_count": null,
   "id": "364754ff-feff-4d54-98f3-77797c95cb7d",
   "metadata": {},
   "outputs": [],
   "source": [
    "#get gaussian version of toronto\n",
    "gauss_test = gaussian_raws('../data_tests/scene_5/raws')\n",
    "gauss_test.head()\n",
    "\n",
    "gauss_test['y'] = gauss_test['y'].replace({0:18})"
   ]
  },
  {
   "cell_type": "code",
   "execution_count": null,
   "id": "9a87d41d-911e-49d6-9269-12740ffe1ecb",
   "metadata": {},
   "outputs": [],
   "source": [
    "#split X and y values from gaussian or default raw bands\n",
    "#y_tor = tor_raws.y\n",
    "#X_tor = tor_raws.drop('y', axis = 1)\n",
    "\n",
    "y_tor = gauss_test.y\n",
    "X_tor = gauss_test.drop('y', axis = 1)\n",
    "\n",
    "#add calculated layers\n",
    "X_tor = add_layers(X_tor)\n",
    "X_tor = replace_values(X_tor)\n",
    "\n",
    "\n",
    "#optional PCA, to use replace X_tor in predict with X_tor_pca\n",
    "pca = PCA(n_components = 6)\n",
    "X_tor_pca = pca.fit_transform(X_tor)\n",
    "\n",
    "#predict\n",
    "tor_pred = forest.predict(X_tor)\n",
    "print(balanced_accuracy_score(y_tor, tor_pred))\n",
    "\n",
    "#display\n",
    "cm_forest = confusion_matrix(y_tor, tor_pred)\n",
    "cm_forest_fig = ConfusionMatrixDisplay(confusion_matrix = cm_forest, display_labels = forest.classes_)\n",
    "fig, ax = plt.subplots(figsize=(10,10))\n",
    "cm_forest_fig.plot(ax = ax)"
   ]
  },
  {
   "cell_type": "code",
   "execution_count": null,
   "id": "86cc8577-54d4-41fb-a954-d27a0fde14fb",
   "metadata": {},
   "outputs": [],
   "source": [
    "#display prediction map\n",
    "map_pred = np.asarray(tor_pred).reshape(tor_nrcan.height, tor_nrcan.width)\n",
    "cmap = cm.get_cmap('jet', 7)    # 11 discrete colors\n",
    "prediction_map = plt.imshow(map_pred, cmap=cmap)\n",
    "\n",
    "#save\n",
    "#prediction_map.figure.savefig(os.path.join(confusion_path, 'gaussian', 'map_tor.png'))"
   ]
  },
  {
   "cell_type": "markdown",
   "id": "d4973808-9485-4674-8c94-2698e4d51300",
   "metadata": {},
   "source": [
    "### Demo test"
   ]
  },
  {
   "cell_type": "code",
   "execution_count": null,
   "id": "f39c0888-a31d-48b8-98bc-a4a9ce9d2e4d",
   "metadata": {},
   "outputs": [],
   "source": [
    "#convert into matrices to perform gaussian then convert back into 1d array and append to dataframe\n",
    "X_demo_gauss = pd.DataFrame()\n",
    "for band in X_demo.columns:\n",
    "    band = X_demo.columns[1]\n",
    "    reconstruct = np.asarray(X_demo[band]).reshape(2500, 2100).T\n",
    "    recon_gauss = gaussian_filter(reconstruct, sigma = 1)\n",
    "    X_demo_gauss[band] = recon_gauss.flatten()\n",
    "    \n",
    "#compare demo input and gauss output\n",
    "fig = plt.figure(figsize = (20,20))\n",
    "ax1 = fig.add_subplot(121)  # left side\n",
    "ax2 = fig.add_subplot(122)  # right side\n",
    "\n",
    "ax1.imshow(reconstruct)\n",
    "ax2.imshow(recon_gauss)"
   ]
  },
  {
   "cell_type": "code",
   "execution_count": 9,
   "id": "ce83d63e-ed2f-4336-bdbe-3affa716bf25",
   "metadata": {},
   "outputs": [
    {
     "name": "stdout",
     "output_type": "stream",
     "text": [
      "(5250000, 12)\n"
     ]
    }
   ],
   "source": [
    "#import demo test data\n",
    "demo_raw = pd.read_csv('../data_tests/demo_site.csv')\n",
    "demo_raw.land_cover = demo_raw.land_cover.astype('int')\n",
    "demo_raw.head()\n",
    "\n",
    "#test 2 - demo\n",
    "y_demo = demo_raw.land_cover\n",
    "X_demo = demo_raw.drop('land_cover', axis = 1)\n",
    "print(X_demo.shape)"
   ]
  },
  {
   "cell_type": "code",
   "execution_count": 10,
   "id": "5813fa36-5513-45db-9770-2e4e36068c14",
   "metadata": {},
   "outputs": [],
   "source": [
    "#reset demo raw for matching filtering\n",
    "demo_raw = gdal_to_dataframe('../data_tests/demo/raws', nrcan_name = 'land_cover.tif', index = [0, 3])\n",
    "#filter raws from path\n",
    "gauss_demo = filter_raws('../data_tests/demo/raws', nrcan_name = 'land_cover.tif', index = [0, 3])\n",
    "\n",
    "#concat gauss and raw\n",
    "gauss_demo_reset = gauss_demo.drop('y', axis = 1)\n",
    "#rename gauss columns\n",
    "gauss_names = [f'{name}g' for name in gauss_demo_reset.columns]\n",
    "gauss_demo_reset.columns = gauss_names\n",
    "#reset indices\n",
    "demo_raw.reset_index(inplace=True, drop=True)\n",
    "gauss_demo_reset.reset_index(inplace=True, drop=True)    \n",
    "merged_df = pd.concat([demo_raw, gauss_demo_reset], axis = 1)\n",
    "\n",
    "#select X values from gaussian dataframe\n",
    "X_demo = merged_df.drop('y', axis = 1)\n",
    "X_demo.head()\n",
    "\n",
    "#reshape to use y_demo with gaussian X\n",
    "y_demo = y_demo.values.reshape(2500, 2100).T\n",
    "y_demo = y_demo.flatten()"
   ]
  },
  {
   "cell_type": "code",
   "execution_count": 11,
   "id": "59a029f8-816e-4e3a-a5b2-7a0b6166826a",
   "metadata": {},
   "outputs": [
    {
     "data": {
      "text/plain": [
       "Index(['B01', 'B02', 'B03', 'B04', 'B05', 'B06', 'B07', 'B08', 'B09', 'B11',\n",
       "       'B12', 'B8A', 'y', 'B01g', 'B02g', 'B03g', 'B04g', 'B05g', 'B06g',\n",
       "       'B07g', 'B08g', 'B09g', 'B11g', 'B12g', 'B8Ag', 'clusters'],\n",
       "      dtype='object')"
      ]
     },
     "execution_count": 11,
     "metadata": {},
     "output_type": "execute_result"
    }
   ],
   "source": [
    "main_dataframe.columns"
   ]
  },
  {
   "cell_type": "code",
   "execution_count": 22,
   "id": "6bac13ab-10ae-4c7b-9214-3a705ceaf41a",
   "metadata": {},
   "outputs": [
    {
     "data": {
      "text/plain": [
       "Index(['B01', 'B02', 'B03', 'B04', 'B05', 'B06', 'B07', 'B08', 'B09', 'B11',\n",
       "       'B12', 'B8A', 'B01g', 'B02g', 'B03g', 'B04g', 'B05g', 'B06g', 'B07g',\n",
       "       'B08g', 'B09g', 'B11g', 'B12g', 'B8Ag', 'clusters'],\n",
       "      dtype='object')"
      ]
     },
     "execution_count": 22,
     "metadata": {},
     "output_type": "execute_result"
    }
   ],
   "source": [
    "X_demo.columns"
   ]
  },
  {
   "cell_type": "code",
   "execution_count": null,
   "id": "fd2efb82-711f-4d05-940a-781cd4e694cb",
   "metadata": {},
   "outputs": [],
   "source": [
    "X_demo['B01f'] = outlier_fix(X_demo)['B01']"
   ]
  },
  {
   "cell_type": "code",
   "execution_count": null,
   "id": "6acad9c0-0ec7-41f0-b38e-3c5e7a3a71a6",
   "metadata": {},
   "outputs": [],
   "source": [
    "X_demo = add_layers(X_demo)\n",
    "X_demo = replace_values(X_demo)\n",
    "\n",
    "#remove raw values\n",
    "#X_demo = X_demo.iloc[:, 12:]"
   ]
  },
  {
   "cell_type": "code",
   "execution_count": 13,
   "id": "ed440719-51b7-4e6a-9af8-70f408bfbd52",
   "metadata": {},
   "outputs": [
    {
     "data": {
      "text/plain": [
       "array([1, 1, 1, ..., 1, 1, 1])"
      ]
     },
     "execution_count": 13,
     "metadata": {},
     "output_type": "execute_result"
    }
   ],
   "source": [
    "demo_cluster = param.predict(X_demo.astype('double'))\n",
    "demo_cluster"
   ]
  },
  {
   "cell_type": "code",
   "execution_count": 21,
   "id": "ef53cd6b-6800-4d66-99af-0296445e17ac",
   "metadata": {},
   "outputs": [],
   "source": [
    "X_demo['clusters'] = demo_cluster"
   ]
  },
  {
   "cell_type": "code",
   "execution_count": 26,
   "id": "0581ceee-735f-4f79-90eb-11833e4051fc",
   "metadata": {},
   "outputs": [
    {
     "data": {
      "text/plain": [
       "Index(['B01', 'B02', 'B03', 'B04', 'B05', 'B06', 'B07', 'B08', 'B09', 'B11',\n",
       "       'B12', 'B8A', 'B01g', 'B02g', 'B03g', 'B04g', 'B05g', 'B06g', 'B07g',\n",
       "       'B08g', 'B09g', 'B11g', 'B12g', 'B8Ag', 'clusters'],\n",
       "      dtype='object')"
      ]
     },
     "execution_count": 26,
     "metadata": {},
     "output_type": "execute_result"
    }
   ],
   "source": [
    "X_demo.columns"
   ]
  },
  {
   "cell_type": "code",
   "execution_count": 23,
   "id": "05a92e47-db84-4313-94db-07895c522106",
   "metadata": {},
   "outputs": [],
   "source": [
    "#generate predictions\n",
    "demo_pred = forest.predict(X_demo)"
   ]
  },
  {
   "cell_type": "code",
   "execution_count": 24,
   "id": "4e3bcefe-d3c7-4604-9145-9b358732c460",
   "metadata": {},
   "outputs": [
    {
     "name": "stderr",
     "output_type": "stream",
     "text": [
      "C:\\Users\\fynn\\Documents\\anaconda\\lib\\site-packages\\sklearn\\metrics\\_classification.py:1987: UserWarning: y_pred contains classes not in y_true\n",
      "  warnings.warn(\"y_pred contains classes not in y_true\")\n"
     ]
    },
    {
     "name": "stdout",
     "output_type": "stream",
     "text": [
      "0.3810229316250391\n",
      "0.44853161904761907\n"
     ]
    },
    {
     "data": {
      "text/plain": [
       "<sklearn.metrics._plot.confusion_matrix.ConfusionMatrixDisplay at 0x25d082b1220>"
      ]
     },
     "execution_count": 24,
     "metadata": {},
     "output_type": "execute_result"
    },
    {
     "data": {
      "image/png": "[encoded data removed]",
      "text/plain": [
       "<Figure size 720x720 with 2 Axes>"
      ]
     },
     "metadata": {
      "needs_background": "light"
     },
     "output_type": "display_data"
    }
   ],
   "source": [
    "#accuracy\n",
    "print(balanced_accuracy_score(y_demo, demo_pred))\n",
    "print(accuracy_score(y_demo, demo_pred))\n",
    "\n",
    "#confusion matrix\n",
    "cm_forest = confusion_matrix(y_demo, demo_pred)\n",
    "cm_forest_fig = ConfusionMatrixDisplay(confusion_matrix = cm_forest, display_labels = forest.classes_)\n",
    "fig, ax = plt.subplots(figsize=(10,10))\n",
    "cm_forest_fig.plot(ax = ax)"
   ]
  },
  {
   "cell_type": "code",
   "execution_count": 25,
   "id": "3a25a835-ed77-4ef5-9bab-fd507d215c90",
   "metadata": {},
   "outputs": [
    {
     "data": {
      "image/png": "[encoded data removed]",
      "text/plain": [
       "<Figure size 432x288 with 1 Axes>"
      ]
     },
     "metadata": {
      "needs_background": "light"
     },
     "output_type": "display_data"
    }
   ],
   "source": [
    "#plot demo prediction map\n",
    "map_pred = np.asarray(demo_pred).reshape(2100, 2500)\n",
    "cmap = cm.get_cmap('jet', 15)    # 11 discrete colors\n",
    "prediction_map = plt.imshow(map_pred, cmap=cmap)"
   ]
  },
  {
   "cell_type": "code",
   "execution_count": null,
   "id": "c0427bc8-bf72-4325-a107-64bc4e15efa5",
   "metadata": {},
   "outputs": [],
   "source": [
    "X_plus = add_layers(X_demo)\n",
    "X_plus = replace_values(tor_plus)\n"
   ]
  },
  {
   "cell_type": "code",
   "execution_count": 27,
   "id": "b2b43fc1-f927-4aef-9268-a239a648ce54",
   "metadata": {},
   "outputs": [
    {
     "data": {
      "image/png": "[encoded data removed]",
      "text/plain": [
       "<Figure size 432x288 with 1 Axes>"
      ]
     },
     "metadata": {
      "needs_background": "light"
     },
     "output_type": "display_data"
    }
   ],
   "source": [
    "#plot demo prediction map\n",
    "map_pred = np.asarray(X_demo['clusters']).reshape(2100, 2500)\n",
    "cmap = cm.get_cmap('jet', 15)    # set discrete\n",
    "\n",
    "prediction_map = plt.imshow(map_pred, cmap=cmap)\n",
    "#prediction_map.figure.savefig(os.path.join(confusion_path, 'demo', 'true_detail.png'))"
   ]
  },
  {
   "cell_type": "code",
   "execution_count": null,
   "id": "55f6d984-f4e6-488a-bb8d-c4ff3331ece9",
   "metadata": {},
   "outputs": [],
   "source": [
    "#save confusion matrix\n",
    "cm_forest_fig.figure_.savefig(os.path.join(confusion_path, 'demo', 'version_12.png'))\n",
    "\n",
    "#save prediction map\n",
    "prediction_map.figure.savefig(os.path.join(confusion_path, 'demo', 'map_12.png'))"
   ]
  },
  {
   "cell_type": "markdown",
   "id": "827392e3-d0b2-4090-a8ad-706b789fdd37",
   "metadata": {
    "tags": []
   },
   "source": [
    "## SVC"
   ]
  },
  {
   "cell_type": "code",
   "execution_count": null,
   "id": "c13171bf-e89a-45e2-a959-f97ada3add3d",
   "metadata": {},
   "outputs": [],
   "source": [
    "#Different SVC kernels - sig performed less then 1 percent on subsample so its removed\n",
    "#linear = svm.SVC(kernel='linear', C=1, decision_function_shape='ovo').fit(X_train, y_train)\n",
    "#rbf = svm.SVC(kernel='rbf', gamma=1, C=1, decision_function_shape='ovo').fit(X_train, y_train)\n",
    "poly = svm.SVC(kernel='poly', degree=3, C=1, decision_function_shape='ovo').fit(X_train, y_train)\n",
    "#sig = svm.SVC(kernel='sigmoid', C=1, decision_function_shape='ovo').fit(X_train, y_train)"
   ]
  },
  {
   "cell_type": "code",
   "execution_count": null,
   "id": "591f1d3b-4998-4346-b66f-776b1660d7ec",
   "metadata": {},
   "outputs": [],
   "source": [
    "#predict from X_test\n",
    "#linear_pred = linear.predict(X_test)\n",
    "poly_pred = poly.predict(X_test)\n",
    "#rbf_pred = rbf.predict(X_test)\n",
    "#sig_pred = sig.predict(X_test)"
   ]
  },
  {
   "cell_type": "code",
   "execution_count": null,
   "id": "76a8b191-b653-4754-b2c4-b23552ea3eb3",
   "metadata": {
    "tags": []
   },
   "outputs": [],
   "source": [
    "# retrieve the accuracy and print it for all 4 kernel functions\n",
    "#accuracy_lin = linear.score(X_test, y_test)\n",
    "accuracy_poly = poly.score(X_test, y_test)\n",
    "#accuracy_rbf = rbf.score(X_test, y_test)\n",
    "#accuracy_sig = sig.score(X_test, y_test)\n",
    "\n",
    "# creating a confusion matrix\n",
    "#cm_lin = confusion_matrix(y_test, linear_pred)\n",
    "cm_poly = confusion_matrix(y_test, poly_pred)\n",
    "#cm_rbf = confusion_matrix(y_test, rbf_pred)\n",
    "#cm_sig = confusion_matrix(y_test, sig_pred)\n",
    "\n",
    "#visual confusion matrix\n",
    "#cm_lin_fig = ConfusionMatrixDisplay(confusion_matrix = cm_lin, display_labels = linear.classes_)\n",
    "cm_poly_fig = ConfusionMatrixDisplay(confusion_matrix = cm_poly, display_labels = poly.classes_)\n",
    "#cm_rbf_fig = ConfusionMatrixDisplay(confusion_matrix = cm_rbf, display_labels = rbf.classes_)\n",
    "\n",
    "#print accuracy and confusion matrix\n",
    "#print(accuracy_lin)\n",
    "#cm_lin_fig.plot()\n",
    "print(accuracy_poly)\n",
    "cm_poly_fig.plot()\n",
    "#print(accuracy_rbf)\n",
    "#cm_rbf_fig.plot()"
   ]
  },
  {
   "cell_type": "code",
   "execution_count": null,
   "id": "39b1ac35-5495-4312-89c6-a9aaf7cf1b9a",
   "metadata": {},
   "outputs": [],
   "source": [
    "#save confusion matrices\n",
    "cm_lin_fig.figure_.savefig(os.path.join(confusion_path, group_folder, 'lin.png'), dpi = 300)\n",
    "cm_poly_fig.figure_.savefig(os.path.join(confusion_path, group_folder, 'poly.png'), dpi = 300)\n",
    "cm_rbf_fig.figure_.savefig(os.path.join(confusion_path, group_folder, 'rbf.png'), dpi = 300)"
   ]
  },
  {
   "cell_type": "markdown",
   "id": "f32e938f-5ead-44e4-8d2c-ea177e634cae",
   "metadata": {},
   "source": [
    "## XGBoost"
   ]
  },
  {
   "cell_type": "code",
   "execution_count": null,
   "id": "4a501000-7405-4f6d-93ae-e6758a4be04f",
   "metadata": {},
   "outputs": [],
   "source": [
    "xg_classes = list(range(len(y_train.unique())))\n",
    "\n",
    "xg_y_train = y_train.replace(y_train.unique(), xg_classes)\n",
    "xg_y_test = y_test.replace(y_test.unique(), xg_classes)"
   ]
  },
  {
   "cell_type": "code",
   "execution_count": null,
   "id": "862fd707-e0c1-4a4d-86b6-147d805ff535",
   "metadata": {},
   "outputs": [],
   "source": [
    "xg_cl = xgb.XGBClassifier().fit(X_train, xg_y_train)\n",
    "\n",
    "#get accuracy\n",
    "accuracy_xgb = xg_cl.score(X_test, xg_y_test)\n",
    "print(accuracy_xgb)\n",
    "\n",
    "#plot confusion matrix\n",
    "xgb_pred = xg_cl.predict(X_test)\n",
    "cm_xgb = confusion_matrix(xg_y_test, xgb_pred)\n",
    "cm_xgb_fig = ConfusionMatrixDisplay(cm_xgb)\n",
    "cm_xgb_fig.plot()"
   ]
  },
  {
   "cell_type": "code",
   "execution_count": null,
   "id": "4f9bd23d-9c81-48ba-b4f5-8eb8f8439d9b",
   "metadata": {},
   "outputs": [],
   "source": [
    "#save\n",
    "cm_xgb_fig.figure_.savefig(os.path.join(confusion_path, group_folder, 'xgb.png'), dpi = 300)"
   ]
  }
 ],
 "metadata": {
  "kernelspec": {
   "display_name": "Python 3 (ipykernel)",
   "language": "python",
   "name": "python3"
  },
  "language_info": {
   "codemirror_mode": {
    "name": "ipython",
    "version": 3
   },
   "file_extension": ".py",
   "mimetype": "text/x-python",
   "name": "python",
   "nbconvert_exporter": "python",
   "pygments_lexer": "ipython3",
   "version": "3.9.7"
  }
 },
 "nbformat": 4,
 "nbformat_minor": 5
}
